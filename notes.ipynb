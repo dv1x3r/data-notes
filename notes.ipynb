{
 "metadata": {
  "language_info": {
   "codemirror_mode": {
    "name": "ipython",
    "version": 3
   },
   "file_extension": ".py",
   "mimetype": "text/x-python",
   "name": "python",
   "nbconvert_exporter": "python",
   "pygments_lexer": "ipython3",
   "version": "3.6.6-final"
  },
  "orig_nbformat": 2,
  "kernelspec": {
   "name": "Python 3.6.6 64-bit",
   "display_name": "Python 3.6.6 64-bit",
   "metadata": {
    "interpreter": {
     "hash": "2fecdcd6863b92aefa76565443762ffb8bbc20d0fb6c87ab8d39e7873e8a8a58"
    }
   }
  }
 },
 "nbformat": 4,
 "nbformat_minor": 2,
 "cells": [
  {
   "source": [
    "## Jupyter Shortcuts\n",
    "\n",
    "Command Mode (press Esc to enable) |\tEdit Mode (press Enter to enable)\n",
    "| --- | --- |\n",
    "F: find and replace |\tTab: code completion or indent\n",
    "Ctrl-Shift-P: open the command palette |\tShift-Tab: tooltip\n",
    "Enter: enter edit mode |\tCtrl-]: indent\n",
    "Shift-Enter: run cell, select below |\tCtrl-[: dedent\n",
    "Ctrl-Enter: run selected cells |\tCtrl-A: select all\n",
    "Alt-Enter: run cell, insert below |\tCtrl-Z: undo\n",
    "Y: to code |\tCtrl-Shift-Z: redo\n",
    "M: to markdown |\tCtrl-Y: redo\n",
    "R: to raw |\tCtrl-Home: go to cell start\n",
    "1: to heading 1 |\tCtrl-Up: go to cell start\n",
    "2: to heading 2 |\tCtrl-End: go to cell end\n",
    "3: to heading 3 |\tCtrl-Down: go to cell end\n",
    "4: to heading 4 |\tCtrl-Left: go one word left\n",
    "5: to heading 5 |\tCtrl-Right: go one word right\n",
    "6: to heading 6 |\tCtrl-Backspace: delete word before\n",
    "K: select cell above |\tCtrl-Delete: delete word after\n",
    "Up: select cell above |\tCtrl-M: command mode\n",
    "Down: select cell below |\tCtrl-Shift-P: open the command palette\n",
    "J: select cell below |\tEsc: command mode\n",
    "Shift-K: extend selected cells above |\tShift-Enter: run cell, select below\n",
    "Shift-Up: extend selected cells above |\tCtrl-Enter: run selected cells\n",
    "Shift-Down: extend selected cells below |\tAlt-Enter: run cell, insert below\n",
    "Shift-J: extend selected cells below |\tCtrl-Shift-Minus: split cell\n",
    "A: insert cell above |\tCtrl-S: Save and Checkpoint\n",
    "B: insert cell below |\tDown: move cursor down\n",
    "X: cut selected cells |\tUp: move cursor up\n",
    "C: copy selected cells\t|\n",
    "Shift-V: paste cells above\t|\n",
    "V: paste cells below\t|\n",
    "Z: undo cell deletion\t|\n",
    "D,D: delete selected cells\t|\n",
    "Shift-M: merge selected cells, or current cell with cell below if only one cell selected\t|\n",
    "Ctrl-S: Save and Checkpoint\t|\n",
    "S: Save and Checkpoint\t|\n",
    "L: toggle line numbers\t|\n",
    "O: toggle output of selected cells\t|\n",
    "Shift-O: toggle output scrolling of selected cells\t|\n",
    "H: show keyboard shortcuts\t|\n",
    "I,I: interrupt kernel\t|\n",
    "0,0: restart the kernel (with dialog)\t|\n",
    "Esc: close the pager\t|\n",
    "Q: close the pager\t|\n",
    "Shift-Space: scroll notebook up\t|\n",
    "Space: scroll notebook down\t|\n"
   ],
   "cell_type": "markdown",
   "metadata": {}
  },
  {
   "source": [
    "## Cleaning and Preparing\n",
    "| Description | Syntax |\n",
    "| --- | --- |\n",
    "Replace substring within a string |                                     <string\\>.replace(<substring\\>, <string\\>)\n",
    "Convert to title cases (capitalize every letter after every dot) |      <string\\>.title()\n",
    "Check a string for the existence of a substring |                       if <substring\\> in <string\\>\n",
    "Split a string into a list of strings |                                 <string\\>.split(<separator\\>)\n",
    "Slice characters from a string by position |                            <string\\>[:5\\]"
   ],
   "cell_type": "markdown",
   "metadata": {}
  },
  {
   "source": [
    "## Basis\n",
    "| Description | Syntax |\n",
    "| --- | --- |\n",
    "Insert values into a string in order |                                      \"{} {}\".format(<value\\>, <value\\>)\n",
    "Insert values into a string by position |                                   \"{0} {1}\".format(<value\\>, <value\\>)\n",
    "Insert values into a string by name |                                       \"{name}\".format(name=\"<value\\>\")\n",
    "Format specification for precision of two decimal places |                  \"{:.2f}\".format(<float\\>)\n",
    "Order for format specification when using precision and comma separator |   \"{:,.2f}\".format(<float\\>)"
   ],
   "cell_type": "markdown",
   "metadata": {}
  },
  {
   "source": [
    "## Object-Oriented"
   ],
   "cell_type": "markdown",
   "metadata": {}
  },
  {
   "cell_type": "code",
   "execution_count": 1,
   "metadata": {
    "tags": []
   },
   "outputs": [
    {
     "output_type": "stream",
     "name": "stdout",
     "text": "30\n"
    }
   ],
   "source": [
    "class MyClass():\n",
    "\tdef __init__(self, param_1):\n",
    "\t\tself.attribute_1 = param_1\n",
    "\tdef add_20(self):\n",
    "\t\tself.attribute_1 += 20\n",
    "\n",
    "mc = MyClass(10)\n",
    "mc.add_20()\n",
    "print(mc.attribute_1)"
   ]
  },
  {
   "source": [
    "## Importing\n",
    "| Description | Syntax |\n",
    "| --- | --- |\n",
    "Importing a whole module |                  import csv\n",
    "Importing a whole module with an alias |    import csv as c\n",
    "Importing a single definition |             from csv import reader\n",
    "Importing multiple definitions |            from csv import reader, writer\n",
    "Importing all definitions |                 from csv import *"
   ],
   "cell_type": "markdown",
   "metadata": {}
  },
  {
   "source": [
    "## Dates and Times\n",
    "| Description | Syntax |\n",
    "| --- | --- |\n",
    "Import module |                         import datetime as dt\n",
    "Instantiating dt.datetime |             dt.datetime(<year\\>, <month\\>, <day\\>)\n",
    "Creating dt.datetime from a string |    dt.datetime.strptime(\"<day\\>/<month\\>/<year\\>\", \"%d/%m/%Y\")\n",
    "Converting dt.datetime to a string |    dt_object.strftime(\"%d/%m/%Y\")\n",
    "Instantiating a dt.time |               dt.time(hour=<int\\>, minute=<int\\>, second=<int\\>, microsecond=<int\\>)\n",
    "Retrieving a part of a date |           dt_object.day\n",
    "Retrieving a date |                     dt_object.date()\n",
    "Instantiating a dt.timedelta |          dt.timedelta(weeks=3)\n",
    "\n",
    "### dt.strptime formats\n",
    "| Format | Description |\n",
    "| --- | --- |\n",
    "%d |\tDay of the month as a zero-padded number\n",
    "%A |\tDay of the week as a word\n",
    "%m |\tMonth as a zero-padded number\n",
    "%Y |\tYear as four-digit number\n",
    "%y |\tYear as two-digit number with zero-padding\n",
    "%B |\tMonth as a word\n",
    "%H |\tHour in 24 hour time as zero-padded number\n",
    "%p |\ta.m. or p.m.\n",
    "%I |\tHour in 12 hour time as zero-padded number\n",
    "%M |\tMinute as a zero-padded number\n",
    "\n",
    "### Operations\n",
    "| Operation | Type |\n",
    "| --- | --- |\n",
    "datetime - datetime |\ttimedelta\n",
    "datetime - timedelta |\tdatetime\n",
    "datetime + timedelta |\tdatetime\n",
    "timedelta + timedelta |\ttimedelta\n",
    "timedelta - timedelta |\ttimedelta"
   ],
   "cell_type": "markdown",
   "metadata": {}
  },
  {
   "source": [
    "## NumPy\n",
    "| Description | Syntax |\n",
    "| --- | --- |\n",
    "Import module |                             import numpy as np\n",
    "Convert a list of lists into a ndarray |    np.array(list(csv.reader(open(<file\\>, \"r\"))))\n",
    "Selecting a row from an ndarray |\t\t\tndarr[1\\]\n",
    "Selecting multiple rows from an ndarray |\tndarr[1:\\]\n",
    "Selecting a specific item from an ndarray |\tndarr[1,1\\]\n",
    "Selecting multiple columns |\t\t\t\tndarr[:,1:3\\] \\| ndarr[:, [1,2\\]\\]\n",
    "Selecting a 2D slice |\t\t\t\t\t\tndarr[1:4,:3\\]\n",
    "\n",
    "### 1-D statistics\n",
    "* Vector math: + - * /\n",
    "* ndarray.min()\n",
    "* ndarray.max()\n",
    "* ndarray.mean()\n",
    "* ndarray.sum()"
   ],
   "cell_type": "markdown",
   "metadata": {}
  },
  {
   "source": [
    "## Boolean Indexing\n",
    "| Description | Syntax |\n",
    "| --- | --- |\n",
    "Reading in a CSV file |                             np.genfromtxt('.csv', delimiter=',', skip_header=1)\n",
    "Creating a Boolean array from filtering criteria |  np.array([2,4,6,8\\]) < 5\n",
    "Boolean filtering for 1D ndarray |                  a = np.array([2,4,6,8\\]) \\| a[a < 5\\]\n",
    "Boolean filtering for 2D ndarray |                  ndarr[ndarr[:,12\\] > 50\\]\n",
    "Assigning values in a 2D ndarray using indices |    ndarr[1,1\\] = 1 \\| ndarr[:,0\\] = 1 \\| ndarr[:,7\\] = ndarr[:,7\\].mean()\n",
    "Assigning values using Boolean arrays |             ndarr[ndarr[:,5\\] == 2, 15\\] = 1"
   ],
   "cell_type": "markdown",
   "metadata": {}
  },
  {
   "source": [
    "## Pandas\n",
    "| Description | Syntax |\n",
    "| --- | --- |\n",
    "Reading a file into a dataframe |                               pd.read_csv('.csv', index_col=0, encoding='') \\| Latin-1 \\| UTF-8 \\| Windows-1251\n",
    "Returning a dataframe's data types |                            df.dtypes\n",
    "Returning the dimensions of a dataframe |                       dt.shape\n",
    "Selecting the first n rows |                                    df.head(5)\n",
    "Selecting a single column |                                     df['col'\\]\n",
    "Selecting multiple columns |                                    df[['col', 'col2'\\]\\]\n",
    "Shorthand Convention for columns |                              df['col'\\] \\| df[['col', 'col2'\\]\\]\n",
    "Shorthand Convention for rows |                                 df['row':'row3'\\]\n",
    "Selecting rows by label |                                       df.loc[<row_labels\\>, [column_labels\\]\\]\n",
    "Selecting rows by index |                                       df.iloc[<row_index\\>, [column_index\\]\\]\n",
    "Describing a series object |                                    s.describe()\n",
    "Unique value counts for a column |                              s.unique() \\| s.value_counts()\n",
    "Selecting null and non-null values |                            s.isnull() \\| s.notnull()\n",
    "In operator |                                                   df['col'\\].isin(['val1', 'val2'\\])\n",
    "Between method |                                                df['col'\\].between(val1, val2)\n",
    "Updating values using Boolean filtering |                       f500.loc[f500['previous_rank'\\] == 0, 'previous_rank'\\] = np.nan\n",
    "Method chaining |                                               prev_rank_after = f500['previous_rank'\\].value_counts(dropna=False).head()\n",
    "Renaming an existing column |                                   df.rename(columns={'src_name': 'dest_name'}, inplace=True)\n",
    "Dropping an existing column |                                   df.drop(columns=['src_name'\\], inplace=True)\n",
    "Converting a string column to float / int |                     s.str.replace('\"', '').astype(float) \\| int\n",
    "Extracting values from strings (first word) |                   s.str.split().str[0\\]\n",
    "Replacing values using a mapping dict |                         s.map({ 'src_name': 'dest_name' })\n",
    "Dropping missing values |                                       df.dropna(axis=0)\n",
    "Exporting cleaned data |                                        df.to_csv('.csv', index=False)\n",
    "Sorting by index column |                                       df.sort_index(ascending=False)\n",
    "Sorting by column values |                                      s.sort_values()\n",
    "Dictionary to series |                                          pd.Series(dict)\n",
    "Series to frame |                                               s.to_frame('col_name')\n",
    "Add column |                                                    df.assign(col_name = s)"
   ],
   "cell_type": "markdown",
   "metadata": {}
  }
 ]
}