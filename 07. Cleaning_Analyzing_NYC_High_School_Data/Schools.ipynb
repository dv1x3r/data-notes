{
 "cells": [
  {
   "cell_type": "markdown",
   "metadata": {},
   "source": [
    "# Guided Project: Analyzing NYC High School Data"
   ]
  },
  {
   "cell_type": "markdown",
   "metadata": {},
   "source": [
    "## Read in the data"
   ]
  },
  {
   "cell_type": "code",
   "execution_count": 1,
   "metadata": {
    "collapsed": true
   },
   "outputs": [],
   "source": [
    "import pandas as pd\n",
    "import numpy as np\n",
    "import re\n",
    "\n",
    "data_files = [\n",
    "    \"ap_2010.csv\", # Advanced Placement (AP) exam results for each high school (passing an optional AP exam in a particular subject can earn a student college credit in that subject)\n",
    "    \"class_size.csv\", # Information on class size for each school\n",
    "    \"demographics.csv\", # Demographic information for each school\n",
    "    \"graduation.csv\", # The percentage of students who graduated, and other outcome information\n",
    "    \"hs_directory.csv\", # High school attributes \n",
    "    \"sat_results.csv\" # SAT scores for each high school in New York City\n",
    "]\n",
    "\n",
    "data = {}\n",
    "\n",
    "for f in data_files:\n",
    "    d = pd.read_csv(\"schools/{0}\".format(f))\n",
    "    data[f.replace(\".csv\", \"\")] = d"
   ]
  },
  {
   "cell_type": "markdown",
   "metadata": {},
   "source": [
    "## Read in the surveys"
   ]
  },
  {
   "cell_type": "code",
   "execution_count": 2,
   "metadata": {
    "collapsed": false
   },
   "outputs": [],
   "source": [
    "all_survey = pd.read_csv(\"schools/survey_all.txt\", delimiter=\"\\t\", encoding='windows-1252')\n",
    "d75_survey = pd.read_csv(\"schools/survey_d75.txt\", delimiter=\"\\t\", encoding='windows-1252')\n",
    "survey = pd.concat([all_survey, d75_survey], axis=0)\n",
    "\n",
    "survey[\"DBN\"] = survey[\"dbn\"]\n",
    "\n",
    "survey_fields = [\n",
    "    \"DBN\", \n",
    "    \"rr_s\", \n",
    "    \"rr_t\", \n",
    "    \"rr_p\", \n",
    "    \"N_s\", \n",
    "    \"N_t\", \n",
    "    \"N_p\", \n",
    "    \"saf_p_11\", \n",
    "    \"com_p_11\", \n",
    "    \"eng_p_11\", \n",
    "    \"aca_p_11\", \n",
    "    \"saf_t_11\", \n",
    "    \"com_t_11\", \n",
    "    \"eng_t_11\", \n",
    "    \"aca_t_11\", \n",
    "    \"saf_s_11\", \n",
    "    \"com_s_11\", \n",
    "    \"eng_s_11\", \n",
    "    \"aca_s_11\", \n",
    "    \"saf_tot_11\", \n",
    "    \"com_tot_11\", \n",
    "    \"eng_tot_11\", \n",
    "    \"aca_tot_11\",\n",
    "]\n",
    "\n",
    "survey = survey[survey_fields]\n",
    "data[\"survey\"] = survey"
   ]
  },
  {
   "cell_type": "markdown",
   "metadata": {},
   "source": [
    "## Add DBN columns"
   ]
  },
  {
   "cell_type": "code",
   "execution_count": 3,
   "metadata": {
    "collapsed": false
   },
   "outputs": [
    {
     "data": {
      "text/plain": [
       "0    17K548\n",
       "1    09X543\n",
       "2    09X327\n",
       "3    02M280\n",
       "4    28Q680\n",
       "Name: DBN, dtype: object"
      ]
     },
     "execution_count": 3,
     "metadata": {},
     "output_type": "execute_result"
    }
   ],
   "source": [
    "data[\"hs_directory\"][\"DBN\"] = data[\"hs_directory\"][\"dbn\"]\n",
    "data[\"hs_directory\"][\"DBN\"].head()"
   ]
  },
  {
   "cell_type": "code",
   "execution_count": 4,
   "metadata": {
    "collapsed": false
   },
   "outputs": [
    {
     "data": {
      "text/plain": [
       "0    01M015\n",
       "1    01M015\n",
       "2    01M015\n",
       "3    01M015\n",
       "4    01M015\n",
       "Name: DBN, dtype: object"
      ]
     },
     "execution_count": 4,
     "metadata": {},
     "output_type": "execute_result"
    }
   ],
   "source": [
    "data[\"class_size\"][\"padded_csd\"] = data[\"class_size\"][\"CSD\"].astype(str).str.zfill(2)\n",
    "data[\"class_size\"][\"DBN\"] = data[\"class_size\"][\"padded_csd\"] + data[\"class_size\"][\"SCHOOL CODE\"]\n",
    "data[\"class_size\"][\"DBN\"].head()"
   ]
  },
  {
   "cell_type": "markdown",
   "metadata": {},
   "source": [
    "## Convert columns to numeric"
   ]
  },
  {
   "cell_type": "code",
   "execution_count": 5,
   "metadata": {
    "collapsed": false,
    "scrolled": true
   },
   "outputs": [
    {
     "data": {
      "text/html": [
       "<div>\n",
       "<style scoped>\n",
       "    .dataframe tbody tr th:only-of-type {\n",
       "        vertical-align: middle;\n",
       "    }\n",
       "\n",
       "    .dataframe tbody tr th {\n",
       "        vertical-align: top;\n",
       "    }\n",
       "\n",
       "    .dataframe thead th {\n",
       "        text-align: right;\n",
       "    }\n",
       "</style>\n",
       "<table border=\"1\" class=\"dataframe\">\n",
       "  <thead>\n",
       "    <tr style=\"text-align: right;\">\n",
       "      <th></th>\n",
       "      <th>SAT Math Avg. Score</th>\n",
       "      <th>SAT Critical Reading Avg. Score</th>\n",
       "      <th>SAT Writing Avg. Score</th>\n",
       "      <th>sat_score</th>\n",
       "    </tr>\n",
       "  </thead>\n",
       "  <tbody>\n",
       "    <tr>\n",
       "      <th>0</th>\n",
       "      <td>404.0</td>\n",
       "      <td>355.0</td>\n",
       "      <td>363.0</td>\n",
       "      <td>1122.0</td>\n",
       "    </tr>\n",
       "    <tr>\n",
       "      <th>1</th>\n",
       "      <td>423.0</td>\n",
       "      <td>383.0</td>\n",
       "      <td>366.0</td>\n",
       "      <td>1172.0</td>\n",
       "    </tr>\n",
       "    <tr>\n",
       "      <th>2</th>\n",
       "      <td>402.0</td>\n",
       "      <td>377.0</td>\n",
       "      <td>370.0</td>\n",
       "      <td>1149.0</td>\n",
       "    </tr>\n",
       "    <tr>\n",
       "      <th>3</th>\n",
       "      <td>401.0</td>\n",
       "      <td>414.0</td>\n",
       "      <td>359.0</td>\n",
       "      <td>1174.0</td>\n",
       "    </tr>\n",
       "    <tr>\n",
       "      <th>4</th>\n",
       "      <td>433.0</td>\n",
       "      <td>390.0</td>\n",
       "      <td>384.0</td>\n",
       "      <td>1207.0</td>\n",
       "    </tr>\n",
       "  </tbody>\n",
       "</table>\n",
       "</div>"
      ],
      "text/plain": [
       "   SAT Math Avg. Score  SAT Critical Reading Avg. Score  \\\n",
       "0                404.0                            355.0   \n",
       "1                423.0                            383.0   \n",
       "2                402.0                            377.0   \n",
       "3                401.0                            414.0   \n",
       "4                433.0                            390.0   \n",
       "\n",
       "   SAT Writing Avg. Score  sat_score  \n",
       "0                   363.0     1122.0  \n",
       "1                   366.0     1172.0  \n",
       "2                   370.0     1149.0  \n",
       "3                   359.0     1174.0  \n",
       "4                   384.0     1207.0  "
      ]
     },
     "execution_count": 5,
     "metadata": {},
     "output_type": "execute_result"
    }
   ],
   "source": [
    "cols = ['SAT Math Avg. Score', 'SAT Critical Reading Avg. Score', 'SAT Writing Avg. Score']\n",
    "data[\"sat_results\"][cols] = data[\"sat_results\"][cols].apply(pd.to_numeric, errors='coerce')\n",
    "data['sat_results']['sat_score'] = data['sat_results'][cols].sum(axis=1, skipna=False)\n",
    "data['sat_results'][cols + ['sat_score']].head()"
   ]
  },
  {
   "cell_type": "code",
   "execution_count": 6,
   "metadata": {
    "collapsed": false
   },
   "outputs": [
    {
     "data": {
      "text/plain": [
       "0"
      ]
     },
     "execution_count": 6,
     "metadata": {},
     "output_type": "execute_result"
    }
   ],
   "source": [
    "(data['sat_results']['sat_score'] == 0).sum()"
   ]
  },
  {
   "cell_type": "code",
   "execution_count": 7,
   "metadata": {
    "collapsed": false,
    "scrolled": true
   },
   "outputs": [
    {
     "data": {
      "text/html": [
       "<div>\n",
       "<style scoped>\n",
       "    .dataframe tbody tr th:only-of-type {\n",
       "        vertical-align: middle;\n",
       "    }\n",
       "\n",
       "    .dataframe tbody tr th {\n",
       "        vertical-align: top;\n",
       "    }\n",
       "\n",
       "    .dataframe thead th {\n",
       "        text-align: right;\n",
       "    }\n",
       "</style>\n",
       "<table border=\"1\" class=\"dataframe\">\n",
       "  <thead>\n",
       "    <tr style=\"text-align: right;\">\n",
       "      <th></th>\n",
       "      <th>Location 1</th>\n",
       "      <th>lat</th>\n",
       "      <th>lon</th>\n",
       "    </tr>\n",
       "  </thead>\n",
       "  <tbody>\n",
       "    <tr>\n",
       "      <th>0</th>\n",
       "      <td>883 Classon Avenue\\nBrooklyn, NY 11225\\n(40.67029890700047, -73.96164787599963)</td>\n",
       "      <td>40.670299</td>\n",
       "      <td>-73.961648</td>\n",
       "    </tr>\n",
       "    <tr>\n",
       "      <th>1</th>\n",
       "      <td>1110 Boston Road\\nBronx, NY 10456\\n(40.8276026690005, -73.90447525699966)</td>\n",
       "      <td>40.827603</td>\n",
       "      <td>-73.904475</td>\n",
       "    </tr>\n",
       "    <tr>\n",
       "      <th>2</th>\n",
       "      <td>1501 Jerome Avenue\\nBronx, NY 10452\\n(40.842414068000494, -73.91616158599965)</td>\n",
       "      <td>40.842414</td>\n",
       "      <td>-73.916162</td>\n",
       "    </tr>\n",
       "    <tr>\n",
       "      <th>3</th>\n",
       "      <td>411 Pearl Street\\nNew York, NY 10038\\n(40.71067947100045, -74.00080702099967)</td>\n",
       "      <td>40.710679</td>\n",
       "      <td>-74.000807</td>\n",
       "    </tr>\n",
       "    <tr>\n",
       "      <th>4</th>\n",
       "      <td>160-20 Goethals Avenue\\nJamaica, NY 11432\\n(40.718810094000446, -73.80650045499965)</td>\n",
       "      <td>40.718810</td>\n",
       "      <td>-73.806500</td>\n",
       "    </tr>\n",
       "  </tbody>\n",
       "</table>\n",
       "</div>"
      ],
      "text/plain": [
       "                                                                            Location 1  \\\n",
       "0      883 Classon Avenue\\nBrooklyn, NY 11225\\n(40.67029890700047, -73.96164787599963)   \n",
       "1            1110 Boston Road\\nBronx, NY 10456\\n(40.8276026690005, -73.90447525699966)   \n",
       "2        1501 Jerome Avenue\\nBronx, NY 10452\\n(40.842414068000494, -73.91616158599965)   \n",
       "3        411 Pearl Street\\nNew York, NY 10038\\n(40.71067947100045, -74.00080702099967)   \n",
       "4  160-20 Goethals Avenue\\nJamaica, NY 11432\\n(40.718810094000446, -73.80650045499965)   \n",
       "\n",
       "         lat        lon  \n",
       "0  40.670299 -73.961648  \n",
       "1  40.827603 -73.904475  \n",
       "2  40.842414 -73.916162  \n",
       "3  40.710679 -74.000807  \n",
       "4  40.718810 -73.806500  "
      ]
     },
     "execution_count": 7,
     "metadata": {},
     "output_type": "execute_result"
    }
   ],
   "source": [
    "pd.options.display.max_colwidth = 100\n",
    "coord = data[\"hs_directory\"][\"Location 1\"].str.extract(r'\\((.+), (.+)\\)', expand=False)\n",
    "data[\"hs_directory\"][['lat', 'lon']] = coord.apply(pd.to_numeric, errors='coerce')\n",
    "data[\"hs_directory\"][[\"Location 1\", 'lat', 'lon']].head()"
   ]
  },
  {
   "cell_type": "markdown",
   "metadata": {},
   "source": [
    "## Condense datasets"
   ]
  },
  {
   "cell_type": "code",
   "execution_count": 8,
   "metadata": {
    "collapsed": false
   },
   "outputs": [],
   "source": [
    "class_size = data[\"class_size\"]\n",
    "class_size = class_size[class_size[\"GRADE \"] == \"09-12\"]\n",
    "class_size = class_size[class_size[\"PROGRAM TYPE\"] == \"GEN ED\"]\n",
    "\n",
    "class_size = class_size.groupby(\"DBN\").agg(np.mean)\n",
    "class_size = class_size.reset_index()\n",
    "data[\"class_size_grouped\"] = class_size\n",
    "\n",
    "data[\"demographics\"] = data[\"demographics\"][data[\"demographics\"][\"schoolyear\"] == 20112012]\n",
    "\n",
    "data[\"graduation\"] = data[\"graduation\"][data[\"graduation\"][\"Cohort\"] == \"2006\"]\n",
    "data[\"graduation\"] = data[\"graduation\"][data[\"graduation\"][\"Demographic\"] == \"Total Cohort\"]"
   ]
  },
  {
   "cell_type": "markdown",
   "metadata": {},
   "source": [
    "## Convert AP scores to numeric"
   ]
  },
  {
   "cell_type": "code",
   "execution_count": 9,
   "metadata": {
    "collapsed": false
   },
   "outputs": [
    {
     "data": {
      "text/html": [
       "<div>\n",
       "<style scoped>\n",
       "    .dataframe tbody tr th:only-of-type {\n",
       "        vertical-align: middle;\n",
       "    }\n",
       "\n",
       "    .dataframe tbody tr th {\n",
       "        vertical-align: top;\n",
       "    }\n",
       "\n",
       "    .dataframe thead th {\n",
       "        text-align: right;\n",
       "    }\n",
       "</style>\n",
       "<table border=\"1\" class=\"dataframe\">\n",
       "  <thead>\n",
       "    <tr style=\"text-align: right;\">\n",
       "      <th></th>\n",
       "      <th>AP Test Takers</th>\n",
       "      <th>Total Exams Taken</th>\n",
       "      <th>Number of Exams with scores 3 4 or 5</th>\n",
       "    </tr>\n",
       "  </thead>\n",
       "  <tbody>\n",
       "    <tr>\n",
       "      <th>0</th>\n",
       "      <td>39.0</td>\n",
       "      <td>49.0</td>\n",
       "      <td>10.0</td>\n",
       "    </tr>\n",
       "    <tr>\n",
       "      <th>1</th>\n",
       "      <td>19.0</td>\n",
       "      <td>21.0</td>\n",
       "      <td>NaN</td>\n",
       "    </tr>\n",
       "    <tr>\n",
       "      <th>2</th>\n",
       "      <td>24.0</td>\n",
       "      <td>26.0</td>\n",
       "      <td>24.0</td>\n",
       "    </tr>\n",
       "    <tr>\n",
       "      <th>3</th>\n",
       "      <td>255.0</td>\n",
       "      <td>377.0</td>\n",
       "      <td>191.0</td>\n",
       "    </tr>\n",
       "    <tr>\n",
       "      <th>4</th>\n",
       "      <td>NaN</td>\n",
       "      <td>NaN</td>\n",
       "      <td>NaN</td>\n",
       "    </tr>\n",
       "  </tbody>\n",
       "</table>\n",
       "</div>"
      ],
      "text/plain": [
       "   AP Test Takers   Total Exams Taken  Number of Exams with scores 3 4 or 5\n",
       "0             39.0               49.0                                  10.0\n",
       "1             19.0               21.0                                   NaN\n",
       "2             24.0               26.0                                  24.0\n",
       "3            255.0              377.0                                 191.0\n",
       "4              NaN                NaN                                   NaN"
      ]
     },
     "execution_count": 9,
     "metadata": {},
     "output_type": "execute_result"
    }
   ],
   "source": [
    "cols = ['AP Test Takers ', 'Total Exams Taken', 'Number of Exams with scores 3 4 or 5']\n",
    "data[\"ap_2010\"][cols] = data[\"ap_2010\"][cols].apply(pd.to_numeric, errors='coerce')\n",
    "data[\"ap_2010\"][cols].head()"
   ]
  },
  {
   "cell_type": "markdown",
   "metadata": {},
   "source": [
    "## Combine the datasets"
   ]
  },
  {
   "cell_type": "code",
   "execution_count": 10,
   "metadata": {
    "collapsed": false
   },
   "outputs": [
    {
     "data": {
      "text/html": [
       "<div>\n",
       "<style scoped>\n",
       "    .dataframe tbody tr th:only-of-type {\n",
       "        vertical-align: middle;\n",
       "    }\n",
       "\n",
       "    .dataframe tbody tr th {\n",
       "        vertical-align: top;\n",
       "    }\n",
       "\n",
       "    .dataframe thead th {\n",
       "        text-align: right;\n",
       "    }\n",
       "</style>\n",
       "<table border=\"1\" class=\"dataframe\">\n",
       "  <thead>\n",
       "    <tr style=\"text-align: right;\">\n",
       "      <th></th>\n",
       "      <th>DBN</th>\n",
       "      <th>SCHOOL NAME</th>\n",
       "      <th>Num of SAT Test Takers</th>\n",
       "      <th>SAT Critical Reading Avg. Score</th>\n",
       "      <th>SAT Math Avg. Score</th>\n",
       "      <th>SAT Writing Avg. Score</th>\n",
       "      <th>sat_score</th>\n",
       "      <th>SchoolName</th>\n",
       "      <th>AP Test Takers</th>\n",
       "      <th>Total Exams Taken</th>\n",
       "      <th>...</th>\n",
       "      <th>priority04</th>\n",
       "      <th>priority05</th>\n",
       "      <th>priority06</th>\n",
       "      <th>priority07</th>\n",
       "      <th>priority08</th>\n",
       "      <th>priority09</th>\n",
       "      <th>priority10</th>\n",
       "      <th>Location 1</th>\n",
       "      <th>lat</th>\n",
       "      <th>lon</th>\n",
       "    </tr>\n",
       "  </thead>\n",
       "  <tbody>\n",
       "    <tr>\n",
       "      <th>0</th>\n",
       "      <td>01M292</td>\n",
       "      <td>HENRY STREET SCHOOL FOR INTERNATIONAL STUDIES</td>\n",
       "      <td>29</td>\n",
       "      <td>355.0</td>\n",
       "      <td>404.0</td>\n",
       "      <td>363.0</td>\n",
       "      <td>1122.0</td>\n",
       "      <td>0</td>\n",
       "      <td>129.028846</td>\n",
       "      <td>197.038462</td>\n",
       "      <td>...</td>\n",
       "      <td>Then to Manhattan students or residents</td>\n",
       "      <td>Then to New York City residents</td>\n",
       "      <td>0</td>\n",
       "      <td>0</td>\n",
       "      <td>0</td>\n",
       "      <td>0</td>\n",
       "      <td>0</td>\n",
       "      <td>220 Henry Street\\nNew York, NY 10002\\n(40.71376394700047, -73.98526003999967)</td>\n",
       "      <td>40.713764</td>\n",
       "      <td>-73.985260</td>\n",
       "    </tr>\n",
       "    <tr>\n",
       "      <th>1</th>\n",
       "      <td>01M448</td>\n",
       "      <td>UNIVERSITY NEIGHBORHOOD HIGH SCHOOL</td>\n",
       "      <td>91</td>\n",
       "      <td>383.0</td>\n",
       "      <td>423.0</td>\n",
       "      <td>366.0</td>\n",
       "      <td>1172.0</td>\n",
       "      <td>UNIVERSITY NEIGHBORHOOD H.S.</td>\n",
       "      <td>39.000000</td>\n",
       "      <td>49.000000</td>\n",
       "      <td>...</td>\n",
       "      <td>0</td>\n",
       "      <td>0</td>\n",
       "      <td>0</td>\n",
       "      <td>0</td>\n",
       "      <td>0</td>\n",
       "      <td>0</td>\n",
       "      <td>0</td>\n",
       "      <td>200 Monroe Street\\nNew York, NY 10002\\n(40.7123318510005, -73.98479662499966)</td>\n",
       "      <td>40.712332</td>\n",
       "      <td>-73.984797</td>\n",
       "    </tr>\n",
       "    <tr>\n",
       "      <th>2</th>\n",
       "      <td>01M450</td>\n",
       "      <td>EAST SIDE COMMUNITY SCHOOL</td>\n",
       "      <td>70</td>\n",
       "      <td>377.0</td>\n",
       "      <td>402.0</td>\n",
       "      <td>370.0</td>\n",
       "      <td>1149.0</td>\n",
       "      <td>EAST SIDE COMMUNITY HS</td>\n",
       "      <td>19.000000</td>\n",
       "      <td>21.000000</td>\n",
       "      <td>...</td>\n",
       "      <td>0</td>\n",
       "      <td>0</td>\n",
       "      <td>0</td>\n",
       "      <td>0</td>\n",
       "      <td>0</td>\n",
       "      <td>0</td>\n",
       "      <td>0</td>\n",
       "      <td>420 East 12 Street\\nNew York, NY 10009\\n(40.729782687000466, -73.98304144099967)</td>\n",
       "      <td>40.729783</td>\n",
       "      <td>-73.983041</td>\n",
       "    </tr>\n",
       "    <tr>\n",
       "      <th>3</th>\n",
       "      <td>01M509</td>\n",
       "      <td>MARTA VALLE HIGH SCHOOL</td>\n",
       "      <td>44</td>\n",
       "      <td>390.0</td>\n",
       "      <td>433.0</td>\n",
       "      <td>384.0</td>\n",
       "      <td>1207.0</td>\n",
       "      <td>0</td>\n",
       "      <td>129.028846</td>\n",
       "      <td>197.038462</td>\n",
       "      <td>...</td>\n",
       "      <td>0</td>\n",
       "      <td>0</td>\n",
       "      <td>0</td>\n",
       "      <td>0</td>\n",
       "      <td>0</td>\n",
       "      <td>0</td>\n",
       "      <td>0</td>\n",
       "      <td>145 Stanton Street\\nNew York, NY 10002\\n(40.720569079000484, -73.98567269099965)</td>\n",
       "      <td>40.720569</td>\n",
       "      <td>-73.985673</td>\n",
       "    </tr>\n",
       "    <tr>\n",
       "      <th>4</th>\n",
       "      <td>01M539</td>\n",
       "      <td>NEW EXPLORATIONS INTO SCIENCE, TECHNOLOGY AND MATH HIGH SCHOOL</td>\n",
       "      <td>159</td>\n",
       "      <td>522.0</td>\n",
       "      <td>574.0</td>\n",
       "      <td>525.0</td>\n",
       "      <td>1621.0</td>\n",
       "      <td>NEW EXPLORATIONS SCI,TECH,MATH</td>\n",
       "      <td>255.000000</td>\n",
       "      <td>377.000000</td>\n",
       "      <td>...</td>\n",
       "      <td>0</td>\n",
       "      <td>0</td>\n",
       "      <td>0</td>\n",
       "      <td>0</td>\n",
       "      <td>0</td>\n",
       "      <td>0</td>\n",
       "      <td>0</td>\n",
       "      <td>111 Columbia Street\\nNew York, NY 10002\\n(40.718725451000466, -73.97942638599966)</td>\n",
       "      <td>40.718725</td>\n",
       "      <td>-73.979426</td>\n",
       "    </tr>\n",
       "  </tbody>\n",
       "</table>\n",
       "<p>5 rows × 159 columns</p>\n",
       "</div>"
      ],
      "text/plain": [
       "      DBN                                                     SCHOOL NAME  \\\n",
       "0  01M292                   HENRY STREET SCHOOL FOR INTERNATIONAL STUDIES   \n",
       "1  01M448                             UNIVERSITY NEIGHBORHOOD HIGH SCHOOL   \n",
       "2  01M450                                      EAST SIDE COMMUNITY SCHOOL   \n",
       "3  01M509                                         MARTA VALLE HIGH SCHOOL   \n",
       "4  01M539  NEW EXPLORATIONS INTO SCIENCE, TECHNOLOGY AND MATH HIGH SCHOOL   \n",
       "\n",
       "  Num of SAT Test Takers  SAT Critical Reading Avg. Score  \\\n",
       "0                     29                            355.0   \n",
       "1                     91                            383.0   \n",
       "2                     70                            377.0   \n",
       "3                     44                            390.0   \n",
       "4                    159                            522.0   \n",
       "\n",
       "   SAT Math Avg. Score  SAT Writing Avg. Score  sat_score  \\\n",
       "0                404.0                   363.0     1122.0   \n",
       "1                423.0                   366.0     1172.0   \n",
       "2                402.0                   370.0     1149.0   \n",
       "3                433.0                   384.0     1207.0   \n",
       "4                574.0                   525.0     1621.0   \n",
       "\n",
       "                       SchoolName  AP Test Takers   Total Exams Taken  \\\n",
       "0                               0       129.028846         197.038462   \n",
       "1    UNIVERSITY NEIGHBORHOOD H.S.        39.000000          49.000000   \n",
       "2          EAST SIDE COMMUNITY HS        19.000000          21.000000   \n",
       "3                               0       129.028846         197.038462   \n",
       "4  NEW EXPLORATIONS SCI,TECH,MATH       255.000000         377.000000   \n",
       "\n",
       "     ...                                   priority04  \\\n",
       "0    ...      Then to Manhattan students or residents   \n",
       "1    ...                                            0   \n",
       "2    ...                                            0   \n",
       "3    ...                                            0   \n",
       "4    ...                                            0   \n",
       "\n",
       "                        priority05 priority06 priority07  priority08  \\\n",
       "0  Then to New York City residents          0          0           0   \n",
       "1                                0          0          0           0   \n",
       "2                                0          0          0           0   \n",
       "3                                0          0          0           0   \n",
       "4                                0          0          0           0   \n",
       "\n",
       "  priority09 priority10  \\\n",
       "0          0          0   \n",
       "1          0          0   \n",
       "2          0          0   \n",
       "3          0          0   \n",
       "4          0          0   \n",
       "\n",
       "                                                                          Location 1  \\\n",
       "0      220 Henry Street\\nNew York, NY 10002\\n(40.71376394700047, -73.98526003999967)   \n",
       "1      200 Monroe Street\\nNew York, NY 10002\\n(40.7123318510005, -73.98479662499966)   \n",
       "2   420 East 12 Street\\nNew York, NY 10009\\n(40.729782687000466, -73.98304144099967)   \n",
       "3   145 Stanton Street\\nNew York, NY 10002\\n(40.720569079000484, -73.98567269099965)   \n",
       "4  111 Columbia Street\\nNew York, NY 10002\\n(40.718725451000466, -73.97942638599966)   \n",
       "\n",
       "         lat        lon  \n",
       "0  40.713764 -73.985260  \n",
       "1  40.712332 -73.984797  \n",
       "2  40.729783 -73.983041  \n",
       "3  40.720569 -73.985673  \n",
       "4  40.718725 -73.979426  \n",
       "\n",
       "[5 rows x 159 columns]"
      ]
     },
     "execution_count": 10,
     "metadata": {},
     "output_type": "execute_result"
    }
   ],
   "source": [
    "combined = data[\"sat_results\"]\n",
    "\n",
    "combined = combined.merge(data[\"ap_2010\"], on=\"DBN\", how=\"left\")\n",
    "combined = combined.merge(data[\"graduation\"], on=\"DBN\", how=\"left\")\n",
    "\n",
    "combined = combined.merge(data[\"class_size_grouped\"], on=\"DBN\", how=\"inner\")\n",
    "combined = combined.merge(data[\"demographics\"], on=\"DBN\", how=\"inner\")\n",
    "combined = combined.merge(data[\"survey\"], on=\"DBN\", how=\"inner\")\n",
    "combined = combined.merge(data[\"hs_directory\"], on=\"DBN\", how=\"inner\")\n",
    "\n",
    "combined = combined.fillna(combined.mean())\n",
    "combined = combined.fillna(0)\n",
    "\n",
    "combined.head()"
   ]
  },
  {
   "cell_type": "markdown",
   "metadata": {},
   "source": [
    "## Add a school district column for mapping"
   ]
  },
  {
   "cell_type": "code",
   "execution_count": 11,
   "metadata": {
    "collapsed": false
   },
   "outputs": [
    {
     "data": {
      "text/plain": [
       "02    48\n",
       "10    22\n",
       "09    20\n",
       "11    15\n",
       "14    14\n",
       "17    14\n",
       "07    13\n",
       "13    13\n",
       "24    13\n",
       "19    12\n",
       "03    12\n",
       "12    12\n",
       "08    11\n",
       "21    11\n",
       "28    11\n",
       "18    11\n",
       "27    10\n",
       "06    10\n",
       "31    10\n",
       "15     9\n",
       "30     9\n",
       "25     8\n",
       "29     8\n",
       "04     7\n",
       "05     7\n",
       "32     6\n",
       "01     6\n",
       "20     5\n",
       "26     5\n",
       "16     4\n",
       "22     4\n",
       "23     3\n",
       "Name: school_dist, dtype: int64"
      ]
     },
     "execution_count": 11,
     "metadata": {},
     "output_type": "execute_result"
    }
   ],
   "source": [
    "combined[\"school_dist\"] = combined[\"DBN\"].str[:2]\n",
    "combined[\"school_dist\"].value_counts()"
   ]
  },
  {
   "cell_type": "markdown",
   "metadata": {},
   "source": [
    "## Find correlations"
   ]
  },
  {
   "cell_type": "code",
   "execution_count": 12,
   "metadata": {
    "collapsed": false
   },
   "outputs": [],
   "source": [
    "correlations = combined.corr()\n",
    "correlations = correlations[\"sat_score\"]"
   ]
  },
  {
   "cell_type": "code",
   "execution_count": 13,
   "metadata": {
    "collapsed": false
   },
   "outputs": [
    {
     "data": {
      "text/plain": [
       "sat_score                               1.000000\n",
       "SAT Writing Avg. Score                  0.987771\n",
       "SAT Critical Reading Avg. Score         0.986820\n",
       "SAT Math Avg. Score                     0.972643\n",
       "white_per                               0.620718\n",
       "asian_per                               0.570730\n",
       "AP Test Takers                          0.523140\n",
       "Total Exams Taken                       0.514333\n",
       "asian_num                               0.475445\n",
       "Number of Exams with scores 3 4 or 5    0.463245\n",
       "white_num                               0.449559\n",
       "N_s                                     0.423463\n",
       "N_p                                     0.421530\n",
       "total_students                          0.407827\n",
       "NUMBER OF STUDENTS / SEATS FILLED       0.394626\n",
       "female_num                              0.388631\n",
       "AVERAGE CLASS SIZE                      0.381014\n",
       "total_enrollment                        0.367857\n",
       "NUMBER OF SECTIONS                      0.362673\n",
       "aca_s_11                                0.339435\n",
       "saf_s_11                                0.337639\n",
       "male_num                                0.325520\n",
       "Total Cohort                            0.325144\n",
       "saf_tot_11                              0.318753\n",
       "SIZE OF LARGEST CLASS                   0.314434\n",
       "saf_t_11                                0.313810\n",
       "N_t                                     0.291463\n",
       "SIZE OF SMALLEST CLASS                  0.249949\n",
       "rr_s                                    0.232199\n",
       "eng_s_11                                0.213822\n",
       "Name: sat_score, dtype: float64"
      ]
     },
     "execution_count": 13,
     "metadata": {},
     "output_type": "execute_result"
    }
   ],
   "source": [
    "correlations.sort_values(ascending=False).head(30)"
   ]
  },
  {
   "cell_type": "code",
   "execution_count": 14,
   "metadata": {
    "collapsed": false
   },
   "outputs": [
    {
     "data": {
      "text/plain": [
       "frl_percent       -0.722225\n",
       "sped_percent      -0.448170\n",
       "ell_percent       -0.398750\n",
       "hispanic_per      -0.396985\n",
       "black_per         -0.284139\n",
       "ell_num           -0.153778\n",
       "lon               -0.132222\n",
       "lat               -0.121029\n",
       "com_p_11          -0.115073\n",
       "male_per          -0.112062\n",
       "zip               -0.063977\n",
       "rr_t              -0.023386\n",
       "eng_p_11           0.020254\n",
       "hispanic_num       0.025744\n",
       "black_num          0.027979\n",
       "sped_num           0.034933\n",
       "aca_p_11           0.035155\n",
       "eng_t_11           0.036906\n",
       "CSD                0.042948\n",
       "rr_p               0.047925\n",
       "com_tot_11         0.077310\n",
       "com_t_11           0.082419\n",
       "eng_tot_11         0.100102\n",
       "female_per         0.112108\n",
       "number_programs    0.117012\n",
       "saf_p_11           0.122913\n",
       "aca_t_11           0.132348\n",
       "com_s_11           0.187370\n",
       "aca_tot_11         0.190966\n",
       "eng_s_11           0.213822\n",
       "Name: sat_score, dtype: float64"
      ]
     },
     "execution_count": 14,
     "metadata": {},
     "output_type": "execute_result"
    }
   ],
   "source": [
    "correlations.sort_values().head(30)"
   ]
  },
  {
   "cell_type": "markdown",
   "metadata": {},
   "source": [
    "## Plotting survey correlations"
   ]
  },
  {
   "cell_type": "code",
   "execution_count": 15,
   "metadata": {
    "collapsed": false
   },
   "outputs": [],
   "source": [
    "# Remove DBN since it's a unique identifier, not a useful numerical value for correlation.\n",
    "if 'DBN' in survey_fields: survey_fields.remove(\"DBN\")"
   ]
  },
  {
   "cell_type": "code",
   "execution_count": 16,
   "metadata": {
    "collapsed": true
   },
   "outputs": [],
   "source": [
    "import matplotlib.pyplot as plt\n",
    "%matplotlib inline"
   ]
  },
  {
   "cell_type": "code",
   "execution_count": 17,
   "metadata": {
    "collapsed": false,
    "scrolled": true
   },
   "outputs": [
    {
     "data": {
      "text/plain": [
       "<matplotlib.axes._subplots.AxesSubplot at 0x7f88d76330f0>"
      ]
     },
     "execution_count": 17,
     "metadata": {},
     "output_type": "execute_result"
    },
    {
     "data": {
      "image/png": "[encoded data removed]",
      "text/plain": [
       "<matplotlib.figure.Figure at 0x7f88d76248d0>"
      ]
     },
     "metadata": {},
     "output_type": "display_data"
    }
   ],
   "source": [
    "correlations[survey_fields].sort_values().plot(kind='barh', xlim=(-0.5,0.5))"
   ]
  },
  {
   "cell_type": "markdown",
   "metadata": {},
   "source": [
    "The highest correlations appears on the following columns:\n",
    "* `N_s`, `N_p` and `N_t` stands for number of students, parents and teachers respondents.\n",
    "* `aca_s_11` for academic expectations based on student responses. This means that students are more accurate in assessing their own skills.\n",
    "* `saf` high safety and respect score means higher `sat_score`. Safety first.\n",
    "* `rr_s` student response rate also correlates with `sat_score`."
   ]
  },
  {
   "cell_type": "markdown",
   "metadata": {},
   "source": [
    "## Exploring Safety and SAT Scores"
   ]
  },
  {
   "cell_type": "code",
   "execution_count": 18,
   "metadata": {
    "collapsed": false,
    "scrolled": false
   },
   "outputs": [
    {
     "data": {
      "text/plain": [
       "<matplotlib.axes._subplots.AxesSubplot at 0x7f88d7478160>"
      ]
     },
     "execution_count": 18,
     "metadata": {},
     "output_type": "execute_result"
    },
    {
     "data": {
      "image/png": "[encoded data removed]",
      "text/plain": [
       "<matplotlib.figure.Figure at 0x7f88d75f6c88>"
      ]
     },
     "metadata": {},
     "output_type": "display_data"
    }
   ],
   "source": [
    "fig, _ = plt.subplots(1, 3, figsize=(16,4))\n",
    "combined.plot(kind='scatter', x=\"saf_s_11\", y=\"sat_score\", title='Students', ax=fig.axes[0])\n",
    "combined.plot(kind='scatter', x=\"saf_t_11\", y=\"sat_score\", title='Teachers', ax=fig.axes[1])\n",
    "combined.plot(kind='scatter', x=\"saf_p_11\", y=\"sat_score\", title='Parents', ax=fig.axes[2])"
   ]
  },
  {
   "cell_type": "markdown",
   "metadata": {
    "collapsed": true
   },
   "source": [
    "There is a correlation between `safety and respect score` and `sat score`, but not that strong. No school with safety score below ~7 have SAT score above ~1500 points. Hovewer, there are some schools with high safety score and low SAT scores."
   ]
  },
  {
   "cell_type": "code",
   "execution_count": 19,
   "metadata": {
    "collapsed": false
   },
   "outputs": [
    {
     "data": {
      "text/html": [
       "<div>\n",
       "<style scoped>\n",
       "    .dataframe tbody tr th:only-of-type {\n",
       "        vertical-align: middle;\n",
       "    }\n",
       "\n",
       "    .dataframe tbody tr th {\n",
       "        vertical-align: top;\n",
       "    }\n",
       "\n",
       "    .dataframe thead th {\n",
       "        text-align: right;\n",
       "    }\n",
       "</style>\n",
       "<table border=\"1\" class=\"dataframe\">\n",
       "  <thead>\n",
       "    <tr style=\"text-align: right;\">\n",
       "      <th></th>\n",
       "      <th>saf_p_11</th>\n",
       "      <th>saf_s_11</th>\n",
       "      <th>saf_t_11</th>\n",
       "    </tr>\n",
       "    <tr>\n",
       "      <th>boro</th>\n",
       "      <th></th>\n",
       "      <th></th>\n",
       "      <th></th>\n",
       "    </tr>\n",
       "  </thead>\n",
       "  <tbody>\n",
       "    <tr>\n",
       "      <th>Bronx</th>\n",
       "      <td>8.346237</td>\n",
       "      <td>6.606577</td>\n",
       "      <td>7.026882</td>\n",
       "    </tr>\n",
       "    <tr>\n",
       "      <th>Brooklyn</th>\n",
       "      <td>8.036792</td>\n",
       "      <td>6.370755</td>\n",
       "      <td>6.985849</td>\n",
       "    </tr>\n",
       "    <tr>\n",
       "      <th>Manhattan</th>\n",
       "      <td>8.288889</td>\n",
       "      <td>6.831370</td>\n",
       "      <td>7.287778</td>\n",
       "    </tr>\n",
       "    <tr>\n",
       "      <th>Queens</th>\n",
       "      <td>8.098437</td>\n",
       "      <td>6.721875</td>\n",
       "      <td>7.365625</td>\n",
       "    </tr>\n",
       "    <tr>\n",
       "      <th>Staten Island</th>\n",
       "      <td>7.800000</td>\n",
       "      <td>6.530000</td>\n",
       "      <td>7.210000</td>\n",
       "    </tr>\n",
       "  </tbody>\n",
       "</table>\n",
       "</div>"
      ],
      "text/plain": [
       "               saf_p_11  saf_s_11  saf_t_11\n",
       "boro                                       \n",
       "Bronx          8.346237  6.606577  7.026882\n",
       "Brooklyn       8.036792  6.370755  6.985849\n",
       "Manhattan      8.288889  6.831370  7.287778\n",
       "Queens         8.098437  6.721875  7.365625\n",
       "Staten Island  7.800000  6.530000  7.210000"
      ]
     },
     "execution_count": 19,
     "metadata": {},
     "output_type": "execute_result"
    }
   ],
   "source": [
    "combined.pivot_table(index='boro', values=['saf_s_11', 'saf_t_11', 'saf_p_11'])"
   ]
  },
  {
   "cell_type": "code",
   "execution_count": 20,
   "metadata": {
    "collapsed": false
   },
   "outputs": [
    {
     "data": {
      "text/plain": [
       "<matplotlib.axes._subplots.AxesSubplot at 0x7f88d732d470>"
      ]
     },
     "execution_count": 20,
     "metadata": {},
     "output_type": "execute_result"
    },
    {
     "data": {
      "image/png": "[encoded data removed]",
      "text/plain": [
       "<matplotlib.figure.Figure at 0x7f88d73fe6a0>"
      ]
     },
     "metadata": {},
     "output_type": "display_data"
    }
   ],
   "source": [
    "boro_saf = combined.pivot_table(index='boro', values=['saf_s_11', 'saf_t_11', 'saf_p_11'])\n",
    "fig, _ = plt.subplots(3, 1, figsize=(10,10))\n",
    "boro_saf['saf_s_11'].sort_values().plot(kind='barh', title='Students', xlim=(0,9), ax=fig.axes[0])\n",
    "boro_saf['saf_t_11'].sort_values().plot(kind='barh', title='Teachers', xlim=(0,9), ax=fig.axes[1])\n",
    "boro_saf['saf_p_11'].sort_values().plot(kind='barh', title='Parents', xlim=(0,9), ax=fig.axes[2])"
   ]
  },
  {
   "cell_type": "markdown",
   "metadata": {},
   "source": [
    "According to the students surveys Manhattan tend to have 1st place in the Safety rating, and 2nd place based on Teachers and Parents surveys. All three groups have different opinion about other boroughs."
   ]
  },
  {
   "cell_type": "markdown",
   "metadata": {},
   "source": [
    "## Exploring Race and SAT Scores"
   ]
  },
  {
   "cell_type": "code",
   "execution_count": 21,
   "metadata": {
    "collapsed": false,
    "scrolled": false
   },
   "outputs": [
    {
     "data": {
      "text/plain": [
       "<matplotlib.axes._subplots.AxesSubplot at 0x7f88d7574080>"
      ]
     },
     "execution_count": 21,
     "metadata": {},
     "output_type": "execute_result"
    },
    {
     "data": {
      "image/png": "[encoded data removed]",
      "text/plain": [
       "<matplotlib.figure.Figure at 0x7f88d745c400>"
      ]
     },
     "metadata": {},
     "output_type": "display_data"
    }
   ],
   "source": [
    "correlations[['white_per', 'asian_per', 'black_per', 'hispanic_per']].plot(kind='barh', xlim=(-1,1))"
   ]
  },
  {
   "cell_type": "markdown",
   "metadata": {},
   "source": [
    "Higher percentage of asian and white students correlates positively with SAT score. Opposite happens with hispanic and black students. Different factors may apply, such as lack of funding for example."
   ]
  },
  {
   "cell_type": "code",
   "execution_count": 22,
   "metadata": {
    "collapsed": false
   },
   "outputs": [
    {
     "data": {
      "text/plain": [
       "<matplotlib.axes._subplots.AxesSubplot at 0x7f88d38c59e8>"
      ]
     },
     "execution_count": 22,
     "metadata": {},
     "output_type": "execute_result"
    },
    {
     "data": {
      "image/png": "[encoded data removed]",
      "text/plain": [
       "<matplotlib.figure.Figure at 0x7f88d72963c8>"
      ]
     },
     "metadata": {},
     "output_type": "display_data"
    }
   ],
   "source": [
    "fig, _ = plt.subplots(2, 2, figsize=(15,10))\n",
    "combined.plot(kind='scatter', x='hispanic_per', y='sat_score', ax=fig.axes[0])\n",
    "combined.plot(kind='scatter', x='black_per', y='sat_score', ax=fig.axes[1])\n",
    "combined.plot(kind='scatter', x='asian_per', y='sat_score', ax=fig.axes[2])\n",
    "combined.plot(kind='scatter', x='white_per', y='sat_score', ax=fig.axes[3])"
   ]
  },
  {
   "cell_type": "code",
   "execution_count": 23,
   "metadata": {
    "collapsed": false
   },
   "outputs": [
    {
     "data": {
      "text/plain": [
       "44                                MANHATTAN BRIDGES HIGH SCHOOL\n",
       "82             WASHINGTON HEIGHTS EXPEDITIONARY LEARNING SCHOOL\n",
       "89     GREGORIO LUPERON HIGH SCHOOL FOR SCIENCE AND MATHEMATICS\n",
       "125                         ACADEMY FOR LANGUAGE AND TECHNOLOGY\n",
       "141                       INTERNATIONAL SCHOOL FOR LIBERAL ARTS\n",
       "176            PAN AMERICAN INTERNATIONAL HIGH SCHOOL AT MONROE\n",
       "253                                   MULTICULTURAL HIGH SCHOOL\n",
       "286                      PAN AMERICAN INTERNATIONAL HIGH SCHOOL\n",
       "Name: SCHOOL NAME, dtype: object"
      ]
     },
     "execution_count": 23,
     "metadata": {},
     "output_type": "execute_result"
    }
   ],
   "source": [
    "combined.loc[combined['hispanic_per'] > 95, 'SCHOOL NAME']"
   ]
  },
  {
   "cell_type": "code",
   "execution_count": 24,
   "metadata": {
    "collapsed": false
   },
   "outputs": [
    {
     "data": {
      "text/plain": [
       "0                     HENRY STREET SCHOOL FOR INTERNATIONAL STUDIES\n",
       "1                               UNIVERSITY NEIGHBORHOOD HIGH SCHOOL\n",
       "2                                        EAST SIDE COMMUNITY SCHOOL\n",
       "3                                           MARTA VALLE HIGH SCHOOL\n",
       "4    NEW EXPLORATIONS INTO SCIENCE, TECHNOLOGY AND MATH HIGH SCHOOL\n",
       "5                                    BARD HIGH SCHOOL EARLY COLLEGE\n",
       "6        47 THE AMERICAN SIGN LANGUAGE AND ENGLISH SECONDARY SCHOOL\n",
       "7                                      FOOD AND FINANCE HIGH SCHOOL\n",
       "8                                              ESSEX STREET ACADEMY\n",
       "9                             HIGH SCHOOL OF HOSPITALITY MANAGEMENT\n",
       "Name: SCHOOL NAME, dtype: object"
      ]
     },
     "execution_count": 24,
     "metadata": {},
     "output_type": "execute_result"
    }
   ],
   "source": [
    "combined.loc[(combined['hispanic_per'] < 95) & (combined['sat_score'] > 1000), 'SCHOOL NAME'].head(10)"
   ]
  },
  {
   "cell_type": "markdown",
   "metadata": {},
   "source": [
    "## Exploring Gender and SAT Scores"
   ]
  },
  {
   "cell_type": "code",
   "execution_count": 25,
   "metadata": {
    "collapsed": false
   },
   "outputs": [
    {
     "data": {
      "text/plain": [
       "<matplotlib.axes._subplots.AxesSubplot at 0x7f88d38386d8>"
      ]
     },
     "execution_count": 25,
     "metadata": {},
     "output_type": "execute_result"
    },
    {
     "data": {
      "image/png": "[encoded data removed]",
      "text/plain": [
       "<matplotlib.figure.Figure at 0x7f88d3851748>"
      ]
     },
     "metadata": {},
     "output_type": "display_data"
    }
   ],
   "source": [
    "correlations[['male_per', 'female_per']].plot(kind='barh', xlim=(-0.5,0.5), figsize=(5,1))"
   ]
  },
  {
   "cell_type": "markdown",
   "metadata": {},
   "source": [
    "Both male and female percentages have weak correlations with SAT Score. While SAT Score positively correlates with high percentage of female, it negatively correlates with high percentage of males."
   ]
  },
  {
   "cell_type": "code",
   "execution_count": 26,
   "metadata": {
    "collapsed": false
   },
   "outputs": [
    {
     "data": {
      "text/plain": [
       "<matplotlib.axes._subplots.AxesSubplot at 0x7f88d1f95ef0>"
      ]
     },
     "execution_count": 26,
     "metadata": {},
     "output_type": "execute_result"
    },
    {
     "data": {
      "image/png": "[encoded data removed]",
      "text/plain": [
       "<matplotlib.figure.Figure at 0x7f88d7378d68>"
      ]
     },
     "metadata": {},
     "output_type": "display_data"
    }
   ],
   "source": [
    "fig, _ = plt.subplots(1, 2, figsize=(15,5))\n",
    "combined.plot(kind='scatter', x='female_per', y='sat_score', ax=fig.axes[0])\n",
    "combined.plot(kind='scatter', x='male_per', y='sat_score', ax=fig.axes[1])"
   ]
  },
  {
   "cell_type": "markdown",
   "metadata": {},
   "source": [
    "Corelation is too weak to draw a conclusion."
   ]
  },
  {
   "cell_type": "code",
   "execution_count": 27,
   "metadata": {
    "collapsed": false
   },
   "outputs": [
    {
     "data": {
      "text/plain": [
       "37                                                   STUYVESANT HIGH SCHOOL\n",
       "79     HIGH SCHOOL FOR MATHEMATICS, SCIENCE AND ENGINEERING AT CITY COLLEGE\n",
       "151                                            BRONX HIGH SCHOOL OF SCIENCE\n",
       "155                       HIGH SCHOOL OF AMERICAN STUDIES AT LEHMAN COLLEGE\n",
       "187                                          BROOKLYN TECHNICAL HIGH SCHOOL\n",
       "198                                              BROOKLYN LATIN SCHOOL, THE\n",
       "327                     QUEENS HIGH SCHOOL FOR THE SCIENCES AT YORK COLLEGE\n",
       "356                                     STATEN ISLAND TECHNICAL HIGH SCHOOL\n",
       "Name: SCHOOL NAME, dtype: object"
      ]
     },
     "execution_count": 27,
     "metadata": {},
     "output_type": "execute_result"
    }
   ],
   "source": [
    "combined.loc[(combined['female_per'] < 60) & (combined['sat_score'] > 1700), 'SCHOOL NAME']"
   ]
  },
  {
   "cell_type": "markdown",
   "metadata": {},
   "source": [
    "## Exploring AP Scores vs. SAT Scores"
   ]
  },
  {
   "cell_type": "code",
   "execution_count": 42,
   "metadata": {
    "collapsed": false
   },
   "outputs": [
    {
     "name": "stdout",
     "output_type": "stream",
     "text": [
      "0.05717081390766967\n"
     ]
    },
    {
     "data": {
      "text/plain": [
       "<matplotlib.axes._subplots.AxesSubplot at 0x7f88d1d034a8>"
      ]
     },
     "execution_count": 42,
     "metadata": {},
     "output_type": "execute_result"
    },
    {
     "data": {
      "image/png": "[encoded data removed]",
      "text/plain": [
       "<matplotlib.figure.Figure at 0x7f88d1e47390>"
      ]
     },
     "metadata": {},
     "output_type": "display_data"
    }
   ],
   "source": [
    "combined['ap_per'] = combined['AP Test Takers '] / combined['total_enrollment']\n",
    "print(combined.corr().loc['sat_score', 'ap_per'])\n",
    "combined.plot(kind='scatter', x='ap_per', y='sat_score')"
   ]
  },
  {
   "cell_type": "markdown",
   "metadata": {},
   "source": [
    "Correlation between AP scores and SAT scores is weak and needs deeper exploration. There is an uprising trend with AP scores < 0.6, and some outliers with AP scores > 0.6"
   ]
  },
  {
   "cell_type": "code",
   "execution_count": null,
   "metadata": {
    "collapsed": true
   },
   "outputs": [],
   "source": [
    "dd"
   ]
  }
 ],
 "metadata": {
  "kernelspec": {
   "display_name": "Python 3",
   "language": "python",
   "name": "python3"
  },
  "language_info": {
   "codemirror_mode": {
    "name": "ipython",
    "version": 3
   },
   "file_extension": ".py",
   "mimetype": "text/x-python",
   "name": "python",
   "nbconvert_exporter": "python",
   "pygments_lexer": "ipython3",
   "version": "3.4.3"
  }
 },
 "nbformat": 4,
 "nbformat_minor": 2
}
