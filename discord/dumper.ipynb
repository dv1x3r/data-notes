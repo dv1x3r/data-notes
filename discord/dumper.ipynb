{
 "cells": [
  {
   "cell_type": "code",
   "execution_count": 7,
   "metadata": {},
   "outputs": [],
   "source": [
    "import discord\n",
    "import os\n",
    "from dotenv import load_dotenv\n",
    "load_dotenv()\n",
    "\n",
    "import datetime as dt\n",
    "import pandas as pd"
   ]
  },
  {
   "cell_type": "code",
   "execution_count": 61,
   "metadata": {
    "tags": []
   },
   "outputs": [
    {
     "output_type": "stream",
     "name": "stdout",
     "text": [
      "starting\n",
      "ready\n",
      "2015/January/01  to  2021/January/01:  #1000 / #1000\n",
      "2016/October/03  to  2021/January/01:  #1000 / #2000\n",
      "2016/October/04  to  2021/January/01:  #1000 / #3000\n",
      "2016/October/05  to  2021/January/01:  #1000 / #4000\n",
      "2016/October/05  to  2021/January/01:  #1000 / #5000\n",
      "2016/October/06  to  2021/January/01:  #1000 / #6000\n",
      "2016/October/07  to  2021/January/01:  #1000 / #7000\n",
      "2016/October/09  to  2021/January/01:  #1000 / #8000\n",
      "2016/October/10  to  2021/January/01:  #1000 / #9000\n",
      "2016/October/12  to  2021/January/01:  #1000 / #10000\n",
      "2016/October/14  to  2021/January/01:  #1000 / #11000\n",
      "2016/October/17  to  2021/January/01:  #1000 / #12000\n",
      "2016/October/21  to  2021/January/01:  #1000 / #13000\n",
      "2016/October/26  to  2021/January/01:  #1000 / #14000\n",
      "2016/October/29  to  2021/January/01:  #1000 / #15000\n",
      "2016/November/04  to  2021/January/01:  #1000 / #16000\n",
      "2016/November/09  to  2021/January/01:  #1000 / #17000\n",
      "2016/November/12  to  2021/January/01:  #1000 / #18000\n",
      "2016/November/23  to  2021/January/01:  #1000 / #19000\n",
      "2016/December/02  to  2021/January/01:  #1000 / #20000\n",
      "2016/December/07  to  2021/January/01:  #1000 / #21000\n",
      "2016/December/15  to  2021/January/01:  #1000 / #22000\n",
      "2016/December/18  to  2021/January/01:  #1000 / #23000\n",
      "2016/December/19  to  2021/January/01:  #1000 / #24000\n",
      "2016/December/21  to  2021/January/01:  #1000 / #25000\n",
      "2016/December/23  to  2021/January/01:  #1000 / #26000\n",
      "2016/December/24  to  2021/January/01:  #1000 / #27000\n",
      "2016/December/27  to  2021/January/01:  #1000 / #28000\n",
      "2017/January/01  to  2021/January/01:  #1000 / #29000\n",
      "2017/January/07  to  2021/January/01:  #1000 / #30000\n",
      "2017/January/15  to  2021/January/01:  #1000 / #31000\n",
      "2017/January/25  to  2021/January/01:  #1000 / #32000\n",
      "2017/February/04  to  2021/January/01:  #1000 / #33000\n",
      "2017/February/10  to  2021/January/01:  #1000 / #34000\n",
      "2017/February/13  to  2021/January/01:  #1000 / #35000\n",
      "2017/February/15  to  2021/January/01:  #1000 / #36000\n",
      "2017/February/21  to  2021/January/01:  #1000 / #37000\n",
      "2017/February/26  to  2021/January/01:  #1000 / #38000\n",
      "2017/March/04  to  2021/January/01:  #1000 / #39000\n",
      "2017/March/09  to  2021/January/01:  #1000 / #40000\n",
      "2017/March/18  to  2021/January/01:  #1000 / #41000\n",
      "2017/March/25  to  2021/January/01:  #1000 / #42000\n",
      "2017/March/31  to  2021/January/01:  #1000 / #43000\n",
      "2017/April/07  to  2021/January/01:  #1000 / #44000\n",
      "2017/April/13  to  2021/January/01:  #1000 / #45000\n",
      "2017/April/16  to  2021/January/01:  #1000 / #46000\n",
      "2017/April/24  to  2021/January/01:  #1000 / #47000\n",
      "2017/May/03  to  2021/January/01:  #1000 / #48000\n",
      "2017/May/09  to  2021/January/01:  #1000 / #49000\n",
      "2017/May/12  to  2021/January/01:  #1000 / #50000\n",
      "2017/May/14  to  2021/January/01:  #1000 / #51000\n",
      "2017/May/16  to  2021/January/01:  #1000 / #52000\n",
      "2017/May/19  to  2021/January/01:  #1000 / #53000\n",
      "2017/May/24  to  2021/January/01:  #1000 / #54000\n",
      "2017/May/31  to  2021/January/01:  #1000 / #55000\n",
      "2017/June/08  to  2021/January/01:  #1000 / #56000\n",
      "2017/June/21  to  2021/January/01:  #1000 / #57000\n",
      "2017/June/29  to  2021/January/01:  #1000 / #58000\n",
      "2017/July/08  to  2021/January/01:  #1000 / #59000\n",
      "2017/July/16  to  2021/January/01:  #1000 / #60000\n",
      "2017/July/25  to  2021/January/01:  #1000 / #61000\n",
      "2017/August/05  to  2021/January/01:  #1000 / #62000\n",
      "2017/August/19  to  2021/January/01:  #1000 / #63000\n",
      "2017/September/06  to  2021/January/01:  #1000 / #64000\n",
      "2017/September/25  to  2021/January/01:  #1000 / #65000\n",
      "2017/October/05  to  2021/January/01:  #1000 / #66000\n",
      "2017/October/21  to  2021/January/01:  #1000 / #67000\n",
      "2017/November/10  to  2021/January/01:  #1000 / #68000\n",
      "2017/December/02  to  2021/January/01:  #1000 / #69000\n",
      "2017/December/21  to  2021/January/01:  #1000 / #70000\n",
      "2018/January/05  to  2021/January/01:  #1000 / #71000\n",
      "2018/January/19  to  2021/January/01:  #1000 / #72000\n",
      "2018/February/10  to  2021/January/01:  #1000 / #73000\n",
      "2018/March/03  to  2021/January/01:  #1000 / #74000\n",
      "2018/March/24  to  2021/January/01:  #1000 / #75000\n",
      "2018/April/05  to  2021/January/01:  #1000 / #76000\n",
      "2018/April/19  to  2021/January/01:  #1000 / #77000\n",
      "2018/May/13  to  2021/January/01:  #1000 / #78000\n",
      "2018/June/10  to  2021/January/01:  #1000 / #79000\n",
      "2018/June/28  to  2021/January/01:  #1000 / #80000\n",
      "2018/August/01  to  2021/January/01:  #1000 / #81000\n",
      "2018/August/17  to  2021/January/01:  #1000 / #82000\n",
      "2018/September/02  to  2021/January/01:  #1000 / #83000\n",
      "2018/October/04  to  2021/January/01:  #1000 / #84000\n",
      "2018/November/07  to  2021/January/01:  #1000 / #85000\n",
      "2018/December/11  to  2021/January/01:  #1000 / #86000\n",
      "2019/January/18  to  2021/January/01:  #1000 / #87000\n",
      "2019/February/02  to  2021/January/01:  #1000 / #88000\n",
      "2019/February/15  to  2021/January/01:  #1000 / #89000\n",
      "2019/March/04  to  2021/January/01:  #1000 / #90000\n",
      "2019/March/08  to  2021/January/01:  #1000 / #91000\n",
      "2019/March/29  to  2021/January/01:  #1000 / #92000\n",
      "2019/May/18  to  2021/January/01:  #1000 / #93000\n",
      "2019/July/08  to  2021/January/01:  #1000 / #94000\n",
      "2019/October/12  to  2021/January/01:  #1000 / #95000\n",
      "2019/December/13  to  2021/January/01:  #1000 / #96000\n",
      "2020/February/07  to  2021/January/01:  #1000 / #97000\n",
      "2020/March/07  to  2021/January/01:  #1000 / #98000\n",
      "2020/April/24  to  2021/January/01:  #1000 / #99000\n",
      "2020/June/03  to  2021/January/01:  #1000 / #100000\n",
      "2020/July/17  to  2021/January/01:  #1000 / #101000\n",
      "2020/September/05  to  2021/January/01:  #901 / #101901\n",
      "logout\n"
     ]
    }
   ],
   "source": [
    "client = discord.Client()\n",
    "\n",
    "async def do_stuff():\n",
    "    global messages\n",
    "    messages = []\n",
    "    \n",
    "    channel: discord.TextChannel = client.guilds[0].channels[27] # front-end\n",
    "    after = dt.datetime(2015, 1, 1)\n",
    "    before = dt.datetime(2021, 1, 1)\n",
    "    limit = 1000\n",
    "\n",
    "    while True:\n",
    "        batch = await channel.history(limit=limit, before=before, after=after).flatten()\n",
    "        messages += batch\n",
    "        print('{}  to  {}:  #{} / #{}'.format(after.strftime('%Y/%B/%d'), before.strftime('%Y/%B/%d'), len(batch), len(messages)))\n",
    "        after = messages[-1].created_at\n",
    "        if(len(batch) != limit):\n",
    "            break\n",
    "\n",
    "@client.event\n",
    "async def on_ready():\n",
    "    print('ready')\n",
    "    await do_stuff()\n",
    "    await client.logout()\n",
    "    print('logout')\n",
    "\n",
    "@client.event\n",
    "async def on_message(message: discord.Message):\n",
    "    print(message)\n",
    "\n",
    "print('starting')\n",
    "await client.start(os.getenv('TOKEN'))"
   ]
  },
  {
   "cell_type": "code",
   "execution_count": 62,
   "metadata": {},
   "outputs": [
    {
     "output_type": "stream",
     "name": "stdout",
     "text": [
      "2016-09-30 18:30:19.207000\n👉🏿 👌🏻 👈\nal29\nhttps://cdn.discordapp.com/avatars/231122738062819329/8477b3aada2825ade3adee74e498db8e.webp?size=1024\n👉🏿 👌🏻 👈\n"
     ]
    }
   ],
   "source": [
    "print(messages[0].created_at)\n",
    "print(messages[0].clean_content)\n",
    "print(messages[0].author.display_name)\n",
    "print(messages[0].author.avatar_url)\n",
    "print(messages[0].content)"
   ]
  },
  {
   "cell_type": "code",
   "execution_count": 63,
   "metadata": {},
   "outputs": [],
   "source": [
    "df = pd.DataFrame([{\n",
    "    \"created_at_utc\": message.created_at,\n",
    "    \"author\": message.author.display_name,\n",
    "    \"avatar\": message.author.avatar_url,\n",
    "    \"message\": message.clean_content,\n",
    "    } for message in messages])"
   ]
  },
  {
   "cell_type": "code",
   "execution_count": 64,
   "metadata": {},
   "outputs": [
    {
     "output_type": "execute_result",
     "data": {
      "text/plain": [
       "                created_at_utc               author  \\\n",
       "101900 2020-11-20 18:08:08.869         RickySparrow   \n",
       "101899 2020-11-20 18:07:12.529  killme2pa3a (again)   \n",
       "101898 2020-11-20 13:57:36.635         RickySparrow   \n",
       "101897 2020-11-20 13:57:16.537  killme2pa3a (again)   \n",
       "101896 2020-11-20 13:56:44.847         RickySparrow   \n",
       "\n",
       "                                                   avatar  \\\n",
       "101900  https://cdn.discordapp.com/avatars/19919896945...   \n",
       "101899  https://cdn.discordapp.com/avatars/23112266413...   \n",
       "101898  https://cdn.discordapp.com/avatars/19919896945...   \n",
       "101897  https://cdn.discordapp.com/avatars/23112266413...   \n",
       "101896  https://cdn.discordapp.com/avatars/19919896945...   \n",
       "\n",
       "                                                  message  \n",
       "101900                            не, я пас, я в кроватку  \n",
       "101899  Такс, теперь точно дота @assond @myxa-sb9 @Tom...  \n",
       "101898                                                  👌  \n",
       "101897                        оке, позовешь если захочешь  \n",
       "101896      уф. Поздна. Сейчас 7, ну притопаю к пол 11 мб  "
      ],
      "text/html": "<div>\n<style scoped>\n    .dataframe tbody tr th:only-of-type {\n        vertical-align: middle;\n    }\n\n    .dataframe tbody tr th {\n        vertical-align: top;\n    }\n\n    .dataframe thead th {\n        text-align: right;\n    }\n</style>\n<table border=\"1\" class=\"dataframe\">\n  <thead>\n    <tr style=\"text-align: right;\">\n      <th></th>\n      <th>created_at_utc</th>\n      <th>author</th>\n      <th>avatar</th>\n      <th>message</th>\n    </tr>\n  </thead>\n  <tbody>\n    <tr>\n      <th>101900</th>\n      <td>2020-11-20 18:08:08.869</td>\n      <td>RickySparrow</td>\n      <td>https://cdn.discordapp.com/avatars/19919896945...</td>\n      <td>не, я пас, я в кроватку</td>\n    </tr>\n    <tr>\n      <th>101899</th>\n      <td>2020-11-20 18:07:12.529</td>\n      <td>killme2pa3a (again)</td>\n      <td>https://cdn.discordapp.com/avatars/23112266413...</td>\n      <td>Такс, теперь точно дота @assond @myxa-sb9 @Tom...</td>\n    </tr>\n    <tr>\n      <th>101898</th>\n      <td>2020-11-20 13:57:36.635</td>\n      <td>RickySparrow</td>\n      <td>https://cdn.discordapp.com/avatars/19919896945...</td>\n      <td>👌</td>\n    </tr>\n    <tr>\n      <th>101897</th>\n      <td>2020-11-20 13:57:16.537</td>\n      <td>killme2pa3a (again)</td>\n      <td>https://cdn.discordapp.com/avatars/23112266413...</td>\n      <td>оке, позовешь если захочешь</td>\n    </tr>\n    <tr>\n      <th>101896</th>\n      <td>2020-11-20 13:56:44.847</td>\n      <td>RickySparrow</td>\n      <td>https://cdn.discordapp.com/avatars/19919896945...</td>\n      <td>уф. Поздна. Сейчас 7, ну притопаю к пол 11 мб</td>\n    </tr>\n  </tbody>\n</table>\n</div>"
     },
     "metadata": {},
     "execution_count": 64
    }
   ],
   "source": [
    "df.sort_values('created_at_utc', ascending=False).head()"
   ]
  },
  {
   "cell_type": "code",
   "execution_count": 65,
   "metadata": {},
   "outputs": [],
   "source": [
    "df.to_csv('local_data/discord.csv', index=False)"
   ]
  },
  {
   "cell_type": "code",
   "execution_count": null,
   "metadata": {},
   "outputs": [],
   "source": []
  }
 ],
 "metadata": {
  "kernelspec": {
   "name": "python3",
   "display_name": "Python 3.9.0 64-bit",
   "metadata": {
    "interpreter": {
     "hash": "fd4a117acec48de91b88b7ba8943fb810da7041f9dc2e1638621412c574e0e9e"
    }
   }
  },
  "language_info": {
   "codemirror_mode": {
    "name": "ipython",
    "version": 3
   },
   "file_extension": ".py",
   "mimetype": "text/x-python",
   "name": "python",
   "nbconvert_exporter": "python",
   "pygments_lexer": "ipython3",
   "version": "3.9.0-final"
  }
 },
 "nbformat": 4,
 "nbformat_minor": 2
}