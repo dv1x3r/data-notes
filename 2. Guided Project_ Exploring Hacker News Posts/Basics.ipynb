{
 "cells": [
  {
   "cell_type": "markdown",
   "metadata": {
    "collapsed": true
   },
   "source": [
    "# Guided Project: Exploring Hacker News Posts"
   ]
  },
  {
   "cell_type": "markdown",
   "metadata": {},
   "source": [
    "[Hacker News](https://news.ycombinator.com/) is a site where user-submitted stories are voted and commented upon, similar to reddit. The main topics for discussions are IT, Computer Security and startups.\n",
    "\n",
    "We will explore the [Kaggles data set](https://www.kaggle.com/hacker-news/hacker-news-posts) with approximately 20,000 rows. Data set contains information about posts: title, url, number of points and comments. During our analysis the two types of posts will be compared (Ask HN and Show HN):\n",
    "\n",
    "- Do Ask HN or Show HN receive more comments on average?\n",
    "- Do posts created at a certain time receive more comments on average?"
   ]
  },
  {
   "cell_type": "markdown",
   "metadata": {},
   "source": [
    "## Introduction"
   ]
  },
  {
   "cell_type": "markdown",
   "metadata": {},
   "source": [
    "Let's import the data set and separate the headers."
   ]
  },
  {
   "cell_type": "code",
   "execution_count": 1,
   "metadata": {
    "collapsed": true
   },
   "outputs": [],
   "source": [
    "from csv import reader\n",
    "\n",
    "opened_file = open('hacker_news.csv')\n",
    "read_file = reader(opened_file)\n",
    "hn = list(read_file)\n",
    "headers = hn[0]\n",
    "hn = hn[1:]"
   ]
  },
  {
   "cell_type": "code",
   "execution_count": 2,
   "metadata": {
    "collapsed": false
   },
   "outputs": [
    {
     "data": {
      "text/plain": [
       "['id', 'title', 'url', 'num_points', 'num_comments', 'author', 'created_at']"
      ]
     },
     "execution_count": 2,
     "metadata": {},
     "output_type": "execute_result"
    }
   ],
   "source": [
    "headers"
   ]
  },
  {
   "cell_type": "code",
   "execution_count": 3,
   "metadata": {
    "collapsed": false
   },
   "outputs": [
    {
     "data": {
      "text/plain": [
       "[['12224879',\n",
       "  'Interactive Dynamic Video',\n",
       "  'http://www.interactivedynamicvideo.com/',\n",
       "  '386',\n",
       "  '52',\n",
       "  'ne0phyte',\n",
       "  '8/4/2016 11:52'],\n",
       " ['10975351',\n",
       "  'How to Use Open Source and Shut the Fuck Up at the Same Time',\n",
       "  'http://hueniverse.com/2016/01/26/how-to-use-open-source-and-shut-the-fuck-up-at-the-same-time/',\n",
       "  '39',\n",
       "  '10',\n",
       "  'josep2',\n",
       "  '1/26/2016 19:30'],\n",
       " ['11964716',\n",
       "  \"Florida DJs May Face Felony for April Fools' Water Joke\",\n",
       "  'http://www.thewire.com/entertainment/2013/04/florida-djs-april-fools-water-joke/63798/',\n",
       "  '2',\n",
       "  '1',\n",
       "  'vezycash',\n",
       "  '6/23/2016 22:20'],\n",
       " ['11919867',\n",
       "  'Technology ventures: From Idea to Enterprise',\n",
       "  'https://www.amazon.com/Technology-Ventures-Enterprise-Thomas-Byers/dp/0073523429',\n",
       "  '3',\n",
       "  '1',\n",
       "  'hswarna',\n",
       "  '6/17/2016 0:01'],\n",
       " ['10301696',\n",
       "  'Note by Note: The Making of Steinway L1037 (2007)',\n",
       "  'http://www.nytimes.com/2007/11/07/movies/07stein.html?_r=0',\n",
       "  '8',\n",
       "  '2',\n",
       "  'walterbell',\n",
       "  '9/30/2015 4:12']]"
      ]
     },
     "execution_count": 3,
     "metadata": {},
     "output_type": "execute_result"
    }
   ],
   "source": [
    "hn[:5]"
   ]
  },
  {
   "cell_type": "markdown",
   "metadata": {},
   "source": [
    "## Extracting Ask HN and Show HN Posts"
   ]
  },
  {
   "cell_type": "markdown",
   "metadata": {},
   "source": [
    "Now we are ready to process the data and create three lists to store \"Ask\", \"Show\" and other posts separately."
   ]
  },
  {
   "cell_type": "code",
   "execution_count": 4,
   "metadata": {
    "collapsed": true
   },
   "outputs": [],
   "source": [
    "ask_posts, show_posts, other_posts = [], [], []\n",
    "\n",
    "for row in hn:\n",
    "    lower_title = row[1].lower()\n",
    "    \n",
    "    if lower_title.startswith('ask hn'):\n",
    "        ask_posts.append(row)\n",
    "    elif lower_title.startswith('show hn'):\n",
    "        show_posts.append(row)\n",
    "    else:\n",
    "        other_posts.append(row)"
   ]
  },
  {
   "cell_type": "code",
   "execution_count": 5,
   "metadata": {
    "collapsed": false
   },
   "outputs": [
    {
     "name": "stdout",
     "output_type": "stream",
     "text": [
      "Ask posts: 1744 (8.68%)\n",
      "Show posts: 1162 (5.78%)\n",
      "Other posts: 17194 (85.54)%\n"
     ]
    }
   ],
   "source": [
    "len_ask = len(ask_posts)\n",
    "len_show = len(show_posts)\n",
    "len_other = len(other_posts)\n",
    "len_sum = len_ask + len_show + len_other\n",
    "\n",
    "per_ask = round((len_ask / len_sum) * 100, 2) \n",
    "per_show = round((len_show / len_sum) * 100, 2)\n",
    "per_other = round((len_other / len_sum) * 100, 2)\n",
    "\n",
    "print('Ask posts: {} ({}%)'.format(len_ask, per_ask))\n",
    "print('Show posts: {} ({}%)'.format(len_show, per_show))\n",
    "print('Other posts: {} ({})%'.format(len_other, per_other))"
   ]
  },
  {
   "cell_type": "markdown",
   "metadata": {},
   "source": [
    "As we can see, \"ask\" posts are more frequent (8.68%) than \"show\" posts (5.78%). However, this is not the main site path."
   ]
  },
  {
   "cell_type": "markdown",
   "metadata": {
    "collapsed": true
   },
   "source": [
    "## Calculating the Average Number of Comments for Ask HN and Show HN Posts"
   ]
  },
  {
   "cell_type": "markdown",
   "metadata": {},
   "source": [
    "Let's determine if ask posts or show posts receive more comments on average."
   ]
  },
  {
   "cell_type": "code",
   "execution_count": 6,
   "metadata": {
    "collapsed": false
   },
   "outputs": [],
   "source": [
    "ask_comments = [int(row[4]) for row in ask_posts]\n",
    "show_comments = [int(row[4]) for row in show_posts]\n",
    "avg_ask_comments = sum(ask_comments) / len(ask_comments)\n",
    "avg_show_comments = sum(show_comments) / len(show_comments)    "
   ]
  },
  {
   "cell_type": "code",
   "execution_count": 7,
   "metadata": {
    "collapsed": false
   },
   "outputs": [
    {
     "name": "stdout",
     "output_type": "stream",
     "text": [
      "Average number of comments for Ask HN: 14.038417431192661\n",
      "Average number of comments for Show HN: 10.31669535283993\n"
     ]
    }
   ],
   "source": [
    "print('Average number of comments for Ask HN:', avg_ask_comments)\n",
    "print('Average number of comments for Show HN:', avg_show_comments)"
   ]
  },
  {
   "cell_type": "markdown",
   "metadata": {},
   "source": [
    "On average, ask posts receive approximately 14 comments, whereas show posts receive only 10."
   ]
  },
  {
   "cell_type": "markdown",
   "metadata": {},
   "source": [
    "## Finding the Amount of Ask Posts and Comments by Hour Created"
   ]
  },
  {
   "cell_type": "markdown",
   "metadata": {},
   "source": [
    "Next, we will focus just on ask posts since they are more likely to receive comments. We will determine if ask posts created at certain time are more likely to attract comments."
   ]
  },
  {
   "cell_type": "code",
   "execution_count": 12,
   "metadata": {
    "collapsed": false
   },
   "outputs": [
    {
     "data": {
      "text/plain": [
       "[('6', '8/16/2016 9:55'),\n",
       " ('29', '11/22/2015 13:43'),\n",
       " ('1', '5/2/2016 10:14'),\n",
       " ('3', '8/2/2016 14:20'),\n",
       " ('17', '10/15/2015 16:38')]"
      ]
     },
     "execution_count": 12,
     "metadata": {},
     "output_type": "execute_result"
    }
   ],
   "source": [
    "time_comments = [(row[4], row[6]) for row in ask_posts]\n",
    "time_comments[:5]"
   ]
  },
  {
   "cell_type": "code",
   "execution_count": 36,
   "metadata": {
    "collapsed": false
   },
   "outputs": [],
   "source": [
    "import datetime as dt\n",
    "\n",
    "counts_by_hour = {}\n",
    "comments_by_hour = {}\n",
    "\n",
    "for n_comments, created_date in time_comments:\n",
    "    n_comments = int(n_comments)\n",
    "    created_dt = dt.datetime.strptime(created_date, '%m/%d/%Y %H:%M')\n",
    "    created_hour = created_dt.hour\n",
    "    \n",
    "    if created_hour not in counts_by_hour:\n",
    "        counts_by_hour[created_hour] = 1\n",
    "    else:\n",
    "        counts_by_hour[created_hour] += 1\n",
    "    \n",
    "    if created_hour not in comments_by_hour:\n",
    "        comments_by_hour[created_hour] = n_comments\n",
    "    else:\n",
    "        comments_by_hour[created_hour] += n_comments"
   ]
  },
  {
   "cell_type": "code",
   "execution_count": 37,
   "metadata": {
    "collapsed": false
   },
   "outputs": [
    {
     "data": {
      "text/plain": [
       "{0: 55,\n",
       " 1: 60,\n",
       " 2: 58,\n",
       " 3: 54,\n",
       " 4: 47,\n",
       " 5: 46,\n",
       " 6: 44,\n",
       " 7: 34,\n",
       " 8: 48,\n",
       " 9: 45,\n",
       " 10: 59,\n",
       " 11: 58,\n",
       " 12: 73,\n",
       " 13: 85,\n",
       " 14: 107,\n",
       " 15: 116,\n",
       " 16: 108,\n",
       " 17: 100,\n",
       " 18: 109,\n",
       " 19: 110,\n",
       " 20: 80,\n",
       " 21: 109,\n",
       " 22: 71,\n",
       " 23: 68}"
      ]
     },
     "execution_count": 37,
     "metadata": {},
     "output_type": "execute_result"
    }
   ],
   "source": [
    "counts_by_hour"
   ]
  },
  {
   "cell_type": "code",
   "execution_count": 38,
   "metadata": {
    "collapsed": false
   },
   "outputs": [
    {
     "data": {
      "text/plain": [
       "{0: 447,\n",
       " 1: 683,\n",
       " 2: 1381,\n",
       " 3: 421,\n",
       " 4: 337,\n",
       " 5: 464,\n",
       " 6: 397,\n",
       " 7: 267,\n",
       " 8: 492,\n",
       " 9: 251,\n",
       " 10: 793,\n",
       " 11: 641,\n",
       " 12: 687,\n",
       " 13: 1253,\n",
       " 14: 1416,\n",
       " 15: 4477,\n",
       " 16: 1814,\n",
       " 17: 1146,\n",
       " 18: 1439,\n",
       " 19: 1188,\n",
       " 20: 1722,\n",
       " 21: 1745,\n",
       " 22: 479,\n",
       " 23: 543}"
      ]
     },
     "execution_count": 38,
     "metadata": {},
     "output_type": "execute_result"
    }
   ],
   "source": [
    "comments_by_hour"
   ]
  },
  {
   "cell_type": "markdown",
   "metadata": {},
   "source": [
    "## Calculating the Average Number of Comments for Ask HN Posts by Hour"
   ]
  },
  {
   "cell_type": "markdown",
   "metadata": {},
   "source": [
    "Now, we will use these two dictionaries to calculate the average number of comments for posts created during each hour of the day."
   ]
  },
  {
   "cell_type": "code",
   "execution_count": 39,
   "metadata": {
    "collapsed": false
   },
   "outputs": [
    {
     "data": {
      "text/plain": [
       "{0: 8.127272727272727,\n",
       " 1: 11.383333333333333,\n",
       " 2: 23.810344827586206,\n",
       " 3: 7.796296296296297,\n",
       " 4: 7.170212765957447,\n",
       " 5: 10.08695652173913,\n",
       " 6: 9.022727272727273,\n",
       " 7: 7.852941176470588,\n",
       " 8: 10.25,\n",
       " 9: 5.5777777777777775,\n",
       " 10: 13.440677966101696,\n",
       " 11: 11.051724137931034,\n",
       " 12: 9.41095890410959,\n",
       " 13: 14.741176470588234,\n",
       " 14: 13.233644859813085,\n",
       " 15: 38.5948275862069,\n",
       " 16: 16.796296296296298,\n",
       " 17: 11.46,\n",
       " 18: 13.20183486238532,\n",
       " 19: 10.8,\n",
       " 20: 21.525,\n",
       " 21: 16.009174311926607,\n",
       " 22: 6.746478873239437,\n",
       " 23: 7.985294117647059}"
      ]
     },
     "execution_count": 39,
     "metadata": {},
     "output_type": "execute_result"
    }
   ],
   "source": [
    "avg_by_hour = {}\n",
    "\n",
    "for hour in comments_by_hour:\n",
    "    avg_by_hour[hour] = comments_by_hour[hour] / counts_by_hour[hour]\n",
    "    \n",
    "avg_by_hour"
   ]
  },
  {
   "cell_type": "markdown",
   "metadata": {},
   "source": [
    "## Sorting and Printing Values from a List of Lists"
   ]
  },
  {
   "cell_type": "code",
   "execution_count": 43,
   "metadata": {
    "collapsed": false
   },
   "outputs": [
    {
     "data": {
      "text/plain": [
       "[(8.127272727272727, 0),\n",
       " (11.383333333333333, 1),\n",
       " (23.810344827586206, 2),\n",
       " (7.796296296296297, 3),\n",
       " (7.170212765957447, 4),\n",
       " (10.08695652173913, 5),\n",
       " (9.022727272727273, 6),\n",
       " (7.852941176470588, 7),\n",
       " (10.25, 8),\n",
       " (5.5777777777777775, 9),\n",
       " (13.440677966101696, 10),\n",
       " (11.051724137931034, 11),\n",
       " (9.41095890410959, 12),\n",
       " (14.741176470588234, 13),\n",
       " (13.233644859813085, 14),\n",
       " (38.5948275862069, 15),\n",
       " (16.796296296296298, 16),\n",
       " (11.46, 17),\n",
       " (13.20183486238532, 18),\n",
       " (10.8, 19),\n",
       " (21.525, 20),\n",
       " (16.009174311926607, 21),\n",
       " (6.746478873239437, 22),\n",
       " (7.985294117647059, 23)]"
      ]
     },
     "execution_count": 43,
     "metadata": {},
     "output_type": "execute_result"
    }
   ],
   "source": [
    "swap_avg_by_hour = []\n",
    "\n",
    "for hour, avg in avg_by_hour.items():\n",
    "    swap_avg_by_hour.append((avg, hour))\n",
    "    \n",
    "swap_avg_by_hour"
   ]
  },
  {
   "cell_type": "code",
   "execution_count": 47,
   "metadata": {
    "collapsed": false
   },
   "outputs": [
    {
     "data": {
      "text/plain": [
       "[(38.5948275862069, 15),\n",
       " (23.810344827586206, 2),\n",
       " (21.525, 20),\n",
       " (16.796296296296298, 16),\n",
       " (16.009174311926607, 21)]"
      ]
     },
     "execution_count": 47,
     "metadata": {},
     "output_type": "execute_result"
    }
   ],
   "source": [
    "sorted_swap = sorted(swap_avg_by_hour, reverse=True)"
   ]
  },
  {
   "cell_type": "markdown",
   "metadata": {},
   "source": [
    "### Top 5 Hour for Ask Posts Comments"
   ]
  },
  {
   "cell_type": "code",
   "execution_count": 56,
   "metadata": {
    "collapsed": false
   },
   "outputs": [
    {
     "name": "stdout",
     "output_type": "stream",
     "text": [
      "15:00: 38.59 average comments per post\n",
      "02:00: 23.81 average comments per post\n",
      "20:00: 21.52 average comments per post\n",
      "16:00: 16.80 average comments per post\n",
      "21:00: 16.01 average comments per post\n"
     ]
    }
   ],
   "source": [
    "for c, h in sorted_swap[:5]:\n",
    "    h = dt.time(hour=h).strftime('%H:%M')\n",
    "    print('{}: {:.2f} average comments per post'.format(h, c))"
   ]
  },
  {
   "cell_type": "markdown",
   "metadata": {},
   "source": [
    "The most popular hour for Ask posts is 15:00, with an average of 38.59 comments per post. This is about a 60% increase in the number of comments between the highest and second highest average number of comments."
   ]
  },
  {
   "cell_type": "markdown",
   "metadata": {},
   "source": [
    "## Conclusion"
   ]
  },
  {
   "cell_type": "markdown",
   "metadata": {},
   "source": [
    "In this project we analyzed Hacker News posts to determine which type of post and time receive the most comments on average. Based on our analysis, the maximum amount of comments could be achieved using \"Ask HN\" posts with created time between 15:00 and 16:00 ET."
   ]
  },
  {
   "cell_type": "code",
   "execution_count": null,
   "metadata": {
    "collapsed": true
   },
   "outputs": [],
   "source": []
  }
 ],
 "metadata": {
  "kernelspec": {
   "display_name": "Python 3",
   "language": "python",
   "name": "python3"
  },
  "language_info": {
   "codemirror_mode": {
    "name": "ipython",
    "version": 3
   },
   "file_extension": ".py",
   "mimetype": "text/x-python",
   "name": "python",
   "nbconvert_exporter": "python",
   "pygments_lexer": "ipython3",
   "version": "3.4.3"
  }
 },
 "nbformat": 4,
 "nbformat_minor": 2
}
