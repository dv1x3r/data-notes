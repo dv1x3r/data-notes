{
 "cells": [
  {
   "cell_type": "markdown",
   "metadata": {},
   "source": [
    "# k-means clustering"
   ]
  },
  {
   "cell_type": "markdown",
   "metadata": {},
   "source": [
    "### Download Iris dataset\n",
    "Follow the link and download the Iris dataset:  \n",
    "http://archive.ics.uci.edu/ml/machine-learning-databases/iris/\n"
   ]
  },
  {
   "cell_type": "code",
   "execution_count": 1,
   "metadata": {},
   "outputs": [],
   "source": [
    "import random\n",
    "import numpy as np\n",
    "import pandas as pd\n",
    "import seaborn as sns\n",
    "import matplotlib.pyplot as plt\n",
    "import imageio\n",
    "\n",
    "#from sklearn.cluster import KMeans"
   ]
  },
  {
   "cell_type": "code",
   "execution_count": 2,
   "metadata": {},
   "outputs": [],
   "source": [
    "class _KMeans:\n",
    "\n",
    "    def __init__(self, n_clusters=8, init='k-means++', max_iter=300):\n",
    "        self.n_clusters = n_clusters\n",
    "        self.init = init\n",
    "        self.max_iter = max_iter\n",
    "        self.cluster_centers_ = None\n",
    "        self.labels_ = None\n",
    "        self.iter = None\n",
    "\n",
    "    def _euclidean_distance(self, X1, X2):\n",
    "        # squared distance -> sum x dimensions -> transpose (clusters in row)\n",
    "        return np.sqrt((X1 - X2) ** 2).sum(2).T\n",
    "\n",
    "    def _plus_plus_init(self, X):\n",
    "        self.cluster_centers_ = np.array([random.choice(X)]) # assign first random centroid\n",
    "        while len(self.cluster_centers_) < self.n_clusters:\n",
    "            available = [x for x in X if x not in self.cluster_centers_]\n",
    "            # calculated distances (sum clusters) and probabilities (max dist -> larger prob)\n",
    "            d = self._euclidean_distance(available, self.cluster_centers_[:, np.newaxis]).sum(1)\n",
    "            p = d / sum(d ** 2)\n",
    "            centroid = random.choices(available, p).pop() # picking the best centroid from the pool\n",
    "            self.cluster_centers_ = np.append(self.cluster_centers_, [centroid], axis=0)\n",
    "\n",
    "    def _default_init(self, X):\n",
    "        self.cluster_centers_ = np.array([random.choice(X)]) # assign first random centroid\n",
    "        while len(self.cluster_centers_) < self.n_clusters:\n",
    "            available = [x for x in X if x not in self.cluster_centers_]\n",
    "            centroid = random.choice(available)\n",
    "            self.cluster_centers_ = np.append(self.cluster_centers_, [centroid], axis=0)\n",
    "\n",
    "    def _run_means(self, X):\n",
    "        self.iter = 0\n",
    "        cluster_centers_old_ = None\n",
    "        while not np.array_equal(cluster_centers_old_, self.cluster_centers_) and self.iter < self.max_iter:\n",
    "            cluster_centers_old_ = self.cluster_centers_.copy()\n",
    "            self.iter += 1\n",
    "\n",
    "            # Step 1\n",
    "            # d = [[np.sqrt(sum(np.power(i - c, 2))) for c in self.cluster_centers_] for i in X]\n",
    "            d = self._euclidean_distance(X, self.cluster_centers_[:, np.newaxis])\n",
    "            self.labels_ = np.argmin(d, axis=1) # indexes of min values (grouped by column)\n",
    "\n",
    "            # Step 2\n",
    "            cluster_centers_loc_ = []\n",
    "            for c in range(self.n_clusters):\n",
    "                xc = np.array([X[li] for li, lc in enumerate(self.labels_) if lc == c])\n",
    "                # x_centers.append([sum(i) / len(i) for i in x.T])\n",
    "                cluster_centers_loc_.append(xc.mean(0)) # calculate mean for each cluster x's\n",
    "                \n",
    "            self.cluster_centers_ = np.array(cluster_centers_loc_)\n",
    "\n",
    "    def fit(self, X):\n",
    "        X = np.array(X)\n",
    "\n",
    "        # Step 0\n",
    "        if self.init == 'k-means++':\n",
    "            self._plus_plus_init(X)\n",
    "        else:  # pick n random centroids\n",
    "            self._default_init(X)\n",
    "\n",
    "        # Step 1, 2\n",
    "        self._run_means(X)\n",
    "\n",
    "        return self\n",
    "    \n",
    "    def accuracy(self, x_class):\n",
    "        df = pd.DataFrame(np.array(x_class), columns=['real']).assign(predicted=self.labels_)\n",
    "        k_size = df.groupby(['real', 'predicted']).size()\n",
    "        class_max = k_size.groupby(['real']).max()\n",
    "        return round((class_max.sum() / len(X)), 2)"
   ]
  },
  {
   "cell_type": "markdown",
   "metadata": {},
   "source": [
    "## Sample Demonstration"
   ]
  },
  {
   "cell_type": "code",
   "execution_count": 3,
   "metadata": {},
   "outputs": [
    {
     "data": {
      "text/plain": [
       "<matplotlib.axes._subplots.AxesSubplot at 0x1249e8240>"
      ]
     },
     "execution_count": 3,
     "metadata": {},
     "output_type": "execute_result"
    },
    {
     "data": {
      "image/png": "[encoded data removed]",
      "text/plain": [
       "<Figure size 432x288 with 1 Axes>"
      ]
     },
     "metadata": {
      "needs_background": "light"
     },
     "output_type": "display_data"
    }
   ],
   "source": [
    "X = pd.DataFrame({\n",
    "    'x': [1, 2, 1, 3, 5, 4],\n",
    "    'y': [5, 5, 4, 2, 2, 1]\n",
    "})\n",
    "X['k'] = _KMeans(n_clusters=2).fit(X).labels_\n",
    "sns.scatterplot(x=X['x'], y=X['y'], hue=X['k'])"
   ]
  },
  {
   "cell_type": "markdown",
   "metadata": {},
   "source": [
    "## Iris Flowers"
   ]
  },
  {
   "cell_type": "markdown",
   "metadata": {},
   "source": [
    "### Import"
   ]
  },
  {
   "cell_type": "code",
   "execution_count": 4,
   "metadata": {},
   "outputs": [],
   "source": [
    "X = pd.read_csv('datasets/iris.data.csv')\n",
    "X['k'] = _KMeans(n_clusters=3).fit(X[['sepal length', 'sepal width', 'petal length', 'petal width']]).labels_"
   ]
  },
  {
   "cell_type": "markdown",
   "metadata": {},
   "source": [
    "### Clustering data"
   ]
  },
  {
   "cell_type": "code",
   "execution_count": 5,
   "metadata": {},
   "outputs": [
    {
     "data": {
      "text/plain": [
       "<matplotlib.axes._subplots.AxesSubplot at 0x126ad9908>"
      ]
     },
     "execution_count": 5,
     "metadata": {},
     "output_type": "execute_result"
    },
    {
     "data": {
      "image/png": "[encoded data removed]",
      "text/plain": [
       "<Figure size 432x288 with 1 Axes>"
      ]
     },
     "metadata": {
      "needs_background": "light"
     },
     "output_type": "display_data"
    }
   ],
   "source": [
    "sns.scatterplot(x=X['sepal length'], y=X['petal width'], hue=X['k'])\n",
    "#sns.pairplot(X, vars=['sepal length', 'sepal width', 'petal length', 'petal width'], hue='k')"
   ]
  },
  {
   "cell_type": "markdown",
   "metadata": {},
   "source": [
    "### Actual data"
   ]
  },
  {
   "cell_type": "code",
   "execution_count": 6,
   "metadata": {},
   "outputs": [
    {
     "data": {
      "text/plain": [
       "<matplotlib.axes._subplots.AxesSubplot at 0x126aa6c50>"
      ]
     },
     "execution_count": 6,
     "metadata": {},
     "output_type": "execute_result"
    },
    {
     "data": {
      "image/png": "[encoded data removed]",
      "text/plain": [
       "<Figure size 432x288 with 1 Axes>"
      ]
     },
     "metadata": {
      "needs_background": "light"
     },
     "output_type": "display_data"
    }
   ],
   "source": [
    "sns.scatterplot(x=X['sepal length'], y=X['petal width'], hue=X['class'])\n",
    "# sns.pairplot(X, vars=['sepal length', 'sepal width', 'petal length', 'petal width'], hue='class')"
   ]
  },
  {
   "cell_type": "markdown",
   "metadata": {},
   "source": [
    "### Accuracy check for 200 iterations (k-means++)"
   ]
  },
  {
   "cell_type": "code",
   "execution_count": 7,
   "metadata": {},
   "outputs": [],
   "source": [
    "models = [_KMeans(n_clusters=3, init='k-means++').fit(X[['sepal length', 'sepal width', 'petal length', 'petal width']]) for x in range(200)]"
   ]
  },
  {
   "cell_type": "code",
   "execution_count": 8,
   "metadata": {},
   "outputs": [
    {
     "name": "stdout",
     "output_type": "stream",
     "text": [
      "Min Iterations 2\n",
      "Max Iterations 16\n",
      "Avg Iterations 6.05\n"
     ]
    }
   ],
   "source": [
    "print('Min Iterations', np.array([x.iter for x in models]).min())\n",
    "print('Max Iterations', np.array([x.iter for x in models]).max())\n",
    "print('Avg Iterations', np.array([x.iter for x in models]).mean())"
   ]
  },
  {
   "cell_type": "code",
   "execution_count": 9,
   "metadata": {},
   "outputs": [
    {
     "name": "stdout",
     "output_type": "stream",
     "text": [
      "Min Accuracy 0.81\n",
      "Max Accuracy 0.89\n",
      "Avg Accuracy 0.89\n"
     ]
    }
   ],
   "source": [
    "print('Min Accuracy', round(np.array([x.accuracy(X[['class']]) for x in models]).min(), 2))\n",
    "print('Max Accuracy', round(np.array([x.accuracy(X[['class']]) for x in models]).max(), 2))\n",
    "print('Avg Accuracy', round(np.array([x.accuracy(X[['class']]) for x in models]).mean(), 2))"
   ]
  },
  {
   "cell_type": "markdown",
   "metadata": {},
   "source": [
    "### Accuracy check for 200 iterations (randomly initialized centroids)"
   ]
  },
  {
   "cell_type": "code",
   "execution_count": 10,
   "metadata": {},
   "outputs": [],
   "source": [
    "models = [_KMeans(n_clusters=3, init='default').fit(X[['sepal length', 'sepal width', 'petal length', 'petal width']]) for x in range(200)]"
   ]
  },
  {
   "cell_type": "code",
   "execution_count": 11,
   "metadata": {},
   "outputs": [
    {
     "name": "stdout",
     "output_type": "stream",
     "text": [
      "Min Iterations 2\n",
      "Max Iterations 19\n",
      "Avg Iterations 7.125\n"
     ]
    }
   ],
   "source": [
    "print('Min Iterations', np.array([x.iter for x in models]).min())\n",
    "print('Max Iterations', np.array([x.iter for x in models]).max())\n",
    "print('Avg Iterations', np.array([x.iter for x in models]).mean())"
   ]
  },
  {
   "cell_type": "code",
   "execution_count": 12,
   "metadata": {},
   "outputs": [
    {
     "name": "stdout",
     "output_type": "stream",
     "text": [
      "Min Accuracy 0.81\n",
      "Max Accuracy 0.89\n",
      "Avg Accuracy 0.88\n"
     ]
    }
   ],
   "source": [
    "print('Min Accuracy', round(np.array([x.accuracy(X[['class']]) for x in models]).min(), 2))\n",
    "print('Max Accuracy', round(np.array([x.accuracy(X[['class']]) for x in models]).max(), 2))\n",
    "print('Avg Accuracy', round(np.array([x.accuracy(X[['class']]) for x in models]).mean(), 2))"
   ]
  },
  {
   "cell_type": "markdown",
   "metadata": {},
   "source": [
    "## Image compression"
   ]
  },
  {
   "cell_type": "markdown",
   "metadata": {},
   "source": [
    "### Import"
   ]
  },
  {
   "cell_type": "code",
   "execution_count": 13,
   "metadata": {},
   "outputs": [],
   "source": [
    "X = imageio.imread('datasets/image.jpg')"
   ]
  },
  {
   "cell_type": "markdown",
   "metadata": {},
   "source": [
    "### Clustered image"
   ]
  },
  {
   "cell_type": "code",
   "execution_count": 14,
   "metadata": {
    "scrolled": true
   },
   "outputs": [
    {
     "name": "stdout",
     "output_type": "stream",
     "text": [
      "CPU times: user 14.1 s, sys: 663 ms, total: 14.7 s\n",
      "Wall time: 14.8 s\n"
     ]
    },
    {
     "data": {
      "image/png": "[encoded data removed]",
      "text/plain": [
       "<Figure size 432x288 with 1 Axes>"
      ]
     },
     "metadata": {
      "needs_background": "light"
     },
     "output_type": "display_data"
    }
   ],
   "source": [
    "%%time\n",
    "k = _KMeans(n_clusters=6).fit(np.reshape(X, (-1, 3)))\n",
    "c = list(map((lambda y: k.cluster_centers_[y].astype(int)), k.labels_))\n",
    "plt.imshow(np.reshape(c, X.shape))"
   ]
  },
  {
   "cell_type": "markdown",
   "metadata": {},
   "source": [
    "### Performance check for 10 iterations (k-means++)"
   ]
  },
  {
   "cell_type": "code",
   "execution_count": 15,
   "metadata": {},
   "outputs": [
    {
     "name": "stdout",
     "output_type": "stream",
     "text": [
      "CPU times: user 1min 5s, sys: 3.26 s, total: 1min 8s\n",
      "Wall time: 1min 8s\n"
     ]
    }
   ],
   "source": [
    "%%time\n",
    "models = [_KMeans(n_clusters=3, init='k-means++').fit(np.reshape(X, (-1, 3))) for x in range(10)]"
   ]
  },
  {
   "cell_type": "code",
   "execution_count": 16,
   "metadata": {},
   "outputs": [
    {
     "name": "stdout",
     "output_type": "stream",
     "text": [
      "Min Iterations 9\n",
      "Max Iterations 16\n",
      "Avg Iterations 12.6\n"
     ]
    }
   ],
   "source": [
    "print('Min Iterations', np.array([x.iter for x in models]).min())\n",
    "print('Max Iterations', np.array([x.iter for x in models]).max())\n",
    "print('Avg Iterations', np.array([x.iter for x in models]).mean())"
   ]
  },
  {
   "cell_type": "markdown",
   "metadata": {},
   "source": [
    "### Performance check for 10 iterations (randomly initialized centroids)"
   ]
  },
  {
   "cell_type": "code",
   "execution_count": 17,
   "metadata": {},
   "outputs": [
    {
     "name": "stdout",
     "output_type": "stream",
     "text": [
      "CPU times: user 1min 2s, sys: 2.86 s, total: 1min 5s\n",
      "Wall time: 1min 5s\n"
     ]
    }
   ],
   "source": [
    "%%time\n",
    "models = [_KMeans(n_clusters=3, init='default').fit(np.reshape(X, (-1, 3))) for x in range(10)]"
   ]
  },
  {
   "cell_type": "code",
   "execution_count": 18,
   "metadata": {},
   "outputs": [
    {
     "name": "stdout",
     "output_type": "stream",
     "text": [
      "Min Iterations 10\n",
      "Max Iterations 17\n",
      "Avg Iterations 13.0\n"
     ]
    }
   ],
   "source": [
    "print('Min Iterations', np.array([x.iter for x in models]).min())\n",
    "print('Max Iterations', np.array([x.iter for x in models]).max())\n",
    "print('Avg Iterations', np.array([x.iter for x in models]).mean())"
   ]
  },
  {
   "cell_type": "code",
   "execution_count": null,
   "metadata": {},
   "outputs": [],
   "source": []
  }
 ],
 "metadata": {
  "kernelspec": {
   "display_name": "Python 3",
   "language": "python",
   "name": "python3"
  },
  "language_info": {
   "codemirror_mode": {
    "name": "ipython",
    "version": 3
   },
   "file_extension": ".py",
   "mimetype": "text/x-python",
   "name": "python",
   "nbconvert_exporter": "python",
   "pygments_lexer": "ipython3",
   "version": "3.7.2"
  }
 },
 "nbformat": 4,
 "nbformat_minor": 2
}
