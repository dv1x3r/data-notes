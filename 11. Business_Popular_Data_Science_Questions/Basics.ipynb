{
 "cells": [
  {
   "cell_type": "markdown",
   "metadata": {},
   "source": [
    "# Guided Project: Popular Data Science Questions"
   ]
  },
  {
   "cell_type": "markdown",
   "metadata": {},
   "source": [
    "We are finally ready to explore date from the outside of DataQuest! In this project we will explore Stack Exchange Data Science questions answering the question \"What is it that people want to learn about in data science?\"."
   ]
  },
  {
   "cell_type": "code",
   "execution_count": 1,
   "metadata": {
    "collapsed": true
   },
   "outputs": [],
   "source": [
    "import requests\n",
    "import datetime as dt\n",
    "import pandas as pd\n",
    "import matplotlib.pyplot as plt\n",
    "import seaborn as sns\n",
    "%matplotlib inline"
   ]
  },
  {
   "cell_type": "markdown",
   "metadata": {},
   "source": [
    "## Getting and Exploring the Data"
   ]
  },
  {
   "cell_type": "markdown",
   "metadata": {},
   "source": [
    "Stack Exchange provides several ways of extracting data:\n",
    "\n",
    "* **API**: Retrieve paginated data with GET request in json\n",
    "* **Data Explorer**: Build T-SQL like queries using web interface and download results in csv\n",
    "\n",
    "DataQuest suggests us to use Data Explorer, but I ~~am above it~~ find it impractical due the lack of fetch automation and making requests from code."
   ]
  },
  {
   "cell_type": "markdown",
   "metadata": {},
   "source": [
    "### [Stack Exchange API](https://api.stackexchange.com/docs/questions)"
   ]
  },
  {
   "cell_type": "markdown",
   "metadata": {},
   "source": [
    "The maximum page size for Stack Exchange API request is 100 entries. In order to download all the pages we need to do this sequentially.\n",
    "\n",
    "* 100 questions = 1 request\n",
    "* 1.000 questions = 10 requests\n",
    "* 10.000 questions = 100 requests\n",
    "\n",
    "It is worth to mention that we need to keep in mind [API Rate Limiting](https://api.stackexchange.com/docs/throttle).\n",
    "\n",
    "* Max requests per day per IP = 10.000\n",
    "* Max requests per second per IP = 30"
   ]
  },
  {
   "cell_type": "code",
   "execution_count": 2,
   "metadata": {
    "collapsed": false,
    "scrolled": true
   },
   "outputs": [],
   "source": [
    "def get_questions_page(page=1):\n",
    "    return requests.get('https://api.stackexchange.com/2.2/questions', params={\n",
    "        'page': page\n",
    "        ,'pagesize': 100\n",
    "        ,'fromdate': 1546300800 # 2019-01-01\n",
    "        ,'todate': 1577836800 # 2020-01-01\n",
    "        ,'order': 'desc'\n",
    "        ,'sort': 'creation'\n",
    "        ,'site': 'datascience'\n",
    "        ,'filter': '!)r_ttsCTOhb*c)Yfkb)B'\n",
    "    }).json()\n",
    "\n",
    "def get_all_questions():\n",
    "    page = 0\n",
    "    questions = []\n",
    "    has_more=True\n",
    "    \n",
    "    while has_more:\n",
    "        page += 1\n",
    "        questions_page = get_questions_page(page)\n",
    "        questions.extend(questions_page['items'])\n",
    "        has_more = questions_page['has_more']\n",
    "        total_pages = round(questions_page['total'] // 100) + 1\n",
    "        print('Loaded page: ', page, '/',  total_pages)\n",
    "    \n",
    "    return questions"
   ]
  },
  {
   "cell_type": "code",
   "execution_count": 3,
   "metadata": {
    "collapsed": false,
    "scrolled": true
   },
   "outputs": [
    {
     "name": "stdout",
     "output_type": "stream",
     "text": [
      "Loaded page:  1 / 68\n",
      "Loaded page:  2 / 68\n",
      "Loaded page:  3 / 68\n",
      "Loaded page:  4 / 68\n",
      "Loaded page:  5 / 68\n",
      "Loaded page:  6 / 68\n",
      "Loaded page:  7 / 68\n",
      "Loaded page:  8 / 68\n",
      "Loaded page:  9 / 68\n",
      "Loaded page:  10 / 68\n",
      "Loaded page:  11 / 68\n",
      "Loaded page:  12 / 68\n",
      "Loaded page:  13 / 68\n",
      "Loaded page:  14 / 68\n",
      "Loaded page:  15 / 68\n",
      "Loaded page:  16 / 68\n",
      "Loaded page:  17 / 68\n",
      "Loaded page:  18 / 68\n",
      "Loaded page:  19 / 68\n",
      "Loaded page:  20 / 68\n",
      "Loaded page:  21 / 68\n",
      "Loaded page:  22 / 68\n",
      "Loaded page:  23 / 68\n",
      "Loaded page:  24 / 68\n",
      "Loaded page:  25 / 68\n",
      "Loaded page:  26 / 68\n",
      "Loaded page:  27 / 68\n",
      "Loaded page:  28 / 68\n",
      "Loaded page:  29 / 68\n",
      "Loaded page:  30 / 68\n",
      "Loaded page:  31 / 68\n",
      "Loaded page:  32 / 68\n",
      "Loaded page:  33 / 68\n",
      "Loaded page:  34 / 68\n",
      "Loaded page:  35 / 68\n",
      "Loaded page:  36 / 68\n",
      "Loaded page:  37 / 68\n",
      "Loaded page:  38 / 68\n",
      "Loaded page:  39 / 68\n",
      "Loaded page:  40 / 68\n",
      "Loaded page:  41 / 68\n",
      "Loaded page:  42 / 68\n",
      "Loaded page:  43 / 68\n",
      "Loaded page:  44 / 68\n",
      "Loaded page:  45 / 68\n",
      "Loaded page:  46 / 68\n",
      "Loaded page:  47 / 68\n",
      "Loaded page:  48 / 68\n",
      "Loaded page:  49 / 68\n",
      "Loaded page:  50 / 68\n",
      "Loaded page:  51 / 68\n",
      "Loaded page:  52 / 68\n",
      "Loaded page:  53 / 68\n",
      "Loaded page:  54 / 68\n",
      "Loaded page:  55 / 68\n",
      "Loaded page:  56 / 68\n",
      "Loaded page:  57 / 68\n",
      "Loaded page:  58 / 68\n",
      "Loaded page:  59 / 68\n",
      "Loaded page:  60 / 68\n",
      "Loaded page:  61 / 68\n",
      "Loaded page:  62 / 68\n",
      "Loaded page:  63 / 68\n",
      "Loaded page:  64 / 68\n",
      "Loaded page:  65 / 68\n",
      "Loaded page:  66 / 68\n",
      "Loaded page:  67 / 68\n",
      "Loaded page:  68 / 68\n"
     ]
    }
   ],
   "source": [
    "questions = get_all_questions()\n",
    "df = pd.DataFrame(questions)\n",
    "df['creation_date'] = df['creation_date'].apply(dt.date.fromtimestamp).astype('datetime64[ns]')"
   ]
  },
  {
   "cell_type": "code",
   "execution_count": 4,
   "metadata": {
    "collapsed": false
   },
   "outputs": [
    {
     "data": {
      "text/html": [
       "<div>\n",
       "<style scoped>\n",
       "    .dataframe tbody tr th:only-of-type {\n",
       "        vertical-align: middle;\n",
       "    }\n",
       "\n",
       "    .dataframe tbody tr th {\n",
       "        vertical-align: top;\n",
       "    }\n",
       "\n",
       "    .dataframe thead th {\n",
       "        text-align: right;\n",
       "    }\n",
       "</style>\n",
       "<table border=\"1\" class=\"dataframe\">\n",
       "  <thead>\n",
       "    <tr style=\"text-align: right;\">\n",
       "      <th></th>\n",
       "      <th>creation_date</th>\n",
       "      <th>favorite_count</th>\n",
       "      <th>question_id</th>\n",
       "      <th>score</th>\n",
       "      <th>tags</th>\n",
       "      <th>view_count</th>\n",
       "    </tr>\n",
       "  </thead>\n",
       "  <tbody>\n",
       "    <tr>\n",
       "      <th>0</th>\n",
       "      <td>2019-12-31</td>\n",
       "      <td>1</td>\n",
       "      <td>65671</td>\n",
       "      <td>1</td>\n",
       "      <td>[deep-learning, hyperparameter, hyperparameter...</td>\n",
       "      <td>93</td>\n",
       "    </tr>\n",
       "    <tr>\n",
       "      <th>1</th>\n",
       "      <td>2019-12-31</td>\n",
       "      <td>0</td>\n",
       "      <td>65667</td>\n",
       "      <td>1</td>\n",
       "      <td>[bayesian]</td>\n",
       "      <td>29</td>\n",
       "    </tr>\n",
       "    <tr>\n",
       "      <th>2</th>\n",
       "      <td>2019-12-31</td>\n",
       "      <td>0</td>\n",
       "      <td>65666</td>\n",
       "      <td>1</td>\n",
       "      <td>[machine-learning, scikit-learn, cross-validat...</td>\n",
       "      <td>271</td>\n",
       "    </tr>\n",
       "    <tr>\n",
       "      <th>3</th>\n",
       "      <td>2019-12-31</td>\n",
       "      <td>0</td>\n",
       "      <td>65664</td>\n",
       "      <td>1</td>\n",
       "      <td>[neural-network, deep-learning, classification...</td>\n",
       "      <td>1390</td>\n",
       "    </tr>\n",
       "    <tr>\n",
       "      <th>4</th>\n",
       "      <td>2019-12-31</td>\n",
       "      <td>0</td>\n",
       "      <td>65663</td>\n",
       "      <td>3</td>\n",
       "      <td>[information-retrieval]</td>\n",
       "      <td>54</td>\n",
       "    </tr>\n",
       "  </tbody>\n",
       "</table>\n",
       "</div>"
      ],
      "text/plain": [
       "  creation_date  favorite_count  question_id  score  \\\n",
       "0    2019-12-31               1        65671      1   \n",
       "1    2019-12-31               0        65667      1   \n",
       "2    2019-12-31               0        65666      1   \n",
       "3    2019-12-31               0        65664      1   \n",
       "4    2019-12-31               0        65663      3   \n",
       "\n",
       "                                                tags  view_count  \n",
       "0  [deep-learning, hyperparameter, hyperparameter...          93  \n",
       "1                                         [bayesian]          29  \n",
       "2  [machine-learning, scikit-learn, cross-validat...         271  \n",
       "3  [neural-network, deep-learning, classification...        1390  \n",
       "4                            [information-retrieval]          54  "
      ]
     },
     "execution_count": 4,
     "metadata": {},
     "output_type": "execute_result"
    }
   ],
   "source": [
    "df.head()"
   ]
  },
  {
   "cell_type": "code",
   "execution_count": 5,
   "metadata": {
    "collapsed": false
   },
   "outputs": [
    {
     "name": "stdout",
     "output_type": "stream",
     "text": [
      "<class 'pandas.core.frame.DataFrame'>\n",
      "RangeIndex: 6781 entries, 0 to 6780\n",
      "Data columns (total 6 columns):\n",
      "creation_date     6781 non-null datetime64[ns]\n",
      "favorite_count    6781 non-null int64\n",
      "question_id       6781 non-null int64\n",
      "score             6781 non-null int64\n",
      "tags              6781 non-null object\n",
      "view_count        6781 non-null int64\n",
      "dtypes: datetime64[ns](1), int64(4), object(1)\n",
      "memory usage: 317.9+ KB\n"
     ]
    }
   ],
   "source": [
    "df.info()"
   ]
  },
  {
   "cell_type": "markdown",
   "metadata": {
    "collapsed": true
   },
   "source": [
    "### [Stack Exchange Data Explorer](https://data.stackexchange.com/datascience/)"
   ]
  },
  {
   "cell_type": "markdown",
   "metadata": {},
   "source": [
    "```sql\n",
    "select\n",
    "  p.Id\n",
    "  ,p.CreationDate\n",
    "  ,p.Score\n",
    "  ,p.ViewCount\n",
    "  ,p.Tags\n",
    "  ,p.AnswerCount\n",
    "  ,p.FavoriteCount\n",
    "from Posts p join PostTypes pt on pt.Id = p.PostTypeId\n",
    "where pt.Name = 'Question' and year(p.CreationDate) = 2019\n",
    "```"
   ]
  },
  {
   "cell_type": "code",
   "execution_count": 6,
   "metadata": {
    "collapsed": true
   },
   "outputs": [],
   "source": [
    "df = pd.read_csv('https://data.stackexchange.com/datascience/csv/1674454', parse_dates=['CreationDate'])"
   ]
  },
  {
   "cell_type": "code",
   "execution_count": 7,
   "metadata": {
    "collapsed": false
   },
   "outputs": [
    {
     "data": {
      "text/html": [
       "<div>\n",
       "<style scoped>\n",
       "    .dataframe tbody tr th:only-of-type {\n",
       "        vertical-align: middle;\n",
       "    }\n",
       "\n",
       "    .dataframe tbody tr th {\n",
       "        vertical-align: top;\n",
       "    }\n",
       "\n",
       "    .dataframe thead th {\n",
       "        text-align: right;\n",
       "    }\n",
       "</style>\n",
       "<table border=\"1\" class=\"dataframe\">\n",
       "  <thead>\n",
       "    <tr style=\"text-align: right;\">\n",
       "      <th></th>\n",
       "      <th>Id</th>\n",
       "      <th>CreationDate</th>\n",
       "      <th>Score</th>\n",
       "      <th>ViewCount</th>\n",
       "      <th>Tags</th>\n",
       "      <th>AnswerCount</th>\n",
       "      <th>FavoriteCount</th>\n",
       "    </tr>\n",
       "  </thead>\n",
       "  <tbody>\n",
       "    <tr>\n",
       "      <th>0</th>\n",
       "      <td>60513</td>\n",
       "      <td>2019-09-20 17:35:23</td>\n",
       "      <td>1</td>\n",
       "      <td>24</td>\n",
       "      <td>&lt;orange&gt;&lt;orange3&gt;</td>\n",
       "      <td>0</td>\n",
       "      <td>NaN</td>\n",
       "    </tr>\n",
       "    <tr>\n",
       "      <th>1</th>\n",
       "      <td>60520</td>\n",
       "      <td>2019-09-20 19:20:41</td>\n",
       "      <td>2</td>\n",
       "      <td>191</td>\n",
       "      <td>&lt;machine-learning&gt;&lt;scikit-learn&gt;&lt;multiclass-cl...</td>\n",
       "      <td>2</td>\n",
       "      <td>1.0</td>\n",
       "    </tr>\n",
       "    <tr>\n",
       "      <th>2</th>\n",
       "      <td>60522</td>\n",
       "      <td>2019-09-20 21:05:01</td>\n",
       "      <td>0</td>\n",
       "      <td>30</td>\n",
       "      <td>&lt;machine-learning&gt;&lt;image-recognition&gt;&lt;image-pr...</td>\n",
       "      <td>1</td>\n",
       "      <td>NaN</td>\n",
       "    </tr>\n",
       "    <tr>\n",
       "      <th>3</th>\n",
       "      <td>60527</td>\n",
       "      <td>2019-09-20 22:45:12</td>\n",
       "      <td>0</td>\n",
       "      <td>123</td>\n",
       "      <td>&lt;machine-learning&gt;&lt;feature-selection&gt;&lt;random-f...</td>\n",
       "      <td>2</td>\n",
       "      <td>NaN</td>\n",
       "    </tr>\n",
       "    <tr>\n",
       "      <th>4</th>\n",
       "      <td>60528</td>\n",
       "      <td>2019-09-20 23:13:52</td>\n",
       "      <td>2</td>\n",
       "      <td>19</td>\n",
       "      <td>&lt;numpy&gt;&lt;matplotlib&gt;</td>\n",
       "      <td>0</td>\n",
       "      <td>NaN</td>\n",
       "    </tr>\n",
       "  </tbody>\n",
       "</table>\n",
       "</div>"
      ],
      "text/plain": [
       "      Id        CreationDate  Score  ViewCount  \\\n",
       "0  60513 2019-09-20 17:35:23      1         24   \n",
       "1  60520 2019-09-20 19:20:41      2        191   \n",
       "2  60522 2019-09-20 21:05:01      0         30   \n",
       "3  60527 2019-09-20 22:45:12      0        123   \n",
       "4  60528 2019-09-20 23:13:52      2         19   \n",
       "\n",
       "                                                Tags  AnswerCount  \\\n",
       "0                                  <orange><orange3>            0   \n",
       "1  <machine-learning><scikit-learn><multiclass-cl...            2   \n",
       "2  <machine-learning><image-recognition><image-pr...            1   \n",
       "3  <machine-learning><feature-selection><random-f...            2   \n",
       "4                                <numpy><matplotlib>            0   \n",
       "\n",
       "   FavoriteCount  \n",
       "0            NaN  \n",
       "1            1.0  \n",
       "2            NaN  \n",
       "3            NaN  \n",
       "4            NaN  "
      ]
     },
     "execution_count": 7,
     "metadata": {},
     "output_type": "execute_result"
    }
   ],
   "source": [
    "df.head()"
   ]
  },
  {
   "cell_type": "code",
   "execution_count": 8,
   "metadata": {
    "collapsed": false
   },
   "outputs": [
    {
     "name": "stdout",
     "output_type": "stream",
     "text": [
      "<class 'pandas.core.frame.DataFrame'>\n",
      "RangeIndex: 6781 entries, 0 to 6780\n",
      "Data columns (total 7 columns):\n",
      "Id               6781 non-null int64\n",
      "CreationDate     6781 non-null datetime64[ns]\n",
      "Score            6781 non-null int64\n",
      "ViewCount        6781 non-null int64\n",
      "Tags             6781 non-null object\n",
      "AnswerCount      6781 non-null int64\n",
      "FavoriteCount    1579 non-null float64\n",
      "dtypes: datetime64[ns](1), float64(1), int64(4), object(1)\n",
      "memory usage: 370.9+ KB\n"
     ]
    }
   ],
   "source": [
    "df.info()"
   ]
  },
  {
   "cell_type": "markdown",
   "metadata": {},
   "source": [
    "### We need MORE DATA"
   ]
  },
  {
   "cell_type": "markdown",
   "metadata": {},
   "source": [
    "Using approaches above we can retrieve ~6.7k records for 2019 year (fetching in 2021). This is a bit less than DataQuest has prepared for us in the `2019_questions.csv` file. I suppose that a lot of questions was deleted :c. Let's stick to DataQuest csv file as it includes more data."
   ]
  },
  {
   "cell_type": "code",
   "execution_count": 9,
   "metadata": {
    "collapsed": true
   },
   "outputs": [],
   "source": [
    "df = pd.read_csv('2019_questions.csv', parse_dates=['CreationDate'])"
   ]
  },
  {
   "cell_type": "code",
   "execution_count": 10,
   "metadata": {
    "collapsed": false,
    "scrolled": false
   },
   "outputs": [
    {
     "data": {
      "text/html": [
       "<div>\n",
       "<style scoped>\n",
       "    .dataframe tbody tr th:only-of-type {\n",
       "        vertical-align: middle;\n",
       "    }\n",
       "\n",
       "    .dataframe tbody tr th {\n",
       "        vertical-align: top;\n",
       "    }\n",
       "\n",
       "    .dataframe thead th {\n",
       "        text-align: right;\n",
       "    }\n",
       "</style>\n",
       "<table border=\"1\" class=\"dataframe\">\n",
       "  <thead>\n",
       "    <tr style=\"text-align: right;\">\n",
       "      <th></th>\n",
       "      <th>Id</th>\n",
       "      <th>CreationDate</th>\n",
       "      <th>Score</th>\n",
       "      <th>ViewCount</th>\n",
       "      <th>Tags</th>\n",
       "      <th>AnswerCount</th>\n",
       "      <th>FavoriteCount</th>\n",
       "    </tr>\n",
       "  </thead>\n",
       "  <tbody>\n",
       "    <tr>\n",
       "      <th>0</th>\n",
       "      <td>44419</td>\n",
       "      <td>2019-01-23 09:21:13</td>\n",
       "      <td>1</td>\n",
       "      <td>21</td>\n",
       "      <td>&lt;machine-learning&gt;&lt;data-mining&gt;</td>\n",
       "      <td>0</td>\n",
       "      <td>NaN</td>\n",
       "    </tr>\n",
       "    <tr>\n",
       "      <th>1</th>\n",
       "      <td>44420</td>\n",
       "      <td>2019-01-23 09:34:01</td>\n",
       "      <td>0</td>\n",
       "      <td>25</td>\n",
       "      <td>&lt;machine-learning&gt;&lt;regression&gt;&lt;linear-regressi...</td>\n",
       "      <td>0</td>\n",
       "      <td>NaN</td>\n",
       "    </tr>\n",
       "    <tr>\n",
       "      <th>2</th>\n",
       "      <td>44423</td>\n",
       "      <td>2019-01-23 09:58:41</td>\n",
       "      <td>2</td>\n",
       "      <td>1651</td>\n",
       "      <td>&lt;python&gt;&lt;time-series&gt;&lt;forecast&gt;&lt;forecasting&gt;</td>\n",
       "      <td>0</td>\n",
       "      <td>NaN</td>\n",
       "    </tr>\n",
       "    <tr>\n",
       "      <th>3</th>\n",
       "      <td>44427</td>\n",
       "      <td>2019-01-23 10:57:09</td>\n",
       "      <td>0</td>\n",
       "      <td>55</td>\n",
       "      <td>&lt;machine-learning&gt;&lt;scikit-learn&gt;&lt;pca&gt;</td>\n",
       "      <td>1</td>\n",
       "      <td>NaN</td>\n",
       "    </tr>\n",
       "    <tr>\n",
       "      <th>4</th>\n",
       "      <td>44428</td>\n",
       "      <td>2019-01-23 11:02:15</td>\n",
       "      <td>0</td>\n",
       "      <td>19</td>\n",
       "      <td>&lt;dataset&gt;&lt;bigdata&gt;&lt;data&gt;&lt;speech-to-text&gt;</td>\n",
       "      <td>0</td>\n",
       "      <td>NaN</td>\n",
       "    </tr>\n",
       "  </tbody>\n",
       "</table>\n",
       "</div>"
      ],
      "text/plain": [
       "      Id        CreationDate  Score  ViewCount  \\\n",
       "0  44419 2019-01-23 09:21:13      1         21   \n",
       "1  44420 2019-01-23 09:34:01      0         25   \n",
       "2  44423 2019-01-23 09:58:41      2       1651   \n",
       "3  44427 2019-01-23 10:57:09      0         55   \n",
       "4  44428 2019-01-23 11:02:15      0         19   \n",
       "\n",
       "                                                Tags  AnswerCount  \\\n",
       "0                    <machine-learning><data-mining>            0   \n",
       "1  <machine-learning><regression><linear-regressi...            0   \n",
       "2       <python><time-series><forecast><forecasting>            0   \n",
       "3              <machine-learning><scikit-learn><pca>            1   \n",
       "4           <dataset><bigdata><data><speech-to-text>            0   \n",
       "\n",
       "   FavoriteCount  \n",
       "0            NaN  \n",
       "1            NaN  \n",
       "2            NaN  \n",
       "3            NaN  \n",
       "4            NaN  "
      ]
     },
     "execution_count": 10,
     "metadata": {},
     "output_type": "execute_result"
    }
   ],
   "source": [
    "df.head()"
   ]
  },
  {
   "cell_type": "code",
   "execution_count": 11,
   "metadata": {
    "collapsed": false
   },
   "outputs": [
    {
     "name": "stdout",
     "output_type": "stream",
     "text": [
      "<class 'pandas.core.frame.DataFrame'>\n",
      "RangeIndex: 8839 entries, 0 to 8838\n",
      "Data columns (total 7 columns):\n",
      "Id               8839 non-null int64\n",
      "CreationDate     8839 non-null datetime64[ns]\n",
      "Score            8839 non-null int64\n",
      "ViewCount        8839 non-null int64\n",
      "Tags             8839 non-null object\n",
      "AnswerCount      8839 non-null int64\n",
      "FavoriteCount    1407 non-null float64\n",
      "dtypes: datetime64[ns](1), float64(1), int64(4), object(1)\n",
      "memory usage: 483.5+ KB\n"
     ]
    }
   ],
   "source": [
    "df.info()"
   ]
  },
  {
   "cell_type": "markdown",
   "metadata": {},
   "source": [
    "## Cleaning the Data"
   ]
  },
  {
   "cell_type": "markdown",
   "metadata": {},
   "source": [
    "First of all, we need to think what data structures we need for our task and implement general transformations.\n",
    "\n",
    "1. Fill missing FavoriteCount values with zero\n",
    "2. Split string tags into lists for better structure\n",
    "3. Create an unpivoted DataFrame with single Tag column\n",
    "    * Group by Tag for Most Used and Most Viewed analysis\n",
    "    * Pivot by ID for determining Tags relations"
   ]
  },
  {
   "cell_type": "code",
   "execution_count": 12,
   "metadata": {
    "collapsed": false
   },
   "outputs": [],
   "source": [
    "df['FavoriteCount'] = df['FavoriteCount'].fillna(0)"
   ]
  },
  {
   "cell_type": "code",
   "execution_count": 13,
   "metadata": {
    "collapsed": false
   },
   "outputs": [],
   "source": [
    "df['Tags'] = df['Tags'].str[1:-1].str.split('><')"
   ]
  },
  {
   "cell_type": "code",
   "execution_count": 14,
   "metadata": {
    "collapsed": false
   },
   "outputs": [
    {
     "data": {
      "text/plain": [
       "'0.22.0'"
      ]
     },
     "execution_count": 14,
     "metadata": {},
     "output_type": "execute_result"
    }
   ],
   "source": [
    "pd.__version__"
   ]
  },
  {
   "cell_type": "markdown",
   "metadata": {},
   "source": [
    "As we are limited to Pandas 0.22, we do not have [`df.explode()`](https://pandas.pydata.org/pandas-docs/stable/reference/api/pandas.DataFrame.explode.html) method, so let's create a tag column using apply and stack."
   ]
  },
  {
   "cell_type": "code",
   "execution_count": 15,
   "metadata": {
    "collapsed": false
   },
   "outputs": [
    {
     "data": {
      "text/plain": [
       "0     machine-learning\n",
       "0          data-mining\n",
       "1     machine-learning\n",
       "1           regression\n",
       "1    linear-regression\n",
       "Name: Tag, dtype: object"
      ]
     },
     "execution_count": 15,
     "metadata": {},
     "output_type": "execute_result"
    }
   ],
   "source": [
    "tags_s = df['Tags'].apply(pd.Series).stack().rename('Tag').reset_index(drop=True, level=1)\n",
    "tags_s.head()"
   ]
  },
  {
   "cell_type": "code",
   "execution_count": 16,
   "metadata": {
    "collapsed": false
   },
   "outputs": [
    {
     "data": {
      "text/html": [
       "<div>\n",
       "<style scoped>\n",
       "    .dataframe tbody tr th:only-of-type {\n",
       "        vertical-align: middle;\n",
       "    }\n",
       "\n",
       "    .dataframe tbody tr th {\n",
       "        vertical-align: top;\n",
       "    }\n",
       "\n",
       "    .dataframe thead th {\n",
       "        text-align: right;\n",
       "    }\n",
       "</style>\n",
       "<table border=\"1\" class=\"dataframe\">\n",
       "  <thead>\n",
       "    <tr style=\"text-align: right;\">\n",
       "      <th></th>\n",
       "      <th>Id</th>\n",
       "      <th>CreationDate</th>\n",
       "      <th>Score</th>\n",
       "      <th>ViewCount</th>\n",
       "      <th>Tags</th>\n",
       "      <th>AnswerCount</th>\n",
       "      <th>FavoriteCount</th>\n",
       "      <th>Tag</th>\n",
       "    </tr>\n",
       "  </thead>\n",
       "  <tbody>\n",
       "    <tr>\n",
       "      <th>0</th>\n",
       "      <td>44419</td>\n",
       "      <td>2019-01-23 09:21:13</td>\n",
       "      <td>1</td>\n",
       "      <td>21</td>\n",
       "      <td>[machine-learning, data-mining]</td>\n",
       "      <td>0</td>\n",
       "      <td>0.0</td>\n",
       "      <td>machine-learning</td>\n",
       "    </tr>\n",
       "    <tr>\n",
       "      <th>1</th>\n",
       "      <td>44419</td>\n",
       "      <td>2019-01-23 09:21:13</td>\n",
       "      <td>1</td>\n",
       "      <td>21</td>\n",
       "      <td>[machine-learning, data-mining]</td>\n",
       "      <td>0</td>\n",
       "      <td>0.0</td>\n",
       "      <td>data-mining</td>\n",
       "    </tr>\n",
       "    <tr>\n",
       "      <th>2</th>\n",
       "      <td>44420</td>\n",
       "      <td>2019-01-23 09:34:01</td>\n",
       "      <td>0</td>\n",
       "      <td>25</td>\n",
       "      <td>[machine-learning, regression, linear-regressi...</td>\n",
       "      <td>0</td>\n",
       "      <td>0.0</td>\n",
       "      <td>machine-learning</td>\n",
       "    </tr>\n",
       "    <tr>\n",
       "      <th>3</th>\n",
       "      <td>44420</td>\n",
       "      <td>2019-01-23 09:34:01</td>\n",
       "      <td>0</td>\n",
       "      <td>25</td>\n",
       "      <td>[machine-learning, regression, linear-regressi...</td>\n",
       "      <td>0</td>\n",
       "      <td>0.0</td>\n",
       "      <td>regression</td>\n",
       "    </tr>\n",
       "    <tr>\n",
       "      <th>4</th>\n",
       "      <td>44420</td>\n",
       "      <td>2019-01-23 09:34:01</td>\n",
       "      <td>0</td>\n",
       "      <td>25</td>\n",
       "      <td>[machine-learning, regression, linear-regressi...</td>\n",
       "      <td>0</td>\n",
       "      <td>0.0</td>\n",
       "      <td>linear-regression</td>\n",
       "    </tr>\n",
       "  </tbody>\n",
       "</table>\n",
       "</div>"
      ],
      "text/plain": [
       "      Id        CreationDate  Score  ViewCount  \\\n",
       "0  44419 2019-01-23 09:21:13      1         21   \n",
       "1  44419 2019-01-23 09:21:13      1         21   \n",
       "2  44420 2019-01-23 09:34:01      0         25   \n",
       "3  44420 2019-01-23 09:34:01      0         25   \n",
       "4  44420 2019-01-23 09:34:01      0         25   \n",
       "\n",
       "                                                Tags  AnswerCount  \\\n",
       "0                    [machine-learning, data-mining]            0   \n",
       "1                    [machine-learning, data-mining]            0   \n",
       "2  [machine-learning, regression, linear-regressi...            0   \n",
       "3  [machine-learning, regression, linear-regressi...            0   \n",
       "4  [machine-learning, regression, linear-regressi...            0   \n",
       "\n",
       "   FavoriteCount                Tag  \n",
       "0            0.0   machine-learning  \n",
       "1            0.0        data-mining  \n",
       "2            0.0   machine-learning  \n",
       "3            0.0         regression  \n",
       "4            0.0  linear-regression  "
      ]
     },
     "execution_count": 16,
     "metadata": {},
     "output_type": "execute_result"
    }
   ],
   "source": [
    "expanded_df = df.join(tags_s).reset_index(drop=True)\n",
    "expanded_df.head()"
   ]
  },
  {
   "cell_type": "markdown",
   "metadata": {},
   "source": [
    "## Most Used and Most Viewed"
   ]
  },
  {
   "cell_type": "markdown",
   "metadata": {},
   "source": [
    "Now we are able to group our DataFrame by Tag column and count Top 20 usages with views."
   ]
  },
  {
   "cell_type": "code",
   "execution_count": 17,
   "metadata": {
    "collapsed": false
   },
   "outputs": [
    {
     "data": {
      "text/plain": [
       "<matplotlib.axes._subplots.AxesSubplot at 0x7f473ee9b668>"
      ]
     },
     "execution_count": 17,
     "metadata": {},
     "output_type": "execute_result"
    },
    {
     "data": {
      "image/png": "[encoded data removed]",
      "text/plain": [
       "<matplotlib.figure.Figure at 0x7f473ee9b588>"
      ]
     },
     "metadata": {},
     "output_type": "display_data"
    }
   ],
   "source": [
    "most_used_df = expanded_df['Tag'].value_counts().sort_values().tail(20).to_frame('Usages')\n",
    "most_used_df.plot(kind='barh', title='Most Used Tags', figsize=(10,7))"
   ]
  },
  {
   "cell_type": "code",
   "execution_count": 18,
   "metadata": {
    "collapsed": false
   },
   "outputs": [
    {
     "data": {
      "text/plain": [
       "<matplotlib.axes._subplots.AxesSubplot at 0x7f473f056dd8>"
      ]
     },
     "execution_count": 18,
     "metadata": {},
     "output_type": "execute_result"
    },
    {
     "data": {
      "image/png": "[encoded data removed]",
      "text/plain": [
       "<matplotlib.figure.Figure at 0x7f473eeffd68>"
      ]
     },
     "metadata": {},
     "output_type": "display_data"
    }
   ],
   "source": [
    "most_viewed_df = expanded_df[['Tag', 'ViewCount']].groupby('Tag').sum().sort_values(by='ViewCount').tail(20)\n",
    "most_viewed_df = most_viewed_df.rename_axis(None, axis=0).rename(columns={'ViewCount': 'Views'})\n",
    "most_viewed_df.plot(kind='barh', title='Most Viewed Tags', figsize=(10,7))"
   ]
  },
  {
   "cell_type": "code",
   "execution_count": 19,
   "metadata": {
    "collapsed": false,
    "scrolled": true
   },
   "outputs": [
    {
     "name": "stdout",
     "output_type": "stream",
     "text": [
      "Most Used, but not Viewed:  ['machine-learning-model' 'statistics' 'predictive-modeling' 'r']\n",
      "Most Viewed, but not Used:  ['csv' 'pytorch' 'numpy' 'dataframe']\n"
     ]
    }
   ],
   "source": [
    "print('Most Used, but not Viewed: ', most_used_df.index[~most_used_df.index.isin(most_viewed_df.index)].values)\n",
    "print('Most Viewed, but not Used: ', most_viewed_df.index[~most_viewed_df.index.isin(most_used_df.index)].values)"
   ]
  },
  {
   "cell_type": "markdown",
   "metadata": {},
   "source": [
    "The most popular generic tags in 2019:\n",
    "\n",
    "* Python\n",
    "* Neural Network\n",
    "* Machine Learning\n",
    "* Deep Learning\n",
    "\n",
    "The most popular frameworks in 2019:\n",
    "\n",
    "* Keras\n",
    "* TensorFlow\n",
    "* scikit-learn"
   ]
  },
  {
   "cell_type": "markdown",
   "metadata": {},
   "source": [
    "## Relation Between Tags"
   ]
  },
  {
   "cell_type": "markdown",
   "metadata": {},
   "source": [
    "The idea behind this analysis is to determine which pair of tags is used the most. We will need a pivot table with tag columns."
   ]
  },
  {
   "cell_type": "code",
   "execution_count": 20,
   "metadata": {
    "collapsed": false,
    "scrolled": true
   },
   "outputs": [
    {
     "name": "stdout",
     "output_type": "stream",
     "text": [
      "CPU times: user 2 µs, sys: 1e+03 ns, total: 3 µs\n",
      "Wall time: 6.68 µs\n"
     ]
    }
   ],
   "source": [
    "%time\n",
    "relations_pivot_df = expanded_df.pivot(index='Id', columns='Tag', values='Tag').notnull()"
   ]
  },
  {
   "cell_type": "code",
   "execution_count": 21,
   "metadata": {
    "collapsed": false
   },
   "outputs": [
    {
     "data": {
      "text/html": [
       "<div>\n",
       "<style scoped>\n",
       "    .dataframe tbody tr th:only-of-type {\n",
       "        vertical-align: middle;\n",
       "    }\n",
       "\n",
       "    .dataframe tbody tr th {\n",
       "        vertical-align: top;\n",
       "    }\n",
       "\n",
       "    .dataframe thead th {\n",
       "        text-align: right;\n",
       "    }\n",
       "</style>\n",
       "<table border=\"1\" class=\"dataframe\">\n",
       "  <thead>\n",
       "    <tr style=\"text-align: right;\">\n",
       "      <th>Tag</th>\n",
       "      <th>data-mining</th>\n",
       "      <th>linear-regression</th>\n",
       "      <th>machine-learning</th>\n",
       "      <th>regression</th>\n",
       "      <th>regularization</th>\n",
       "    </tr>\n",
       "    <tr>\n",
       "      <th>Id</th>\n",
       "      <th></th>\n",
       "      <th></th>\n",
       "      <th></th>\n",
       "      <th></th>\n",
       "      <th></th>\n",
       "    </tr>\n",
       "  </thead>\n",
       "  <tbody>\n",
       "    <tr>\n",
       "      <th>44419</th>\n",
       "      <td>True</td>\n",
       "      <td>False</td>\n",
       "      <td>True</td>\n",
       "      <td>False</td>\n",
       "      <td>False</td>\n",
       "    </tr>\n",
       "    <tr>\n",
       "      <th>44420</th>\n",
       "      <td>False</td>\n",
       "      <td>True</td>\n",
       "      <td>True</td>\n",
       "      <td>True</td>\n",
       "      <td>True</td>\n",
       "    </tr>\n",
       "  </tbody>\n",
       "</table>\n",
       "</div>"
      ],
      "text/plain": [
       "Tag    data-mining  linear-regression  machine-learning  regression  \\\n",
       "Id                                                                    \n",
       "44419         True              False              True       False   \n",
       "44420        False               True              True        True   \n",
       "\n",
       "Tag    regularization  \n",
       "Id                     \n",
       "44419           False  \n",
       "44420            True  "
      ]
     },
     "execution_count": 21,
     "metadata": {},
     "output_type": "execute_result"
    }
   ],
   "source": [
    "relations_pivot_df.loc[[44419, 44420], (relations_pivot_df.loc[[44419, 44420]] == True).any()]"
   ]
  },
  {
   "cell_type": "markdown",
   "metadata": {},
   "source": [
    "Now we are ready to create the final DataFrame where each column and row represents a tag. For each column take rows flagged with selected tag. Count each column values within a result slice. This will lead to number of related tags for selected tag."
   ]
  },
  {
   "cell_type": "code",
   "execution_count": 22,
   "metadata": {
    "collapsed": false
   },
   "outputs": [
    {
     "name": "stdout",
     "output_type": "stream",
     "text": [
      "CPU times: user 2 µs, sys: 1 µs, total: 3 µs\n",
      "Wall time: 6.2 µs\n"
     ]
    }
   ],
   "source": [
    "%time\n",
    "relations_df = pd.DataFrame()\n",
    "for col in relations_pivot_df.columns:\n",
    "    relations_df[col] = relations_pivot_df[relations_pivot_df[col] == True].sum()"
   ]
  },
  {
   "cell_type": "code",
   "execution_count": 23,
   "metadata": {
    "collapsed": false
   },
   "outputs": [
    {
     "data": {
      "text/plain": [
       "(526, 526)"
      ]
     },
     "execution_count": 23,
     "metadata": {},
     "output_type": "execute_result"
    }
   ],
   "source": [
    "relations_df.shape"
   ]
  },
  {
   "cell_type": "markdown",
   "metadata": {},
   "source": [
    "That is a lot of columns. It would be better to keep only the most used ones."
   ]
  },
  {
   "cell_type": "code",
   "execution_count": 24,
   "metadata": {
    "collapsed": false
   },
   "outputs": [],
   "source": [
    "relations_df = relations_df.loc[most_used_df.index, most_used_df.index]"
   ]
  },
  {
   "cell_type": "code",
   "execution_count": 25,
   "metadata": {
    "collapsed": false
   },
   "outputs": [
    {
     "data": {
      "text/html": [
       "<div>\n",
       "<style scoped>\n",
       "    .dataframe tbody tr th:only-of-type {\n",
       "        vertical-align: middle;\n",
       "    }\n",
       "\n",
       "    .dataframe tbody tr th {\n",
       "        vertical-align: top;\n",
       "    }\n",
       "\n",
       "    .dataframe thead th {\n",
       "        text-align: right;\n",
       "    }\n",
       "</style>\n",
       "<table border=\"1\" class=\"dataframe\">\n",
       "  <thead>\n",
       "    <tr style=\"text-align: right;\">\n",
       "      <th></th>\n",
       "      <th>machine-learning-model</th>\n",
       "      <th>statistics</th>\n",
       "      <th>clustering</th>\n",
       "      <th>predictive-modeling</th>\n",
       "      <th>r</th>\n",
       "      <th>dataset</th>\n",
       "      <th>regression</th>\n",
       "      <th>pandas</th>\n",
       "      <th>lstm</th>\n",
       "      <th>time-series</th>\n",
       "      <th>cnn</th>\n",
       "      <th>nlp</th>\n",
       "      <th>scikit-learn</th>\n",
       "      <th>tensorflow</th>\n",
       "      <th>classification</th>\n",
       "      <th>keras</th>\n",
       "      <th>neural-network</th>\n",
       "      <th>deep-learning</th>\n",
       "      <th>python</th>\n",
       "      <th>machine-learning</th>\n",
       "    </tr>\n",
       "  </thead>\n",
       "  <tbody>\n",
       "    <tr>\n",
       "      <th>machine-learning-model</th>\n",
       "      <td>224</td>\n",
       "      <td>3</td>\n",
       "      <td>3</td>\n",
       "      <td>21</td>\n",
       "      <td>7</td>\n",
       "      <td>12</td>\n",
       "      <td>8</td>\n",
       "      <td>4</td>\n",
       "      <td>5</td>\n",
       "      <td>7</td>\n",
       "      <td>4</td>\n",
       "      <td>4</td>\n",
       "      <td>18</td>\n",
       "      <td>9</td>\n",
       "      <td>21</td>\n",
       "      <td>17</td>\n",
       "      <td>10</td>\n",
       "      <td>19</td>\n",
       "      <td>37</td>\n",
       "      <td>139</td>\n",
       "    </tr>\n",
       "    <tr>\n",
       "      <th>statistics</th>\n",
       "      <td>3</td>\n",
       "      <td>234</td>\n",
       "      <td>3</td>\n",
       "      <td>16</td>\n",
       "      <td>16</td>\n",
       "      <td>17</td>\n",
       "      <td>16</td>\n",
       "      <td>3</td>\n",
       "      <td>1</td>\n",
       "      <td>22</td>\n",
       "      <td>1</td>\n",
       "      <td>3</td>\n",
       "      <td>6</td>\n",
       "      <td>0</td>\n",
       "      <td>19</td>\n",
       "      <td>3</td>\n",
       "      <td>11</td>\n",
       "      <td>12</td>\n",
       "      <td>35</td>\n",
       "      <td>89</td>\n",
       "    </tr>\n",
       "    <tr>\n",
       "      <th>clustering</th>\n",
       "      <td>3</td>\n",
       "      <td>3</td>\n",
       "      <td>257</td>\n",
       "      <td>0</td>\n",
       "      <td>16</td>\n",
       "      <td>5</td>\n",
       "      <td>2</td>\n",
       "      <td>5</td>\n",
       "      <td>3</td>\n",
       "      <td>20</td>\n",
       "      <td>0</td>\n",
       "      <td>9</td>\n",
       "      <td>24</td>\n",
       "      <td>0</td>\n",
       "      <td>12</td>\n",
       "      <td>0</td>\n",
       "      <td>8</td>\n",
       "      <td>2</td>\n",
       "      <td>45</td>\n",
       "      <td>61</td>\n",
       "    </tr>\n",
       "    <tr>\n",
       "      <th>predictive-modeling</th>\n",
       "      <td>21</td>\n",
       "      <td>16</td>\n",
       "      <td>0</td>\n",
       "      <td>265</td>\n",
       "      <td>13</td>\n",
       "      <td>7</td>\n",
       "      <td>28</td>\n",
       "      <td>4</td>\n",
       "      <td>13</td>\n",
       "      <td>31</td>\n",
       "      <td>6</td>\n",
       "      <td>1</td>\n",
       "      <td>12</td>\n",
       "      <td>6</td>\n",
       "      <td>27</td>\n",
       "      <td>11</td>\n",
       "      <td>13</td>\n",
       "      <td>32</td>\n",
       "      <td>35</td>\n",
       "      <td>123</td>\n",
       "    </tr>\n",
       "    <tr>\n",
       "      <th>r</th>\n",
       "      <td>7</td>\n",
       "      <td>16</td>\n",
       "      <td>16</td>\n",
       "      <td>13</td>\n",
       "      <td>268</td>\n",
       "      <td>6</td>\n",
       "      <td>10</td>\n",
       "      <td>2</td>\n",
       "      <td>3</td>\n",
       "      <td>22</td>\n",
       "      <td>2</td>\n",
       "      <td>4</td>\n",
       "      <td>1</td>\n",
       "      <td>1</td>\n",
       "      <td>10</td>\n",
       "      <td>10</td>\n",
       "      <td>9</td>\n",
       "      <td>5</td>\n",
       "      <td>24</td>\n",
       "      <td>63</td>\n",
       "    </tr>\n",
       "    <tr>\n",
       "      <th>dataset</th>\n",
       "      <td>12</td>\n",
       "      <td>17</td>\n",
       "      <td>5</td>\n",
       "      <td>7</td>\n",
       "      <td>6</td>\n",
       "      <td>340</td>\n",
       "      <td>6</td>\n",
       "      <td>14</td>\n",
       "      <td>7</td>\n",
       "      <td>6</td>\n",
       "      <td>11</td>\n",
       "      <td>11</td>\n",
       "      <td>9</td>\n",
       "      <td>9</td>\n",
       "      <td>28</td>\n",
       "      <td>13</td>\n",
       "      <td>20</td>\n",
       "      <td>32</td>\n",
       "      <td>53</td>\n",
       "      <td>99</td>\n",
       "    </tr>\n",
       "    <tr>\n",
       "      <th>regression</th>\n",
       "      <td>8</td>\n",
       "      <td>16</td>\n",
       "      <td>2</td>\n",
       "      <td>28</td>\n",
       "      <td>10</td>\n",
       "      <td>6</td>\n",
       "      <td>347</td>\n",
       "      <td>6</td>\n",
       "      <td>11</td>\n",
       "      <td>24</td>\n",
       "      <td>6</td>\n",
       "      <td>2</td>\n",
       "      <td>37</td>\n",
       "      <td>9</td>\n",
       "      <td>34</td>\n",
       "      <td>31</td>\n",
       "      <td>42</td>\n",
       "      <td>21</td>\n",
       "      <td>59</td>\n",
       "      <td>119</td>\n",
       "    </tr>\n",
       "    <tr>\n",
       "      <th>pandas</th>\n",
       "      <td>4</td>\n",
       "      <td>3</td>\n",
       "      <td>5</td>\n",
       "      <td>4</td>\n",
       "      <td>2</td>\n",
       "      <td>14</td>\n",
       "      <td>6</td>\n",
       "      <td>354</td>\n",
       "      <td>7</td>\n",
       "      <td>19</td>\n",
       "      <td>1</td>\n",
       "      <td>3</td>\n",
       "      <td>37</td>\n",
       "      <td>3</td>\n",
       "      <td>3</td>\n",
       "      <td>3</td>\n",
       "      <td>1</td>\n",
       "      <td>1</td>\n",
       "      <td>244</td>\n",
       "      <td>62</td>\n",
       "    </tr>\n",
       "    <tr>\n",
       "      <th>lstm</th>\n",
       "      <td>5</td>\n",
       "      <td>1</td>\n",
       "      <td>3</td>\n",
       "      <td>13</td>\n",
       "      <td>3</td>\n",
       "      <td>7</td>\n",
       "      <td>11</td>\n",
       "      <td>7</td>\n",
       "      <td>402</td>\n",
       "      <td>87</td>\n",
       "      <td>24</td>\n",
       "      <td>19</td>\n",
       "      <td>2</td>\n",
       "      <td>43</td>\n",
       "      <td>20</td>\n",
       "      <td>133</td>\n",
       "      <td>69</td>\n",
       "      <td>103</td>\n",
       "      <td>61</td>\n",
       "      <td>71</td>\n",
       "    </tr>\n",
       "    <tr>\n",
       "      <th>time-series</th>\n",
       "      <td>7</td>\n",
       "      <td>22</td>\n",
       "      <td>20</td>\n",
       "      <td>31</td>\n",
       "      <td>22</td>\n",
       "      <td>6</td>\n",
       "      <td>24</td>\n",
       "      <td>19</td>\n",
       "      <td>87</td>\n",
       "      <td>466</td>\n",
       "      <td>8</td>\n",
       "      <td>0</td>\n",
       "      <td>12</td>\n",
       "      <td>9</td>\n",
       "      <td>25</td>\n",
       "      <td>51</td>\n",
       "      <td>33</td>\n",
       "      <td>44</td>\n",
       "      <td>105</td>\n",
       "      <td>131</td>\n",
       "    </tr>\n",
       "    <tr>\n",
       "      <th>cnn</th>\n",
       "      <td>4</td>\n",
       "      <td>1</td>\n",
       "      <td>0</td>\n",
       "      <td>6</td>\n",
       "      <td>2</td>\n",
       "      <td>11</td>\n",
       "      <td>6</td>\n",
       "      <td>1</td>\n",
       "      <td>24</td>\n",
       "      <td>8</td>\n",
       "      <td>489</td>\n",
       "      <td>7</td>\n",
       "      <td>0</td>\n",
       "      <td>57</td>\n",
       "      <td>20</td>\n",
       "      <td>116</td>\n",
       "      <td>118</td>\n",
       "      <td>160</td>\n",
       "      <td>62</td>\n",
       "      <td>124</td>\n",
       "    </tr>\n",
       "    <tr>\n",
       "      <th>nlp</th>\n",
       "      <td>4</td>\n",
       "      <td>3</td>\n",
       "      <td>9</td>\n",
       "      <td>1</td>\n",
       "      <td>4</td>\n",
       "      <td>11</td>\n",
       "      <td>2</td>\n",
       "      <td>3</td>\n",
       "      <td>19</td>\n",
       "      <td>0</td>\n",
       "      <td>7</td>\n",
       "      <td>493</td>\n",
       "      <td>12</td>\n",
       "      <td>11</td>\n",
       "      <td>35</td>\n",
       "      <td>23</td>\n",
       "      <td>24</td>\n",
       "      <td>72</td>\n",
       "      <td>71</td>\n",
       "      <td>113</td>\n",
       "    </tr>\n",
       "    <tr>\n",
       "      <th>scikit-learn</th>\n",
       "      <td>18</td>\n",
       "      <td>6</td>\n",
       "      <td>24</td>\n",
       "      <td>12</td>\n",
       "      <td>1</td>\n",
       "      <td>9</td>\n",
       "      <td>37</td>\n",
       "      <td>37</td>\n",
       "      <td>2</td>\n",
       "      <td>12</td>\n",
       "      <td>0</td>\n",
       "      <td>12</td>\n",
       "      <td>540</td>\n",
       "      <td>15</td>\n",
       "      <td>47</td>\n",
       "      <td>34</td>\n",
       "      <td>24</td>\n",
       "      <td>16</td>\n",
       "      <td>235</td>\n",
       "      <td>188</td>\n",
       "    </tr>\n",
       "    <tr>\n",
       "      <th>tensorflow</th>\n",
       "      <td>9</td>\n",
       "      <td>0</td>\n",
       "      <td>0</td>\n",
       "      <td>6</td>\n",
       "      <td>1</td>\n",
       "      <td>9</td>\n",
       "      <td>9</td>\n",
       "      <td>3</td>\n",
       "      <td>43</td>\n",
       "      <td>9</td>\n",
       "      <td>57</td>\n",
       "      <td>11</td>\n",
       "      <td>15</td>\n",
       "      <td>584</td>\n",
       "      <td>20</td>\n",
       "      <td>256</td>\n",
       "      <td>108</td>\n",
       "      <td>136</td>\n",
       "      <td>167</td>\n",
       "      <td>106</td>\n",
       "    </tr>\n",
       "    <tr>\n",
       "      <th>classification</th>\n",
       "      <td>21</td>\n",
       "      <td>19</td>\n",
       "      <td>12</td>\n",
       "      <td>27</td>\n",
       "      <td>10</td>\n",
       "      <td>28</td>\n",
       "      <td>34</td>\n",
       "      <td>3</td>\n",
       "      <td>20</td>\n",
       "      <td>25</td>\n",
       "      <td>20</td>\n",
       "      <td>35</td>\n",
       "      <td>47</td>\n",
       "      <td>20</td>\n",
       "      <td>685</td>\n",
       "      <td>58</td>\n",
       "      <td>65</td>\n",
       "      <td>59</td>\n",
       "      <td>98</td>\n",
       "      <td>259</td>\n",
       "    </tr>\n",
       "    <tr>\n",
       "      <th>keras</th>\n",
       "      <td>17</td>\n",
       "      <td>3</td>\n",
       "      <td>0</td>\n",
       "      <td>11</td>\n",
       "      <td>10</td>\n",
       "      <td>13</td>\n",
       "      <td>31</td>\n",
       "      <td>3</td>\n",
       "      <td>133</td>\n",
       "      <td>51</td>\n",
       "      <td>116</td>\n",
       "      <td>23</td>\n",
       "      <td>34</td>\n",
       "      <td>256</td>\n",
       "      <td>58</td>\n",
       "      <td>935</td>\n",
       "      <td>235</td>\n",
       "      <td>247</td>\n",
       "      <td>280</td>\n",
       "      <td>195</td>\n",
       "    </tr>\n",
       "    <tr>\n",
       "      <th>neural-network</th>\n",
       "      <td>10</td>\n",
       "      <td>11</td>\n",
       "      <td>8</td>\n",
       "      <td>13</td>\n",
       "      <td>9</td>\n",
       "      <td>20</td>\n",
       "      <td>42</td>\n",
       "      <td>1</td>\n",
       "      <td>69</td>\n",
       "      <td>33</td>\n",
       "      <td>118</td>\n",
       "      <td>24</td>\n",
       "      <td>24</td>\n",
       "      <td>108</td>\n",
       "      <td>65</td>\n",
       "      <td>235</td>\n",
       "      <td>1055</td>\n",
       "      <td>305</td>\n",
       "      <td>137</td>\n",
       "      <td>366</td>\n",
       "    </tr>\n",
       "    <tr>\n",
       "      <th>deep-learning</th>\n",
       "      <td>19</td>\n",
       "      <td>12</td>\n",
       "      <td>2</td>\n",
       "      <td>32</td>\n",
       "      <td>5</td>\n",
       "      <td>32</td>\n",
       "      <td>21</td>\n",
       "      <td>1</td>\n",
       "      <td>103</td>\n",
       "      <td>44</td>\n",
       "      <td>160</td>\n",
       "      <td>72</td>\n",
       "      <td>16</td>\n",
       "      <td>136</td>\n",
       "      <td>59</td>\n",
       "      <td>247</td>\n",
       "      <td>305</td>\n",
       "      <td>1220</td>\n",
       "      <td>160</td>\n",
       "      <td>429</td>\n",
       "    </tr>\n",
       "    <tr>\n",
       "      <th>python</th>\n",
       "      <td>37</td>\n",
       "      <td>35</td>\n",
       "      <td>45</td>\n",
       "      <td>35</td>\n",
       "      <td>24</td>\n",
       "      <td>53</td>\n",
       "      <td>59</td>\n",
       "      <td>244</td>\n",
       "      <td>61</td>\n",
       "      <td>105</td>\n",
       "      <td>62</td>\n",
       "      <td>71</td>\n",
       "      <td>235</td>\n",
       "      <td>167</td>\n",
       "      <td>98</td>\n",
       "      <td>280</td>\n",
       "      <td>137</td>\n",
       "      <td>160</td>\n",
       "      <td>1814</td>\n",
       "      <td>499</td>\n",
       "    </tr>\n",
       "    <tr>\n",
       "      <th>machine-learning</th>\n",
       "      <td>139</td>\n",
       "      <td>89</td>\n",
       "      <td>61</td>\n",
       "      <td>123</td>\n",
       "      <td>63</td>\n",
       "      <td>99</td>\n",
       "      <td>119</td>\n",
       "      <td>62</td>\n",
       "      <td>71</td>\n",
       "      <td>131</td>\n",
       "      <td>124</td>\n",
       "      <td>113</td>\n",
       "      <td>188</td>\n",
       "      <td>106</td>\n",
       "      <td>259</td>\n",
       "      <td>195</td>\n",
       "      <td>366</td>\n",
       "      <td>429</td>\n",
       "      <td>499</td>\n",
       "      <td>2693</td>\n",
       "    </tr>\n",
       "  </tbody>\n",
       "</table>\n",
       "</div>"
      ],
      "text/plain": [
       "                        machine-learning-model  statistics  clustering  \\\n",
       "machine-learning-model                     224           3           3   \n",
       "statistics                                   3         234           3   \n",
       "clustering                                   3           3         257   \n",
       "predictive-modeling                         21          16           0   \n",
       "r                                            7          16          16   \n",
       "dataset                                     12          17           5   \n",
       "regression                                   8          16           2   \n",
       "pandas                                       4           3           5   \n",
       "lstm                                         5           1           3   \n",
       "time-series                                  7          22          20   \n",
       "cnn                                          4           1           0   \n",
       "nlp                                          4           3           9   \n",
       "scikit-learn                                18           6          24   \n",
       "tensorflow                                   9           0           0   \n",
       "classification                              21          19          12   \n",
       "keras                                       17           3           0   \n",
       "neural-network                              10          11           8   \n",
       "deep-learning                               19          12           2   \n",
       "python                                      37          35          45   \n",
       "machine-learning                           139          89          61   \n",
       "\n",
       "                        predictive-modeling    r  dataset  regression  pandas  \\\n",
       "machine-learning-model                   21    7       12           8       4   \n",
       "statistics                               16   16       17          16       3   \n",
       "clustering                                0   16        5           2       5   \n",
       "predictive-modeling                     265   13        7          28       4   \n",
       "r                                        13  268        6          10       2   \n",
       "dataset                                   7    6      340           6      14   \n",
       "regression                               28   10        6         347       6   \n",
       "pandas                                    4    2       14           6     354   \n",
       "lstm                                     13    3        7          11       7   \n",
       "time-series                              31   22        6          24      19   \n",
       "cnn                                       6    2       11           6       1   \n",
       "nlp                                       1    4       11           2       3   \n",
       "scikit-learn                             12    1        9          37      37   \n",
       "tensorflow                                6    1        9           9       3   \n",
       "classification                           27   10       28          34       3   \n",
       "keras                                    11   10       13          31       3   \n",
       "neural-network                           13    9       20          42       1   \n",
       "deep-learning                            32    5       32          21       1   \n",
       "python                                   35   24       53          59     244   \n",
       "machine-learning                        123   63       99         119      62   \n",
       "\n",
       "                        lstm  time-series  cnn  nlp  scikit-learn  tensorflow  \\\n",
       "machine-learning-model     5            7    4    4            18           9   \n",
       "statistics                 1           22    1    3             6           0   \n",
       "clustering                 3           20    0    9            24           0   \n",
       "predictive-modeling       13           31    6    1            12           6   \n",
       "r                          3           22    2    4             1           1   \n",
       "dataset                    7            6   11   11             9           9   \n",
       "regression                11           24    6    2            37           9   \n",
       "pandas                     7           19    1    3            37           3   \n",
       "lstm                     402           87   24   19             2          43   \n",
       "time-series               87          466    8    0            12           9   \n",
       "cnn                       24            8  489    7             0          57   \n",
       "nlp                       19            0    7  493            12          11   \n",
       "scikit-learn               2           12    0   12           540          15   \n",
       "tensorflow                43            9   57   11            15         584   \n",
       "classification            20           25   20   35            47          20   \n",
       "keras                    133           51  116   23            34         256   \n",
       "neural-network            69           33  118   24            24         108   \n",
       "deep-learning            103           44  160   72            16         136   \n",
       "python                    61          105   62   71           235         167   \n",
       "machine-learning          71          131  124  113           188         106   \n",
       "\n",
       "                        classification  keras  neural-network  deep-learning  \\\n",
       "machine-learning-model              21     17              10             19   \n",
       "statistics                          19      3              11             12   \n",
       "clustering                          12      0               8              2   \n",
       "predictive-modeling                 27     11              13             32   \n",
       "r                                   10     10               9              5   \n",
       "dataset                             28     13              20             32   \n",
       "regression                          34     31              42             21   \n",
       "pandas                               3      3               1              1   \n",
       "lstm                                20    133              69            103   \n",
       "time-series                         25     51              33             44   \n",
       "cnn                                 20    116             118            160   \n",
       "nlp                                 35     23              24             72   \n",
       "scikit-learn                        47     34              24             16   \n",
       "tensorflow                          20    256             108            136   \n",
       "classification                     685     58              65             59   \n",
       "keras                               58    935             235            247   \n",
       "neural-network                      65    235            1055            305   \n",
       "deep-learning                       59    247             305           1220   \n",
       "python                              98    280             137            160   \n",
       "machine-learning                   259    195             366            429   \n",
       "\n",
       "                        python  machine-learning  \n",
       "machine-learning-model      37               139  \n",
       "statistics                  35                89  \n",
       "clustering                  45                61  \n",
       "predictive-modeling         35               123  \n",
       "r                           24                63  \n",
       "dataset                     53                99  \n",
       "regression                  59               119  \n",
       "pandas                     244                62  \n",
       "lstm                        61                71  \n",
       "time-series                105               131  \n",
       "cnn                         62               124  \n",
       "nlp                         71               113  \n",
       "scikit-learn               235               188  \n",
       "tensorflow                 167               106  \n",
       "classification              98               259  \n",
       "keras                      280               195  \n",
       "neural-network             137               366  \n",
       "deep-learning              160               429  \n",
       "python                    1814               499  \n",
       "machine-learning           499              2693  "
      ]
     },
     "execution_count": 25,
     "metadata": {},
     "output_type": "execute_result"
    }
   ],
   "source": [
    "relations_df"
   ]
  },
  {
   "cell_type": "markdown",
   "metadata": {},
   "source": [
    "Replace main diagonal with NaN to prevent skewness and spread of results."
   ]
  },
  {
   "cell_type": "code",
   "execution_count": 26,
   "metadata": {
    "collapsed": false
   },
   "outputs": [],
   "source": [
    "for col in relations_df.columns:\n",
    "    relations_df.loc[col, col] = pd.np.NaN"
   ]
  },
  {
   "cell_type": "code",
   "execution_count": 27,
   "metadata": {
    "collapsed": false,
    "scrolled": false
   },
   "outputs": [
    {
     "data": {
      "text/plain": [
       "<matplotlib.axes._subplots.AxesSubplot at 0x7f473ef33c50>"
      ]
     },
     "execution_count": 27,
     "metadata": {},
     "output_type": "execute_result"
    },
    {
     "data": {
      "image/png": "[encoded data removed]",
      "text/plain": [
       "<matplotlib.figure.Figure at 0x7f473eebb4e0>"
      ]
     },
     "metadata": {},
     "output_type": "display_data"
    }
   ],
   "source": [
    "plt.figure(figsize=(14,8))\n",
    "sns.heatmap(relations_df, cmap='Blues')"
   ]
  },
  {
   "cell_type": "markdown",
   "metadata": {},
   "source": [
    "## Is Deep Learning Just a Fad?"
   ]
  },
  {
   "cell_type": "markdown",
   "metadata": {},
   "source": [
    "We need to track the interest in deep learning across time. Is it another trend like Big Data?"
   ]
  },
  {
   "cell_type": "code",
   "execution_count": 28,
   "metadata": {
    "collapsed": false
   },
   "outputs": [
    {
     "data": {
      "text/html": [
       "<div>\n",
       "<style scoped>\n",
       "    .dataframe tbody tr th:only-of-type {\n",
       "        vertical-align: middle;\n",
       "    }\n",
       "\n",
       "    .dataframe tbody tr th {\n",
       "        vertical-align: top;\n",
       "    }\n",
       "\n",
       "    .dataframe thead th {\n",
       "        text-align: right;\n",
       "    }\n",
       "</style>\n",
       "<table border=\"1\" class=\"dataframe\">\n",
       "  <thead>\n",
       "    <tr style=\"text-align: right;\">\n",
       "      <th></th>\n",
       "      <th>Id</th>\n",
       "      <th>CreationDate</th>\n",
       "      <th>Tags</th>\n",
       "    </tr>\n",
       "  </thead>\n",
       "  <tbody>\n",
       "    <tr>\n",
       "      <th>0</th>\n",
       "      <td>45416</td>\n",
       "      <td>2019-02-12 00:36:29</td>\n",
       "      <td>[python, keras, tensorflow, cnn, probability]</td>\n",
       "    </tr>\n",
       "    <tr>\n",
       "      <th>1</th>\n",
       "      <td>45418</td>\n",
       "      <td>2019-02-12 00:50:39</td>\n",
       "      <td>[neural-network]</td>\n",
       "    </tr>\n",
       "    <tr>\n",
       "      <th>2</th>\n",
       "      <td>45422</td>\n",
       "      <td>2019-02-12 04:40:51</td>\n",
       "      <td>[python, ibm-watson, chatbot]</td>\n",
       "    </tr>\n",
       "    <tr>\n",
       "      <th>3</th>\n",
       "      <td>45426</td>\n",
       "      <td>2019-02-12 04:51:49</td>\n",
       "      <td>[keras]</td>\n",
       "    </tr>\n",
       "    <tr>\n",
       "      <th>4</th>\n",
       "      <td>45427</td>\n",
       "      <td>2019-02-12 05:08:24</td>\n",
       "      <td>[r, predictive-modeling, machine-learning-mode...</td>\n",
       "    </tr>\n",
       "  </tbody>\n",
       "</table>\n",
       "</div>"
      ],
      "text/plain": [
       "      Id        CreationDate  \\\n",
       "0  45416 2019-02-12 00:36:29   \n",
       "1  45418 2019-02-12 00:50:39   \n",
       "2  45422 2019-02-12 04:40:51   \n",
       "3  45426 2019-02-12 04:51:49   \n",
       "4  45427 2019-02-12 05:08:24   \n",
       "\n",
       "                                                Tags  \n",
       "0      [python, keras, tensorflow, cnn, probability]  \n",
       "1                                   [neural-network]  \n",
       "2                      [python, ibm-watson, chatbot]  \n",
       "3                                            [keras]  \n",
       "4  [r, predictive-modeling, machine-learning-mode...  "
      ]
     },
     "execution_count": 28,
     "metadata": {},
     "output_type": "execute_result"
    }
   ],
   "source": [
    "all_df = pd.read_csv('all_questions.csv', parse_dates=['CreationDate'])\n",
    "all_df['Tags'] = all_df['Tags'].str[1:-1].str.split('><')\n",
    "all_df.head()"
   ]
  },
  {
   "cell_type": "markdown",
   "metadata": {},
   "source": [
    "To classify deep learning related questions we will use list of tags below and check if any row tag exists in this list."
   ]
  },
  {
   "cell_type": "code",
   "execution_count": 29,
   "metadata": {
    "collapsed": false
   },
   "outputs": [],
   "source": [
    "deep_learning_tags = ['deep-learning', 'neural-network', 'tensorflow', 'keras', 'cnn', 'lstm']\n",
    "all_df['IsDeepLearning'] = all_df['Tags'].apply(lambda row_tags: any(tag in deep_learning_tags for tag in row_tags))"
   ]
  },
  {
   "cell_type": "code",
   "execution_count": 30,
   "metadata": {
    "collapsed": false
   },
   "outputs": [
    {
     "data": {
      "text/plain": [
       "count                   21576\n",
       "unique                  21575\n",
       "top       2019-09-25 18:32:47\n",
       "freq                        2\n",
       "first     2014-05-13 23:58:30\n",
       "last      2020-01-19 03:01:03\n",
       "Name: CreationDate, dtype: object"
      ]
     },
     "execution_count": 30,
     "metadata": {},
     "output_type": "execute_result"
    }
   ],
   "source": [
    "all_df['CreationDate'].describe()"
   ]
  },
  {
   "cell_type": "markdown",
   "metadata": {},
   "source": [
    "In order to analyze 5 years of 'deep learning' data we will stick with quarter analysis for full years only (2015 - 2019)."
   ]
  },
  {
   "cell_type": "code",
   "execution_count": 31,
   "metadata": {
    "collapsed": true
   },
   "outputs": [],
   "source": [
    "all_df = all_df[all_df['CreationDate'].dt.year.between(2015, 2019)]"
   ]
  },
  {
   "cell_type": "code",
   "execution_count": 32,
   "metadata": {
    "collapsed": false
   },
   "outputs": [
    {
     "data": {
      "text/html": [
       "<div>\n",
       "<style scoped>\n",
       "    .dataframe tbody tr th:only-of-type {\n",
       "        vertical-align: middle;\n",
       "    }\n",
       "\n",
       "    .dataframe tbody tr th {\n",
       "        vertical-align: top;\n",
       "    }\n",
       "\n",
       "    .dataframe thead th {\n",
       "        text-align: right;\n",
       "    }\n",
       "</style>\n",
       "<table border=\"1\" class=\"dataframe\">\n",
       "  <thead>\n",
       "    <tr style=\"text-align: right;\">\n",
       "      <th></th>\n",
       "      <th>Id</th>\n",
       "      <th>CreationDate</th>\n",
       "      <th>Tags</th>\n",
       "      <th>IsDeepLearning</th>\n",
       "      <th>YearQuarter</th>\n",
       "    </tr>\n",
       "  </thead>\n",
       "  <tbody>\n",
       "    <tr>\n",
       "      <th>21365</th>\n",
       "      <td>36453</td>\n",
       "      <td>2018-08-04 09:32:14</td>\n",
       "      <td>[python, keras, time-series, rnn, recurrent-ne...</td>\n",
       "      <td>True</td>\n",
       "      <td>18Q3</td>\n",
       "    </tr>\n",
       "    <tr>\n",
       "      <th>13531</th>\n",
       "      <td>43839</td>\n",
       "      <td>2019-01-11 12:10:09</td>\n",
       "      <td>[neural-network, deep-learning]</td>\n",
       "      <td>True</td>\n",
       "      <td>19Q1</td>\n",
       "    </tr>\n",
       "    <tr>\n",
       "      <th>7788</th>\n",
       "      <td>27954</td>\n",
       "      <td>2018-02-18 14:59:58</td>\n",
       "      <td>[autoencoder, distance]</td>\n",
       "      <td>False</td>\n",
       "      <td>18Q1</td>\n",
       "    </tr>\n",
       "    <tr>\n",
       "      <th>5100</th>\n",
       "      <td>47613</td>\n",
       "      <td>2019-03-19 13:25:41</td>\n",
       "      <td>[r, nlp, stanford-nlp]</td>\n",
       "      <td>False</td>\n",
       "      <td>19Q1</td>\n",
       "    </tr>\n",
       "    <tr>\n",
       "      <th>173</th>\n",
       "      <td>55480</td>\n",
       "      <td>2019-07-11 05:47:38</td>\n",
       "      <td>[machine-learning, neural-network, deep-learni...</td>\n",
       "      <td>True</td>\n",
       "      <td>19Q3</td>\n",
       "    </tr>\n",
       "  </tbody>\n",
       "</table>\n",
       "</div>"
      ],
      "text/plain": [
       "          Id        CreationDate  \\\n",
       "21365  36453 2018-08-04 09:32:14   \n",
       "13531  43839 2019-01-11 12:10:09   \n",
       "7788   27954 2018-02-18 14:59:58   \n",
       "5100   47613 2019-03-19 13:25:41   \n",
       "173    55480 2019-07-11 05:47:38   \n",
       "\n",
       "                                                    Tags  IsDeepLearning  \\\n",
       "21365  [python, keras, time-series, rnn, recurrent-ne...            True   \n",
       "13531                    [neural-network, deep-learning]            True   \n",
       "7788                             [autoencoder, distance]           False   \n",
       "5100                              [r, nlp, stanford-nlp]           False   \n",
       "173    [machine-learning, neural-network, deep-learni...            True   \n",
       "\n",
       "      YearQuarter  \n",
       "21365        18Q3  \n",
       "13531        19Q1  \n",
       "7788         18Q1  \n",
       "5100         19Q1  \n",
       "173          19Q3  "
      ]
     },
     "execution_count": 32,
     "metadata": {},
     "output_type": "execute_result"
    }
   ],
   "source": [
    "year_2d_s = all_df['CreationDate'].dt.year.astype(str).str[2:]\n",
    "quarter_s = (((all_df['CreationDate'].dt.month - 1) // 3) + 1).astype(str)\n",
    "all_df['YearQuarter'] = year_2d_s + 'Q' + quarter_s\n",
    "all_df.sample(5)"
   ]
  },
  {
   "cell_type": "markdown",
   "metadata": {},
   "source": [
    "To track deep learning questions rate let's create appropriate column 'DeepLearningRate', which shows percentage of deep learning questions to the all questions."
   ]
  },
  {
   "cell_type": "code",
   "execution_count": 33,
   "metadata": {
    "collapsed": false
   },
   "outputs": [
    {
     "data": {
      "text/html": [
       "<div>\n",
       "<style scoped>\n",
       "    .dataframe tbody tr th:only-of-type {\n",
       "        vertical-align: middle;\n",
       "    }\n",
       "\n",
       "    .dataframe tbody tr th {\n",
       "        vertical-align: top;\n",
       "    }\n",
       "\n",
       "    .dataframe thead th {\n",
       "        text-align: right;\n",
       "    }\n",
       "</style>\n",
       "<table border=\"1\" class=\"dataframe\">\n",
       "  <thead>\n",
       "    <tr style=\"text-align: right;\">\n",
       "      <th></th>\n",
       "      <th>DeepLearningQuestions</th>\n",
       "      <th>AllQuestions</th>\n",
       "      <th>DeepLearningRate</th>\n",
       "    </tr>\n",
       "    <tr>\n",
       "      <th>YearQuarter</th>\n",
       "      <th></th>\n",
       "      <th></th>\n",
       "      <th></th>\n",
       "    </tr>\n",
       "  </thead>\n",
       "  <tbody>\n",
       "    <tr>\n",
       "      <th>15Q1</th>\n",
       "      <td>14.0</td>\n",
       "      <td>190</td>\n",
       "      <td>0.073684</td>\n",
       "    </tr>\n",
       "    <tr>\n",
       "      <th>15Q2</th>\n",
       "      <td>20.0</td>\n",
       "      <td>284</td>\n",
       "      <td>0.070423</td>\n",
       "    </tr>\n",
       "    <tr>\n",
       "      <th>15Q3</th>\n",
       "      <td>28.0</td>\n",
       "      <td>311</td>\n",
       "      <td>0.090032</td>\n",
       "    </tr>\n",
       "    <tr>\n",
       "      <th>15Q4</th>\n",
       "      <td>52.0</td>\n",
       "      <td>382</td>\n",
       "      <td>0.136126</td>\n",
       "    </tr>\n",
       "    <tr>\n",
       "      <th>16Q1</th>\n",
       "      <td>79.0</td>\n",
       "      <td>516</td>\n",
       "      <td>0.153101</td>\n",
       "    </tr>\n",
       "  </tbody>\n",
       "</table>\n",
       "</div>"
      ],
      "text/plain": [
       "             DeepLearningQuestions  AllQuestions  DeepLearningRate\n",
       "YearQuarter                                                       \n",
       "15Q1                          14.0           190          0.073684\n",
       "15Q2                          20.0           284          0.070423\n",
       "15Q3                          28.0           311          0.090032\n",
       "15Q4                          52.0           382          0.136126\n",
       "16Q1                          79.0           516          0.153101"
      ]
     },
     "execution_count": 33,
     "metadata": {},
     "output_type": "execute_result"
    }
   ],
   "source": [
    "deep_df = all_df.groupby('YearQuarter').agg({'IsDeepLearning': ['sum', 'count']})\n",
    "deep_df.columns = ['DeepLearningQuestions', 'AllQuestions']\n",
    "deep_df['DeepLearningRate'] = deep_df['DeepLearningQuestions'] / deep_df['AllQuestions']\n",
    "deep_df.head()"
   ]
  },
  {
   "cell_type": "code",
   "execution_count": 34,
   "metadata": {
    "collapsed": false,
    "scrolled": false
   },
   "outputs": [
    {
     "data": {
      "text/plain": [
       "<matplotlib.axes._subplots.AxesSubplot at 0x7f473f41bc50>"
      ]
     },
     "execution_count": 34,
     "metadata": {},
     "output_type": "execute_result"
    },
    {
     "data": {
      "image/png": "[encoded data removed]",
      "text/plain": [
       "<matplotlib.figure.Figure at 0x7f473f19bb70>"
      ]
     },
     "metadata": {},
     "output_type": "display_data"
    }
   ],
   "source": [
    "ax = deep_df[['AllQuestions']].plot(kind='bar', figsize=(14, 8), alpha=0.8)\n",
    "deep_df['DeepLearningRate'].plot(kind='line', ax=ax, secondary_y=True, marker='o', color='orange')"
   ]
  },
  {
   "cell_type": "markdown",
   "metadata": {
    "collapsed": true
   },
   "source": [
    "Deep learning spike falls on 2017 year, and still does not decrease. There is no doubt that this is a rather **`deep`** topic that is actively developing."
   ]
  }
 ],
 "metadata": {
  "kernelspec": {
   "display_name": "Python 3",
   "language": "python",
   "name": "python3"
  },
  "language_info": {
   "codemirror_mode": {
    "name": "ipython",
    "version": 3
   },
   "file_extension": ".py",
   "mimetype": "text/x-python",
   "name": "python",
   "nbconvert_exporter": "python",
   "pygments_lexer": "ipython3",
   "version": "3.4.3"
  }
 },
 "nbformat": 4,
 "nbformat_minor": 2
}
