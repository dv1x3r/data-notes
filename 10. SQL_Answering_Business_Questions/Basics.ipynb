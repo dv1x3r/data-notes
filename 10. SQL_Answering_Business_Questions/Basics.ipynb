{
 "cells": [
  {
   "cell_type": "markdown",
   "metadata": {},
   "source": [
    "# Guided Project: Answering Business Questions using SQL"
   ]
  },
  {
   "cell_type": "markdown",
   "metadata": {
    "collapsed": true
   },
   "source": [
    "We will answer some business questions using SQL. For datasource we have Chinook SQLite database with music store data (tracks, invoices, etc.)."
   ]
  },
  {
   "cell_type": "markdown",
   "metadata": {},
   "source": [
    "<img src=\"https://s3.amazonaws.com/dq-content/191/chinook-schema.svg\", width=600px>"
   ]
  },
  {
   "cell_type": "code",
   "execution_count": 1,
   "metadata": {
    "collapsed": false
   },
   "outputs": [
    {
     "data": {
      "text/plain": [
       "'Connected: None@chinook.db'"
      ]
     },
     "execution_count": 1,
     "metadata": {},
     "output_type": "execute_result"
    }
   ],
   "source": [
    "%%capture\n",
    "%load_ext sql\n",
    "%sql sqlite:///chinook.db"
   ]
  },
  {
   "cell_type": "markdown",
   "metadata": {},
   "source": [
    "## Overview of the Data"
   ]
  },
  {
   "cell_type": "markdown",
   "metadata": {},
   "source": [
    "Let's inspect what tables and views we actually have in our database and build some basic queries."
   ]
  },
  {
   "cell_type": "code",
   "execution_count": 2,
   "metadata": {
    "collapsed": false
   },
   "outputs": [
    {
     "name": "stdout",
     "output_type": "stream",
     "text": [
      "Done.\n"
     ]
    },
    {
     "data": {
      "text/html": [
       "<table>\n",
       "    <tr>\n",
       "        <th>type</th>\n",
       "        <th>name</th>\n",
       "    </tr>\n",
       "    <tr>\n",
       "        <td>table</td>\n",
       "        <td>album</td>\n",
       "    </tr>\n",
       "    <tr>\n",
       "        <td>table</td>\n",
       "        <td>artist</td>\n",
       "    </tr>\n",
       "    <tr>\n",
       "        <td>table</td>\n",
       "        <td>customer</td>\n",
       "    </tr>\n",
       "    <tr>\n",
       "        <td>table</td>\n",
       "        <td>employee</td>\n",
       "    </tr>\n",
       "    <tr>\n",
       "        <td>table</td>\n",
       "        <td>genre</td>\n",
       "    </tr>\n",
       "    <tr>\n",
       "        <td>table</td>\n",
       "        <td>invoice</td>\n",
       "    </tr>\n",
       "    <tr>\n",
       "        <td>table</td>\n",
       "        <td>invoice_line</td>\n",
       "    </tr>\n",
       "    <tr>\n",
       "        <td>table</td>\n",
       "        <td>media_type</td>\n",
       "    </tr>\n",
       "    <tr>\n",
       "        <td>table</td>\n",
       "        <td>playlist</td>\n",
       "    </tr>\n",
       "    <tr>\n",
       "        <td>table</td>\n",
       "        <td>playlist_track</td>\n",
       "    </tr>\n",
       "    <tr>\n",
       "        <td>table</td>\n",
       "        <td>track</td>\n",
       "    </tr>\n",
       "    <tr>\n",
       "        <td>view</td>\n",
       "        <td>invoice_albums</td>\n",
       "    </tr>\n",
       "</table>"
      ],
      "text/plain": [
       "[('table', 'album'),\n",
       " ('table', 'artist'),\n",
       " ('table', 'customer'),\n",
       " ('table', 'employee'),\n",
       " ('table', 'genre'),\n",
       " ('table', 'invoice'),\n",
       " ('table', 'invoice_line'),\n",
       " ('table', 'media_type'),\n",
       " ('table', 'playlist'),\n",
       " ('table', 'playlist_track'),\n",
       " ('table', 'track'),\n",
       " ('view', 'invoice_albums')]"
      ]
     },
     "execution_count": 2,
     "metadata": {},
     "output_type": "execute_result"
    }
   ],
   "source": [
    "%%sql\n",
    "select type, name from sqlite_master where type in ('table', 'view')"
   ]
  },
  {
   "cell_type": "code",
   "execution_count": 3,
   "metadata": {
    "collapsed": false
   },
   "outputs": [
    {
     "name": "stdout",
     "output_type": "stream",
     "text": [
      "Done.\n"
     ]
    },
    {
     "data": {
      "text/html": [
       "<table>\n",
       "    <tr>\n",
       "        <th>track_id</th>\n",
       "        <th>track_name</th>\n",
       "        <th>media_type_name</th>\n",
       "        <th>genre_name</th>\n",
       "        <th>album_title</th>\n",
       "        <th>artist_name</th>\n",
       "    </tr>\n",
       "    <tr>\n",
       "        <td>1</td>\n",
       "        <td>For Those About To Rock (We Salute You)</td>\n",
       "        <td>MPEG audio file</td>\n",
       "        <td>Rock</td>\n",
       "        <td>For Those About To Rock We Salute You</td>\n",
       "        <td>AC/DC</td>\n",
       "    </tr>\n",
       "    <tr>\n",
       "        <td>2</td>\n",
       "        <td>Balls to the Wall</td>\n",
       "        <td>Protected AAC audio file</td>\n",
       "        <td>Rock</td>\n",
       "        <td>Balls to the Wall</td>\n",
       "        <td>Accept</td>\n",
       "    </tr>\n",
       "    <tr>\n",
       "        <td>3</td>\n",
       "        <td>Fast As a Shark</td>\n",
       "        <td>Protected AAC audio file</td>\n",
       "        <td>Rock</td>\n",
       "        <td>Restless and Wild</td>\n",
       "        <td>Accept</td>\n",
       "    </tr>\n",
       "    <tr>\n",
       "        <td>4</td>\n",
       "        <td>Restless and Wild</td>\n",
       "        <td>Protected AAC audio file</td>\n",
       "        <td>Rock</td>\n",
       "        <td>Restless and Wild</td>\n",
       "        <td>Accept</td>\n",
       "    </tr>\n",
       "    <tr>\n",
       "        <td>5</td>\n",
       "        <td>Princess of the Dawn</td>\n",
       "        <td>Protected AAC audio file</td>\n",
       "        <td>Rock</td>\n",
       "        <td>Restless and Wild</td>\n",
       "        <td>Accept</td>\n",
       "    </tr>\n",
       "    <tr>\n",
       "        <td>6</td>\n",
       "        <td>Put The Finger On You</td>\n",
       "        <td>MPEG audio file</td>\n",
       "        <td>Rock</td>\n",
       "        <td>For Those About To Rock We Salute You</td>\n",
       "        <td>AC/DC</td>\n",
       "    </tr>\n",
       "    <tr>\n",
       "        <td>7</td>\n",
       "        <td>Let&#x27;s Get It Up</td>\n",
       "        <td>MPEG audio file</td>\n",
       "        <td>Rock</td>\n",
       "        <td>For Those About To Rock We Salute You</td>\n",
       "        <td>AC/DC</td>\n",
       "    </tr>\n",
       "    <tr>\n",
       "        <td>8</td>\n",
       "        <td>Inject The Venom</td>\n",
       "        <td>MPEG audio file</td>\n",
       "        <td>Rock</td>\n",
       "        <td>For Those About To Rock We Salute You</td>\n",
       "        <td>AC/DC</td>\n",
       "    </tr>\n",
       "    <tr>\n",
       "        <td>9</td>\n",
       "        <td>Snowballed</td>\n",
       "        <td>MPEG audio file</td>\n",
       "        <td>Rock</td>\n",
       "        <td>For Those About To Rock We Salute You</td>\n",
       "        <td>AC/DC</td>\n",
       "    </tr>\n",
       "    <tr>\n",
       "        <td>10</td>\n",
       "        <td>Evil Walks</td>\n",
       "        <td>MPEG audio file</td>\n",
       "        <td>Rock</td>\n",
       "        <td>For Those About To Rock We Salute You</td>\n",
       "        <td>AC/DC</td>\n",
       "    </tr>\n",
       "</table>"
      ],
      "text/plain": [
       "[(1, 'For Those About To Rock (We Salute You)', 'MPEG audio file', 'Rock', 'For Those About To Rock We Salute You', 'AC/DC'),\n",
       " (2, 'Balls to the Wall', 'Protected AAC audio file', 'Rock', 'Balls to the Wall', 'Accept'),\n",
       " (3, 'Fast As a Shark', 'Protected AAC audio file', 'Rock', 'Restless and Wild', 'Accept'),\n",
       " (4, 'Restless and Wild', 'Protected AAC audio file', 'Rock', 'Restless and Wild', 'Accept'),\n",
       " (5, 'Princess of the Dawn', 'Protected AAC audio file', 'Rock', 'Restless and Wild', 'Accept'),\n",
       " (6, 'Put The Finger On You', 'MPEG audio file', 'Rock', 'For Those About To Rock We Salute You', 'AC/DC'),\n",
       " (7, \"Let's Get It Up\", 'MPEG audio file', 'Rock', 'For Those About To Rock We Salute You', 'AC/DC'),\n",
       " (8, 'Inject The Venom', 'MPEG audio file', 'Rock', 'For Those About To Rock We Salute You', 'AC/DC'),\n",
       " (9, 'Snowballed', 'MPEG audio file', 'Rock', 'For Those About To Rock We Salute You', 'AC/DC'),\n",
       " (10, 'Evil Walks', 'MPEG audio file', 'Rock', 'For Those About To Rock We Salute You', 'AC/DC')]"
      ]
     },
     "execution_count": 3,
     "metadata": {},
     "output_type": "execute_result"
    }
   ],
   "source": [
    "%%sql\n",
    "select\n",
    "     tr.track_id\n",
    "    ,tr.name as track_name\n",
    "    ,mt.name as media_type_name\n",
    "    ,g.name as genre_name\n",
    "    ,al.title as album_title\n",
    "    ,ar.name as artist_name\n",
    "from track tr\n",
    "    join media_type mt on mt.media_type_id = tr.media_type_id\n",
    "    join genre g on g.genre_id = tr.genre_id\n",
    "    join album al on al.album_id = tr.album_id\n",
    "    join artist ar on ar.artist_id = al.artist_id\n",
    "limit 10"
   ]
  },
  {
   "cell_type": "code",
   "execution_count": 4,
   "metadata": {
    "collapsed": false
   },
   "outputs": [
    {
     "name": "stdout",
     "output_type": "stream",
     "text": [
      "Done.\n"
     ]
    },
    {
     "data": {
      "text/html": [
       "<table>\n",
       "    <tr>\n",
       "        <th>customer_company</th>\n",
       "        <th>songs_sold</th>\n",
       "        <th>invoice_amount</th>\n",
       "    </tr>\n",
       "    <tr>\n",
       "        <td>None</td>\n",
       "        <td>3961</td>\n",
       "        <td>3921.39</td>\n",
       "    </tr>\n",
       "    <tr>\n",
       "        <td>JetBrains s.r.o.</td>\n",
       "        <td>146</td>\n",
       "        <td>144.54</td>\n",
       "    </tr>\n",
       "    <tr>\n",
       "        <td>Embraer - Empresa Brasileira de Aeronáutica S.A.</td>\n",
       "        <td>110</td>\n",
       "        <td>108.9</td>\n",
       "    </tr>\n",
       "    <tr>\n",
       "        <td>Microsoft Corporation</td>\n",
       "        <td>99</td>\n",
       "        <td>98.01</td>\n",
       "    </tr>\n",
       "    <tr>\n",
       "        <td>Riotur</td>\n",
       "        <td>83</td>\n",
       "        <td>82.17</td>\n",
       "    </tr>\n",
       "    <tr>\n",
       "        <td>Google Inc.</td>\n",
       "        <td>75</td>\n",
       "        <td>74.25</td>\n",
       "    </tr>\n",
       "    <tr>\n",
       "        <td>Banco do Brasil S.A.</td>\n",
       "        <td>70</td>\n",
       "        <td>69.3</td>\n",
       "    </tr>\n",
       "    <tr>\n",
       "        <td>Rogers Canada</td>\n",
       "        <td>67</td>\n",
       "        <td>66.33</td>\n",
       "    </tr>\n",
       "    <tr>\n",
       "        <td>Woodstock Discos</td>\n",
       "        <td>61</td>\n",
       "        <td>60.39</td>\n",
       "    </tr>\n",
       "    <tr>\n",
       "        <td>Apple Inc.</td>\n",
       "        <td>55</td>\n",
       "        <td>54.45</td>\n",
       "    </tr>\n",
       "</table>"
      ],
      "text/plain": [
       "[(None, 3961, 3921.39),\n",
       " ('JetBrains s.r.o.', 146, 144.54),\n",
       " ('Embraer - Empresa Brasileira de Aeronáutica S.A.', 110, 108.9),\n",
       " ('Microsoft Corporation', 99, 98.01),\n",
       " ('Riotur', 83, 82.17),\n",
       " ('Google Inc.', 75, 74.25),\n",
       " ('Banco do Brasil S.A.', 70, 69.3),\n",
       " ('Rogers Canada', 67, 66.33),\n",
       " ('Woodstock Discos', 61, 60.39),\n",
       " ('Apple Inc.', 55, 54.45)]"
      ]
     },
     "execution_count": 4,
     "metadata": {},
     "output_type": "execute_result"
    }
   ],
   "source": [
    "%%sql\n",
    "select\n",
    "    cus.company as customer_company\n",
    "    ,sum(il.quantity) as songs_sold\n",
    "    ,round(sum(il.unit_price * il.quantity), 2) as invoice_amount\n",
    "from invoice_line il\n",
    "    join invoice i on i.invoice_id = il.invoice_id\n",
    "    join customer cus on cus.customer_id = i.customer_id\n",
    "group by cus.company\n",
    "order by 3 desc\n",
    "limit 10"
   ]
  },
  {
   "cell_type": "markdown",
   "metadata": {},
   "source": [
    "## Selecting Albums to Purchase"
   ]
  },
  {
   "cell_type": "markdown",
   "metadata": {},
   "source": [
    "Business needs to know the most profitable music genres, and if we have any recommendations for Hip-Hop, Punk, Pop or Blues genres."
   ]
  },
  {
   "cell_type": "code",
   "execution_count": 5,
   "metadata": {
    "collapsed": false
   },
   "outputs": [
    {
     "name": "stdout",
     "output_type": "stream",
     "text": [
      "Done.\n"
     ]
    },
    {
     "data": {
      "text/html": [
       "<table>\n",
       "    <tr>\n",
       "        <th>genre_name</th>\n",
       "        <th>track_quantity</th>\n",
       "        <th>invoice_amount</th>\n",
       "        <th>track_quantity_pct</th>\n",
       "        <th>invoice_amount_pct</th>\n",
       "    </tr>\n",
       "    <tr>\n",
       "        <td>Rock</td>\n",
       "        <td>561</td>\n",
       "        <td>5568.75</td>\n",
       "        <td>0.5338</td>\n",
       "        <td>0.5352</td>\n",
       "    </tr>\n",
       "    <tr>\n",
       "        <td>Alternative &amp; Punk</td>\n",
       "        <td>130</td>\n",
       "        <td>1234.53</td>\n",
       "        <td>0.1237</td>\n",
       "        <td>0.1186</td>\n",
       "    </tr>\n",
       "    <tr>\n",
       "        <td>Metal</td>\n",
       "        <td>124</td>\n",
       "        <td>1025.64</td>\n",
       "        <td>0.118</td>\n",
       "        <td>0.0986</td>\n",
       "    </tr>\n",
       "    <tr>\n",
       "        <td>R&amp;B/Soul</td>\n",
       "        <td>53</td>\n",
       "        <td>633.6</td>\n",
       "        <td>0.0504</td>\n",
       "        <td>0.0609</td>\n",
       "    </tr>\n",
       "    <tr>\n",
       "        <td>Blues</td>\n",
       "        <td>36</td>\n",
       "        <td>453.42</td>\n",
       "        <td>0.0343</td>\n",
       "        <td>0.0436</td>\n",
       "    </tr>\n",
       "    <tr>\n",
       "        <td>Alternative</td>\n",
       "        <td>35</td>\n",
       "        <td>369.27</td>\n",
       "        <td>0.0333</td>\n",
       "        <td>0.0355</td>\n",
       "    </tr>\n",
       "    <tr>\n",
       "        <td>Hip Hop/Rap</td>\n",
       "        <td>20</td>\n",
       "        <td>366.3</td>\n",
       "        <td>0.019</td>\n",
       "        <td>0.0352</td>\n",
       "    </tr>\n",
       "    <tr>\n",
       "        <td>Pop</td>\n",
       "        <td>22</td>\n",
       "        <td>201.96</td>\n",
       "        <td>0.0209</td>\n",
       "        <td>0.0194</td>\n",
       "    </tr>\n",
       "    <tr>\n",
       "        <td>Latin</td>\n",
       "        <td>22</td>\n",
       "        <td>162.36</td>\n",
       "        <td>0.0209</td>\n",
       "        <td>0.0156</td>\n",
       "    </tr>\n",
       "    <tr>\n",
       "        <td>Jazz</td>\n",
       "        <td>14</td>\n",
       "        <td>125.73</td>\n",
       "        <td>0.0133</td>\n",
       "        <td>0.0121</td>\n",
       "    </tr>\n",
       "    <tr>\n",
       "        <td>Easy Listening</td>\n",
       "        <td>13</td>\n",
       "        <td>95.04</td>\n",
       "        <td>0.0124</td>\n",
       "        <td>0.0091</td>\n",
       "    </tr>\n",
       "    <tr>\n",
       "        <td>Reggae</td>\n",
       "        <td>6</td>\n",
       "        <td>51.48</td>\n",
       "        <td>0.0057</td>\n",
       "        <td>0.0049</td>\n",
       "    </tr>\n",
       "    <tr>\n",
       "        <td>Electronica/Dance</td>\n",
       "        <td>5</td>\n",
       "        <td>34.65</td>\n",
       "        <td>0.0048</td>\n",
       "        <td>0.0033</td>\n",
       "    </tr>\n",
       "    <tr>\n",
       "        <td>Heavy Metal</td>\n",
       "        <td>3</td>\n",
       "        <td>30.69</td>\n",
       "        <td>0.0029</td>\n",
       "        <td>0.0029</td>\n",
       "    </tr>\n",
       "    <tr>\n",
       "        <td>Classical</td>\n",
       "        <td>4</td>\n",
       "        <td>21.78</td>\n",
       "        <td>0.0038</td>\n",
       "        <td>0.0021</td>\n",
       "    </tr>\n",
       "    <tr>\n",
       "        <td>Soundtrack</td>\n",
       "        <td>2</td>\n",
       "        <td>20.79</td>\n",
       "        <td>0.0019</td>\n",
       "        <td>0.002</td>\n",
       "    </tr>\n",
       "    <tr>\n",
       "        <td>TV Shows</td>\n",
       "        <td>1</td>\n",
       "        <td>9.9</td>\n",
       "        <td>0.001</td>\n",
       "        <td>0.001</td>\n",
       "    </tr>\n",
       "</table>"
      ],
      "text/plain": [
       "[('Rock', 561, 5568.75, 0.5338, 0.5352),\n",
       " ('Alternative & Punk', 130, 1234.53, 0.1237, 0.1186),\n",
       " ('Metal', 124, 1025.64, 0.118, 0.0986),\n",
       " ('R&B/Soul', 53, 633.6, 0.0504, 0.0609),\n",
       " ('Blues', 36, 453.42, 0.0343, 0.0436),\n",
       " ('Alternative', 35, 369.27, 0.0333, 0.0355),\n",
       " ('Hip Hop/Rap', 20, 366.3, 0.019, 0.0352),\n",
       " ('Pop', 22, 201.96, 0.0209, 0.0194),\n",
       " ('Latin', 22, 162.36, 0.0209, 0.0156),\n",
       " ('Jazz', 14, 125.73, 0.0133, 0.0121),\n",
       " ('Easy Listening', 13, 95.04, 0.0124, 0.0091),\n",
       " ('Reggae', 6, 51.48, 0.0057, 0.0049),\n",
       " ('Electronica/Dance', 5, 34.65, 0.0048, 0.0033),\n",
       " ('Heavy Metal', 3, 30.69, 0.0029, 0.0029),\n",
       " ('Classical', 4, 21.78, 0.0038, 0.0021),\n",
       " ('Soundtrack', 2, 20.79, 0.0019, 0.002),\n",
       " ('TV Shows', 1, 9.9, 0.001, 0.001)]"
      ]
     },
     "execution_count": 5,
     "metadata": {},
     "output_type": "execute_result"
    }
   ],
   "source": [
    "%%sql\n",
    "with genre_purchases as (\n",
    "select\n",
    "    g.name as genre_name\n",
    "    ,sum(il.quantity) as track_quantity\n",
    "    ,sum(i.total) as invoice_amount\n",
    "from invoice_line il\n",
    "    join invoice i on i.invoice_id = il.invoice_id\n",
    "    join track tr on tr.track_id = il.track_id\n",
    "    join genre g on g.genre_id = tr.genre_id\n",
    "where i.billing_country = 'USA'\n",
    "group by g.name\n",
    ")\n",
    "\n",
    "select\n",
    "    gp.genre_name\n",
    "    ,gp.track_quantity\n",
    "    ,round(gp.invoice_amount, 2) as invoice_amount\n",
    "    ,round(cast(gp.track_quantity as float) / tot.total_track_quantity, 4) as track_quantity_pct\n",
    "    ,round(cast(gp.invoice_amount as float) / tot.total_invoice_amount, 4) as invoice_amount_pct\n",
    "from genre_purchases gp\n",
    "    cross join (\n",
    "        select\n",
    "            sum(track_quantity) as total_track_quantity\n",
    "            ,sum(invoice_amount) as total_invoice_amount\n",
    "        from genre_purchases\n",
    "    ) tot\n",
    "order by 5 desc"
   ]
  },
  {
   "cell_type": "markdown",
   "metadata": {},
   "source": [
    "Punk (11%) comes second in the list right after the **Rock** (53%) compositions and could be a great opportunity to make good revenue. **Blues** (4%), **Hip-Hop** (3%) and **Pop** (2%) are not so popular genres, and it depends how much money we have got from these artists."
   ]
  },
  {
   "cell_type": "markdown",
   "metadata": {},
   "source": [
    "## Analyzing Employee Sales Performance"
   ]
  },
  {
   "cell_type": "markdown",
   "metadata": {},
   "source": [
    "What is the total dollar amount of sales assigned to each sales support agent within the company?"
   ]
  },
  {
   "cell_type": "code",
   "execution_count": 6,
   "metadata": {
    "collapsed": false,
    "scrolled": true
   },
   "outputs": [
    {
     "name": "stdout",
     "output_type": "stream",
     "text": [
      "Done.\n"
     ]
    },
    {
     "data": {
      "text/html": [
       "<table>\n",
       "    <tr>\n",
       "        <th>employee_name</th>\n",
       "        <th>employee_title</th>\n",
       "        <th>country</th>\n",
       "        <th>state</th>\n",
       "        <th>city</th>\n",
       "        <th>hire_date</th>\n",
       "        <th>age</th>\n",
       "        <th>invoice_amount</th>\n",
       "    </tr>\n",
       "    <tr>\n",
       "        <td>Jane Peacock</td>\n",
       "        <td>Sales Support Agent</td>\n",
       "        <td>Canada</td>\n",
       "        <td>AB</td>\n",
       "        <td>Calgary</td>\n",
       "        <td>2017-04-01 00:00:00</td>\n",
       "        <td>47</td>\n",
       "        <td>1731.51</td>\n",
       "    </tr>\n",
       "    <tr>\n",
       "        <td>Margaret Park</td>\n",
       "        <td>Sales Support Agent</td>\n",
       "        <td>Canada</td>\n",
       "        <td>AB</td>\n",
       "        <td>Calgary</td>\n",
       "        <td>2017-05-03 00:00:00</td>\n",
       "        <td>73</td>\n",
       "        <td>1584.0</td>\n",
       "    </tr>\n",
       "    <tr>\n",
       "        <td>Steve Johnson</td>\n",
       "        <td>Sales Support Agent</td>\n",
       "        <td>Canada</td>\n",
       "        <td>AB</td>\n",
       "        <td>Calgary</td>\n",
       "        <td>2017-10-17 00:00:00</td>\n",
       "        <td>55</td>\n",
       "        <td>1393.92</td>\n",
       "    </tr>\n",
       "</table>"
      ],
      "text/plain": [
       "[('Jane Peacock', 'Sales Support Agent', 'Canada', 'AB', 'Calgary', '2017-04-01 00:00:00', 47, 1731.51),\n",
       " ('Margaret Park', 'Sales Support Agent', 'Canada', 'AB', 'Calgary', '2017-05-03 00:00:00', 73, 1584.0),\n",
       " ('Steve Johnson', 'Sales Support Agent', 'Canada', 'AB', 'Calgary', '2017-10-17 00:00:00', 55, 1393.92)]"
      ]
     },
     "execution_count": 6,
     "metadata": {},
     "output_type": "execute_result"
    }
   ],
   "source": [
    "%%sql\n",
    "select\n",
    "    e.first_name || \" \" || e.last_name as employee_name\n",
    "    ,e.title as employee_title\n",
    "    ,e.country\n",
    "    ,e.state\n",
    "    ,e.city\n",
    "    ,e.hire_date\n",
    "    ,2020 - strftime(\"%Y\", e.birthdate) as age\n",
    "    ,round(sum(i.total), 2) as invoice_amount\n",
    "from invoice i\n",
    "    join customer c on c.customer_id = i.customer_id\n",
    "    join employee e on e.employee_id = c.support_rep_id\n",
    "group by e.first_name, e.last_name, e.title, e.country, e.state, e.city, e.hire_date, e.birthdate\n",
    "order by sum(i.total) desc"
   ]
  },
  {
   "cell_type": "code",
   "execution_count": 7,
   "metadata": {
    "collapsed": false,
    "scrolled": false
   },
   "outputs": [
    {
     "name": "stdout",
     "output_type": "stream",
     "text": [
      "Done.\n"
     ]
    },
    {
     "data": {
      "text/html": [
       "<table>\n",
       "    <tr>\n",
       "        <th>1731.51 + 1584 + 1393.92</th>\n",
       "        <th>round(sum(total), 2)</th>\n",
       "    </tr>\n",
       "    <tr>\n",
       "        <td>4709.43</td>\n",
       "        <td>4709.43</td>\n",
       "    </tr>\n",
       "</table>"
      ],
      "text/plain": [
       "[(4709.43, 4709.43)]"
      ]
     },
     "execution_count": 7,
     "metadata": {},
     "output_type": "execute_result"
    }
   ],
   "source": [
    "%%sql\n",
    "-- Double check just to make sure amount is correct\n",
    "select\n",
    "    1731.51 + 1584 + 1393.92\n",
    "    ,round(sum(total), 2)\n",
    "from invoice"
   ]
  },
  {
   "cell_type": "markdown",
   "metadata": {},
   "source": [
    "While there is no correlation between employee age and invoice amount, the difference may occur due the hire date. The longer an employee works, the more money he brings."
   ]
  },
  {
   "cell_type": "markdown",
   "metadata": {},
   "source": [
    "## Analyzing Sales by Country"
   ]
  },
  {
   "cell_type": "markdown",
   "metadata": {},
   "source": [
    "Collate data on purchases from different countries. A country which has only one customer should be grouped as \"Other\"."
   ]
  },
  {
   "cell_type": "code",
   "execution_count": 8,
   "metadata": {
    "collapsed": false
   },
   "outputs": [
    {
     "name": "stdout",
     "output_type": "stream",
     "text": [
      "Done.\n"
     ]
    },
    {
     "data": {
      "text/html": [
       "<table>\n",
       "    <tr>\n",
       "        <th>country_group</th>\n",
       "        <th>number_of_customers</th>\n",
       "        <th>number_of_invoices</th>\n",
       "        <th>invoice_amount</th>\n",
       "        <th>avg_customer_amount</th>\n",
       "        <th>avg_invoice_amount</th>\n",
       "    </tr>\n",
       "    <tr>\n",
       "        <td>USA</td>\n",
       "        <td>13</td>\n",
       "        <td>131</td>\n",
       "        <td>1040.49</td>\n",
       "        <td>80.04</td>\n",
       "        <td>7.94</td>\n",
       "    </tr>\n",
       "    <tr>\n",
       "        <td>Canada</td>\n",
       "        <td>8</td>\n",
       "        <td>76</td>\n",
       "        <td>535.59</td>\n",
       "        <td>66.95</td>\n",
       "        <td>7.05</td>\n",
       "    </tr>\n",
       "    <tr>\n",
       "        <td>Brazil</td>\n",
       "        <td>5</td>\n",
       "        <td>61</td>\n",
       "        <td>427.68</td>\n",
       "        <td>85.54</td>\n",
       "        <td>7.01</td>\n",
       "    </tr>\n",
       "    <tr>\n",
       "        <td>France</td>\n",
       "        <td>5</td>\n",
       "        <td>50</td>\n",
       "        <td>389.07</td>\n",
       "        <td>77.81</td>\n",
       "        <td>7.78</td>\n",
       "    </tr>\n",
       "    <tr>\n",
       "        <td>Germany</td>\n",
       "        <td>4</td>\n",
       "        <td>41</td>\n",
       "        <td>334.62</td>\n",
       "        <td>83.66</td>\n",
       "        <td>8.16</td>\n",
       "    </tr>\n",
       "    <tr>\n",
       "        <td>Czech Republic</td>\n",
       "        <td>2</td>\n",
       "        <td>30</td>\n",
       "        <td>273.24</td>\n",
       "        <td>136.62</td>\n",
       "        <td>9.11</td>\n",
       "    </tr>\n",
       "    <tr>\n",
       "        <td>United Kingdom</td>\n",
       "        <td>3</td>\n",
       "        <td>28</td>\n",
       "        <td>245.52</td>\n",
       "        <td>81.84</td>\n",
       "        <td>8.77</td>\n",
       "    </tr>\n",
       "    <tr>\n",
       "        <td>Portugal</td>\n",
       "        <td>2</td>\n",
       "        <td>29</td>\n",
       "        <td>185.13</td>\n",
       "        <td>92.57</td>\n",
       "        <td>6.38</td>\n",
       "    </tr>\n",
       "    <tr>\n",
       "        <td>India</td>\n",
       "        <td>2</td>\n",
       "        <td>21</td>\n",
       "        <td>183.15</td>\n",
       "        <td>91.57</td>\n",
       "        <td>8.72</td>\n",
       "    </tr>\n",
       "    <tr>\n",
       "        <td>Other</td>\n",
       "        <td>15</td>\n",
       "        <td>147</td>\n",
       "        <td>1094.94</td>\n",
       "        <td>73.0</td>\n",
       "        <td>7.45</td>\n",
       "    </tr>\n",
       "</table>"
      ],
      "text/plain": [
       "[('USA', 13, 131, 1040.49, 80.04, 7.94),\n",
       " ('Canada', 8, 76, 535.59, 66.95, 7.05),\n",
       " ('Brazil', 5, 61, 427.68, 85.54, 7.01),\n",
       " ('France', 5, 50, 389.07, 77.81, 7.78),\n",
       " ('Germany', 4, 41, 334.62, 83.66, 8.16),\n",
       " ('Czech Republic', 2, 30, 273.24, 136.62, 9.11),\n",
       " ('United Kingdom', 3, 28, 245.52, 81.84, 8.77),\n",
       " ('Portugal', 2, 29, 185.13, 92.57, 6.38),\n",
       " ('India', 2, 21, 183.15, 91.57, 8.72),\n",
       " ('Other', 15, 147, 1094.94, 73.0, 7.45)]"
      ]
     },
     "execution_count": 8,
     "metadata": {},
     "output_type": "execute_result"
    }
   ],
   "source": [
    "%%sql\n",
    "select\n",
    "    country_group\n",
    "    ,number_of_customers\n",
    "    ,number_of_invoices\n",
    "    ,round(invoice_amount, 2) as invoice_amount\n",
    "    ,round(cast(invoice_amount as float) / number_of_customers, 2) as avg_customer_amount\n",
    "    ,round(cast(invoice_amount as float) / number_of_invoices, 2) as avg_invoice_amount\n",
    "from (\n",
    "    select\n",
    "        cgr.country_group\n",
    "        ,case when cgr.country_group = 'Other' then 1 else 0 end as country_sort\n",
    "        ,count(distinct i.customer_id) as number_of_customers\n",
    "        ,count(*) as number_of_invoices\n",
    "        ,sum(i.total) as invoice_amount\n",
    "    from invoice i\n",
    "        inner join (\n",
    "            select\n",
    "                billing_country\n",
    "                ,case when count(distinct customer_id) = 1 then 'Other'\n",
    "                    else billing_country end as country_group\n",
    "            from invoice\n",
    "            group by billing_country        \n",
    "        ) cgr on cgr.billing_country = i.billing_country\n",
    "    group by cgr.country_group\n",
    ") c\n",
    "order by country_sort, invoice_amount desc"
   ]
  },
  {
   "cell_type": "markdown",
   "metadata": {},
   "source": [
    "Despite the small number of customers, the following countries have largest average amounts per both order and customer:\n",
    "* **Czech Republic** (2 customers, 136.62\\$ / Customer, 9.11\\$ / Order)\n",
    "* **United Kingdom** (3 customers, 81.84\\$ / Customer, 8.77\\$ / Order)\n",
    "* **India** (2 customers, 91.57\\$ / Customer, 8.72\\$ / Invoice)  "
   ]
  },
  {
   "cell_type": "markdown",
   "metadata": {
    "collapsed": true
   },
   "source": [
    "## Albums vs Individual Tracks "
   ]
  },
  {
   "cell_type": "markdown",
   "metadata": {},
   "source": [
    "Categorize each invoice as either an album purchase or not, and calculate number of invoices and percentage of invoices. This is a tricky one, because we does not know how to handle invoice with full album plus several songs from another album. We will provide two different definitions:\n",
    "\n",
    "* In the first one we will define \"album purchase\" as following: An invoice containing full albums only.\n",
    "* The second one: An invoice containing at least one full album."
   ]
  },
  {
   "cell_type": "code",
   "execution_count": 9,
   "metadata": {
    "collapsed": false,
    "scrolled": true
   },
   "outputs": [
    {
     "name": "stdout",
     "output_type": "stream",
     "text": [
      "Done.\n",
      "Done.\n"
     ]
    },
    {
     "data": {
      "text/plain": [
       "[]"
      ]
     },
     "execution_count": 9,
     "metadata": {},
     "output_type": "execute_result"
    }
   ],
   "source": [
    "%%sql\n",
    "drop view if exists invoice_albums;\n",
    "create view invoice_albums as\n",
    "    \n",
    "with compare as (\n",
    "    select\n",
    "        ia.invoice_id\n",
    "        ,ia.album_id\n",
    "        ,min(itr.track_id is not null) as full_album\n",
    "    from (\n",
    "        select distinct il.invoice_id, tr.album_id\n",
    "        from invoice_line il join track tr on tr.track_id = il.track_id\n",
    "    ) ia\n",
    "        left join track tr on tr.album_id = ia.album_id\n",
    "        left join invoice_line itr on itr.invoice_id = ia.invoice_id\n",
    "            and itr.track_id = tr.track_id\n",
    "    group by ia.invoice_id, ia.album_id\n",
    ")\n",
    "\n",
    "select\n",
    "    invoice_id\n",
    "    ,count(*) as total_albums\n",
    "    ,sum(full_album) as full_albums\n",
    "from compare\n",
    "group by invoice_id"
   ]
  },
  {
   "cell_type": "markdown",
   "metadata": {},
   "source": [
    "The query with invoices containing full albums only."
   ]
  },
  {
   "cell_type": "code",
   "execution_count": 10,
   "metadata": {
    "collapsed": false
   },
   "outputs": [
    {
     "name": "stdout",
     "output_type": "stream",
     "text": [
      "Done.\n"
     ]
    },
    {
     "data": {
      "text/html": [
       "<table>\n",
       "    <tr>\n",
       "        <th>invoice_type</th>\n",
       "        <th>invoices</th>\n",
       "        <th>invoices_pct</th>\n",
       "    </tr>\n",
       "    <tr>\n",
       "        <td>Full Album</td>\n",
       "        <td>114</td>\n",
       "        <td>0.19</td>\n",
       "    </tr>\n",
       "    <tr>\n",
       "        <td>Non Album</td>\n",
       "        <td>500</td>\n",
       "        <td>0.81</td>\n",
       "    </tr>\n",
       "</table>"
      ],
      "text/plain": [
       "[('Full Album', 114, 0.19), ('Non Album', 500, 0.81)]"
      ]
     },
     "execution_count": 10,
     "metadata": {},
     "output_type": "execute_result"
    }
   ],
   "source": [
    "%%sql\n",
    "select\n",
    "    case\n",
    "        when full_albums > 0 and total_albums = full_albums\n",
    "            then 'Full Album' else 'Non Album' end as invoice_type\n",
    "    ,count(*) as invoices\n",
    "    ,round(cast(count(*) as float) / (select count(*) from invoice), 2) as invoices_pct\n",
    "from invoice_albums\n",
    "group by 1"
   ]
  },
  {
   "cell_type": "markdown",
   "metadata": {},
   "source": [
    "The query with invoices containing at least one full album."
   ]
  },
  {
   "cell_type": "code",
   "execution_count": 11,
   "metadata": {
    "collapsed": false
   },
   "outputs": [
    {
     "name": "stdout",
     "output_type": "stream",
     "text": [
      "Done.\n"
     ]
    },
    {
     "data": {
      "text/html": [
       "<table>\n",
       "    <tr>\n",
       "        <th>invoice_type</th>\n",
       "        <th>invoices</th>\n",
       "        <th>invoices_pct</th>\n",
       "    </tr>\n",
       "    <tr>\n",
       "        <td>Full Album</td>\n",
       "        <td>201</td>\n",
       "        <td>0.33</td>\n",
       "    </tr>\n",
       "    <tr>\n",
       "        <td>Non Album</td>\n",
       "        <td>413</td>\n",
       "        <td>0.67</td>\n",
       "    </tr>\n",
       "</table>"
      ],
      "text/plain": [
       "[('Full Album', 201, 0.33), ('Non Album', 413, 0.67)]"
      ]
     },
     "execution_count": 11,
     "metadata": {},
     "output_type": "execute_result"
    }
   ],
   "source": [
    "%%sql\n",
    "select\n",
    "    case\n",
    "        when full_albums > 0 then 'Full Album' else 'Non Album' end as invoice_type\n",
    "    ,count(*) as invoices\n",
    "    ,round(cast(count(*) as float) / (select count(*) from invoice), 2) as invoices_pct\n",
    "from invoice_albums\n",
    "group by 1"
   ]
  },
  {
   "cell_type": "markdown",
   "metadata": {},
   "source": [
    "Business is currently considering to purchase only the most popular tracks from each album, instead of purchasing every track from an album. This could lead to losing from **20% to 30%** of revenue."
   ]
  },
  {
   "cell_type": "code",
   "execution_count": 12,
   "metadata": {
    "collapsed": false
   },
   "outputs": [
    {
     "name": "stdout",
     "output_type": "stream",
     "text": [
      "Done.\n"
     ]
    },
    {
     "data": {
      "text/html": [
       "<table>\n",
       "    <tr>\n",
       "        <th>invoice_type</th>\n",
       "        <th>invoices</th>\n",
       "        <th>invoices_pct</th>\n",
       "    </tr>\n",
       "    <tr>\n",
       "        <td>Full Album</td>\n",
       "        <td>117</td>\n",
       "        <td>0.19</td>\n",
       "    </tr>\n",
       "    <tr>\n",
       "        <td>Non Album</td>\n",
       "        <td>497</td>\n",
       "        <td>0.81</td>\n",
       "    </tr>\n",
       "</table>"
      ],
      "text/plain": [
       "[('Full Album', 117, 0.19), ('Non Album', 497, 0.81)]"
      ]
     },
     "execution_count": 12,
     "metadata": {},
     "output_type": "execute_result"
    }
   ],
   "source": [
    "%%sql -- query using 'except' statement (less optimized due the selects in select what is slow af)\n",
    "\n",
    "with missing as (\n",
    "    select\n",
    "        invoice_id\n",
    "        ,(\n",
    "            select count(*)\n",
    "            from (\n",
    "                -- All album tracks\n",
    "                select tr.track_id from track tr\n",
    "                where tr.album_id = ifa.first_album\n",
    "                \n",
    "                except\n",
    "                \n",
    "                -- All invoiced tracks\n",
    "                select il.track_id from invoice_line il\n",
    "                where il.invoice_id = ifa.invoice_id\n",
    "            ) al_diff\n",
    "        ) as missing_tracks\n",
    "    from (\n",
    "        select \n",
    "            il.invoice_id\n",
    "            ,min(tr.album_id) as first_album\n",
    "        from invoice_line il join track tr on tr.track_id = il.track_id\n",
    "        group by il.invoice_id\n",
    "    ) ifa\n",
    ")\n",
    "\n",
    "select\n",
    "    case when missing_tracks = 0 then 'Full Album' else 'Non Album' end as invoice_type\n",
    "    ,count(*) as invoices\n",
    "    ,round(cast(count(*) as float) / (select count(*) from invoice), 2) as invoices_pct\n",
    "from missing\n",
    "group by 1"
   ]
  }
 ],
 "metadata": {
  "kernelspec": {
   "display_name": "Python 3",
   "language": "python",
   "name": "python3"
  },
  "language_info": {
   "codemirror_mode": {
    "name": "ipython",
    "version": 3
   },
   "file_extension": ".py",
   "mimetype": "text/x-python",
   "name": "python",
   "nbconvert_exporter": "python",
   "pygments_lexer": "ipython3",
   "version": "3.4.3"
  }
 },
 "nbformat": 4,
 "nbformat_minor": 2
}
